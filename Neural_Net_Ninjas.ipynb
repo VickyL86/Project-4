{
 "cells": [
  {
   "cell_type": "code",
   "execution_count": 1,
   "metadata": {},
   "outputs": [],
   "source": [
    "#pip install imbalanced-learn"
   ]
  },
  {
   "cell_type": "code",
   "execution_count": 2,
   "metadata": {},
   "outputs": [],
   "source": [
    "#pip install xgboost"
   ]
  },
  {
   "cell_type": "code",
   "execution_count": 3,
   "metadata": {},
   "outputs": [],
   "source": [
    "#pip install imbalanced-learn before running the code - used for balancing the set in the later [random forest] part of the code\n",
    "# pip install xgboost before running the code - used for the xgboost model\n",
    "#pip install codecs before running the code - used for file import to dataframe"
   ]
  },
  {
   "cell_type": "code",
   "execution_count": 4,
   "metadata": {},
   "outputs": [
    {
     "data": {
      "application/javascript": "(function(root) {\n  function now() {\n    return new Date();\n  }\n\n  var force = true;\n\n  if (typeof root._bokeh_onload_callbacks === \"undefined\" || force === true) {\n    root._bokeh_onload_callbacks = [];\n    root._bokeh_is_loading = undefined;\n  }\n\n  if (typeof (root._bokeh_timeout) === \"undefined\" || force === true) {\n    root._bokeh_timeout = Date.now() + 5000;\n    root._bokeh_failed_load = false;\n  }\n\n  function run_callbacks() {\n    try {\n      root._bokeh_onload_callbacks.forEach(function(callback) {\n        if (callback != null)\n          callback();\n      });\n    } finally {\n      delete root._bokeh_onload_callbacks\n    }\n    console.debug(\"Bokeh: all callbacks have finished\");\n  }\n\n  function load_libs(css_urls, js_urls, js_modules, callback) {\n    if (css_urls == null) css_urls = [];\n    if (js_urls == null) js_urls = [];\n    if (js_modules == null) js_modules = [];\n\n    root._bokeh_onload_callbacks.push(callback);\n    if (root._bokeh_is_loading > 0) {\n      console.debug(\"Bokeh: BokehJS is being loaded, scheduling callback at\", now());\n      return null;\n    }\n    if (js_urls.length === 0 && js_modules.length === 0) {\n      run_callbacks();\n      return null;\n    }\n    console.debug(\"Bokeh: BokehJS not loaded, scheduling load and callback at\", now());\n\n    function on_load() {\n      root._bokeh_is_loading--;\n      if (root._bokeh_is_loading === 0) {\n        console.debug(\"Bokeh: all BokehJS libraries/stylesheets loaded\");\n        run_callbacks()\n      }\n    }\n\n    function on_error() {\n      console.error(\"failed to load \" + url);\n    }\n\n    for (var i = 0; i < css_urls.length; i++) {\n      var url = css_urls[i];\n      const element = document.createElement(\"link\");\n      element.onload = on_load;\n      element.onerror = on_error;\n      element.rel = \"stylesheet\";\n      element.type = \"text/css\";\n      element.href = url;\n      console.debug(\"Bokeh: injecting link tag for BokehJS stylesheet: \", url);\n      document.body.appendChild(element);\n    }\n\n    var skip = [];\n    if (window.requirejs) {\n      window.requirejs.config({'packages': {}, 'paths': {'gridstack': 'https://cdn.jsdelivr.net/npm/gridstack@4.2.5/dist/gridstack-h5', 'notyf': 'https://cdn.jsdelivr.net/npm/notyf@3/notyf.min'}, 'shim': {'gridstack': {'exports': 'GridStack'}}});\n      require([\"gridstack\"], function(GridStack) {\n\twindow.GridStack = GridStack\n\ton_load()\n      })\n      require([\"notyf\"], function() {\n\ton_load()\n      })\n      root._bokeh_is_loading = css_urls.length + 2;\n    } else {\n      root._bokeh_is_loading = css_urls.length + js_urls.length + js_modules.length;\n    }    if (((window['GridStack'] !== undefined) && (!(window['GridStack'] instanceof HTMLElement))) || window.requirejs) {\n      var urls = ['https://cdn.holoviz.org/panel/0.14.3/dist/bundled/gridstack/gridstack@4.2.5/dist/gridstack-h5.js'];\n      for (var i = 0; i < urls.length; i++) {\n        skip.push(urls[i])\n      }\n    }    if (((window['Notyf'] !== undefined) && (!(window['Notyf'] instanceof HTMLElement))) || window.requirejs) {\n      var urls = ['https://cdn.holoviz.org/panel/0.14.3/dist/bundled/notificationarea/notyf@3/notyf.min.js'];\n      for (var i = 0; i < urls.length; i++) {\n        skip.push(urls[i])\n      }\n    }    for (var i = 0; i < js_urls.length; i++) {\n      var url = js_urls[i];\n      if (skip.indexOf(url) >= 0) {\n\tif (!window.requirejs) {\n\t  on_load();\n\t}\n\tcontinue;\n      }\n      var element = document.createElement('script');\n      element.onload = on_load;\n      element.onerror = on_error;\n      element.async = false;\n      element.src = url;\n      console.debug(\"Bokeh: injecting script tag for BokehJS library: \", url);\n      document.head.appendChild(element);\n    }\n    for (var i = 0; i < js_modules.length; i++) {\n      var url = js_modules[i];\n      if (skip.indexOf(url) >= 0) {\n\tif (!window.requirejs) {\n\t  on_load();\n\t}\n\tcontinue;\n      }\n      var element = document.createElement('script');\n      element.onload = on_load;\n      element.onerror = on_error;\n      element.async = false;\n      element.src = url;\n      element.type = \"module\";\n      console.debug(\"Bokeh: injecting script tag for BokehJS library: \", url);\n      document.head.appendChild(element);\n    }\n    if (!js_urls.length && !js_modules.length) {\n      on_load()\n    }\n  };\n\n  function inject_raw_css(css) {\n    const element = document.createElement(\"style\");\n    element.appendChild(document.createTextNode(css));\n    document.body.appendChild(element);\n  }\n\n  var js_urls = [\"https://cdn.bokeh.org/bokeh/release/bokeh-2.4.3.min.js\", \"https://cdn.bokeh.org/bokeh/release/bokeh-gl-2.4.3.min.js\", \"https://cdn.bokeh.org/bokeh/release/bokeh-widgets-2.4.3.min.js\", \"https://cdn.bokeh.org/bokeh/release/bokeh-tables-2.4.3.min.js\", \"https://cdn.bokeh.org/bokeh/release/bokeh-mathjax-2.4.3.min.js\", \"https://unpkg.com/@holoviz/panel@0.14.3/dist/panel.min.js\"];\n  var js_modules = [];\n  var css_urls = [\"https://cdn.holoviz.org/panel/0.14.3/dist/css/alerts.css\", \"https://cdn.holoviz.org/panel/0.14.3/dist/css/card.css\", \"https://cdn.holoviz.org/panel/0.14.3/dist/css/dataframe.css\", \"https://cdn.holoviz.org/panel/0.14.3/dist/css/debugger.css\", \"https://cdn.holoviz.org/panel/0.14.3/dist/css/json.css\", \"https://cdn.holoviz.org/panel/0.14.3/dist/css/loading.css\", \"https://cdn.holoviz.org/panel/0.14.3/dist/css/markdown.css\", \"https://cdn.holoviz.org/panel/0.14.3/dist/css/widgets.css\"];\n  var inline_js = [    function(Bokeh) {\n      inject_raw_css(\"\\n    .bk.pn-loading.arc:before {\\n      background-image: url(\\\"data:image/svg+xml;base64,PHN2ZyB4bWxucz0iaHR0cDovL3d3dy53My5vcmcvMjAwMC9zdmciIHN0eWxlPSJtYXJnaW46IGF1dG87IGJhY2tncm91bmQ6IG5vbmU7IGRpc3BsYXk6IGJsb2NrOyBzaGFwZS1yZW5kZXJpbmc6IGF1dG87IiB2aWV3Qm94PSIwIDAgMTAwIDEwMCIgcHJlc2VydmVBc3BlY3RSYXRpbz0ieE1pZFlNaWQiPiAgPGNpcmNsZSBjeD0iNTAiIGN5PSI1MCIgZmlsbD0ibm9uZSIgc3Ryb2tlPSIjYzNjM2MzIiBzdHJva2Utd2lkdGg9IjEwIiByPSIzNSIgc3Ryb2tlLWRhc2hhcnJheT0iMTY0LjkzMzYxNDMxMzQ2NDE1IDU2Ljk3Nzg3MTQzNzgyMTM4Ij4gICAgPGFuaW1hdGVUcmFuc2Zvcm0gYXR0cmlidXRlTmFtZT0idHJhbnNmb3JtIiB0eXBlPSJyb3RhdGUiIHJlcGVhdENvdW50PSJpbmRlZmluaXRlIiBkdXI9IjFzIiB2YWx1ZXM9IjAgNTAgNTA7MzYwIDUwIDUwIiBrZXlUaW1lcz0iMDsxIj48L2FuaW1hdGVUcmFuc2Zvcm0+ICA8L2NpcmNsZT48L3N2Zz4=\\\");\\n      background-size: auto calc(min(50%, 400px));\\n    }\\n    \");\n    },    function(Bokeh) {\n      Bokeh.set_log_level(\"info\");\n    },\nfunction(Bokeh) {} // ensure no trailing comma for IE\n  ];\n\n  function run_inline_js() {\n    if ((root.Bokeh !== undefined) || (force === true)) {\n      for (var i = 0; i < inline_js.length; i++) {\n        inline_js[i].call(root, root.Bokeh);\n      }} else if (Date.now() < root._bokeh_timeout) {\n      setTimeout(run_inline_js, 100);\n    } else if (!root._bokeh_failed_load) {\n      console.log(\"Bokeh: BokehJS failed to load within specified timeout.\");\n      root._bokeh_failed_load = true;\n    }\n  }\n\n  if (root._bokeh_is_loading === 0) {\n    console.debug(\"Bokeh: BokehJS loaded, going straight to plotting\");\n    run_inline_js();\n  } else {\n    load_libs(css_urls, js_urls, js_modules, function() {\n      console.debug(\"Bokeh: BokehJS plotting callback run at\", now());\n      run_inline_js();\n    });\n  }\n}(window));",
      "application/vnd.holoviews_load.v0+json": ""
     },
     "metadata": {},
     "output_type": "display_data"
    },
    {
     "data": {
      "application/javascript": "\nif ((window.PyViz === undefined) || (window.PyViz instanceof HTMLElement)) {\n  window.PyViz = {comms: {}, comm_status:{}, kernels:{}, receivers: {}, plot_index: []}\n}\n\n\n    function JupyterCommManager() {\n    }\n\n    JupyterCommManager.prototype.register_target = function(plot_id, comm_id, msg_handler) {\n      if (window.comm_manager || ((window.Jupyter !== undefined) && (Jupyter.notebook.kernel != null))) {\n        var comm_manager = window.comm_manager || Jupyter.notebook.kernel.comm_manager;\n        comm_manager.register_target(comm_id, function(comm) {\n          comm.on_msg(msg_handler);\n        });\n      } else if ((plot_id in window.PyViz.kernels) && (window.PyViz.kernels[plot_id])) {\n        window.PyViz.kernels[plot_id].registerCommTarget(comm_id, function(comm) {\n          comm.onMsg = msg_handler;\n        });\n      } else if (typeof google != 'undefined' && google.colab.kernel != null) {\n        google.colab.kernel.comms.registerTarget(comm_id, (comm) => {\n          var messages = comm.messages[Symbol.asyncIterator]();\n          function processIteratorResult(result) {\n            var message = result.value;\n            console.log(message)\n            var content = {data: message.data, comm_id};\n            var buffers = []\n            for (var buffer of message.buffers || []) {\n              buffers.push(new DataView(buffer))\n            }\n            var metadata = message.metadata || {};\n            var msg = {content, buffers, metadata}\n            msg_handler(msg);\n            return messages.next().then(processIteratorResult);\n          }\n          return messages.next().then(processIteratorResult);\n        })\n      }\n    }\n\n    JupyterCommManager.prototype.get_client_comm = function(plot_id, comm_id, msg_handler) {\n      if (comm_id in window.PyViz.comms) {\n        return window.PyViz.comms[comm_id];\n      } else if (window.comm_manager || ((window.Jupyter !== undefined) && (Jupyter.notebook.kernel != null))) {\n        var comm_manager = window.comm_manager || Jupyter.notebook.kernel.comm_manager;\n        var comm = comm_manager.new_comm(comm_id, {}, {}, {}, comm_id);\n        if (msg_handler) {\n          comm.on_msg(msg_handler);\n        }\n      } else if ((plot_id in window.PyViz.kernels) && (window.PyViz.kernels[plot_id])) {\n        var comm = window.PyViz.kernels[plot_id].connectToComm(comm_id);\n        comm.open();\n        if (msg_handler) {\n          comm.onMsg = msg_handler;\n        }\n      } else if (typeof google != 'undefined' && google.colab.kernel != null) {\n        var comm_promise = google.colab.kernel.comms.open(comm_id)\n        comm_promise.then((comm) => {\n          window.PyViz.comms[comm_id] = comm;\n          if (msg_handler) {\n            var messages = comm.messages[Symbol.asyncIterator]();\n            function processIteratorResult(result) {\n              var message = result.value;\n              var content = {data: message.data};\n              var metadata = message.metadata || {comm_id};\n              var msg = {content, metadata}\n              msg_handler(msg);\n              return messages.next().then(processIteratorResult);\n            }\n            return messages.next().then(processIteratorResult);\n          }\n        }) \n        var sendClosure = (data, metadata, buffers, disposeOnDone) => {\n          return comm_promise.then((comm) => {\n            comm.send(data, metadata, buffers, disposeOnDone);\n          });\n        };\n        var comm = {\n          send: sendClosure\n        };\n      }\n      window.PyViz.comms[comm_id] = comm;\n      return comm;\n    }\n    window.PyViz.comm_manager = new JupyterCommManager();\n    \n\n\nvar JS_MIME_TYPE = 'application/javascript';\nvar HTML_MIME_TYPE = 'text/html';\nvar EXEC_MIME_TYPE = 'application/vnd.holoviews_exec.v0+json';\nvar CLASS_NAME = 'output';\n\n/**\n * Render data to the DOM node\n */\nfunction render(props, node) {\n  var div = document.createElement(\"div\");\n  var script = document.createElement(\"script\");\n  node.appendChild(div);\n  node.appendChild(script);\n}\n\n/**\n * Handle when a new output is added\n */\nfunction handle_add_output(event, handle) {\n  var output_area = handle.output_area;\n  var output = handle.output;\n  if ((output.data == undefined) || (!output.data.hasOwnProperty(EXEC_MIME_TYPE))) {\n    return\n  }\n  var id = output.metadata[EXEC_MIME_TYPE][\"id\"];\n  var toinsert = output_area.element.find(\".\" + CLASS_NAME.split(' ')[0]);\n  if (id !== undefined) {\n    var nchildren = toinsert.length;\n    var html_node = toinsert[nchildren-1].children[0];\n    html_node.innerHTML = output.data[HTML_MIME_TYPE];\n    var scripts = [];\n    var nodelist = html_node.querySelectorAll(\"script\");\n    for (var i in nodelist) {\n      if (nodelist.hasOwnProperty(i)) {\n        scripts.push(nodelist[i])\n      }\n    }\n\n    scripts.forEach( function (oldScript) {\n      var newScript = document.createElement(\"script\");\n      var attrs = [];\n      var nodemap = oldScript.attributes;\n      for (var j in nodemap) {\n        if (nodemap.hasOwnProperty(j)) {\n          attrs.push(nodemap[j])\n        }\n      }\n      attrs.forEach(function(attr) { newScript.setAttribute(attr.name, attr.value) });\n      newScript.appendChild(document.createTextNode(oldScript.innerHTML));\n      oldScript.parentNode.replaceChild(newScript, oldScript);\n    });\n    if (JS_MIME_TYPE in output.data) {\n      toinsert[nchildren-1].children[1].textContent = output.data[JS_MIME_TYPE];\n    }\n    output_area._hv_plot_id = id;\n    if ((window.Bokeh !== undefined) && (id in Bokeh.index)) {\n      window.PyViz.plot_index[id] = Bokeh.index[id];\n    } else {\n      window.PyViz.plot_index[id] = null;\n    }\n  } else if (output.metadata[EXEC_MIME_TYPE][\"server_id\"] !== undefined) {\n    var bk_div = document.createElement(\"div\");\n    bk_div.innerHTML = output.data[HTML_MIME_TYPE];\n    var script_attrs = bk_div.children[0].attributes;\n    for (var i = 0; i < script_attrs.length; i++) {\n      toinsert[toinsert.length - 1].childNodes[1].setAttribute(script_attrs[i].name, script_attrs[i].value);\n    }\n    // store reference to server id on output_area\n    output_area._bokeh_server_id = output.metadata[EXEC_MIME_TYPE][\"server_id\"];\n  }\n}\n\n/**\n * Handle when an output is cleared or removed\n */\nfunction handle_clear_output(event, handle) {\n  var id = handle.cell.output_area._hv_plot_id;\n  var server_id = handle.cell.output_area._bokeh_server_id;\n  if (((id === undefined) || !(id in PyViz.plot_index)) && (server_id !== undefined)) { return; }\n  var comm = window.PyViz.comm_manager.get_client_comm(\"hv-extension-comm\", \"hv-extension-comm\", function () {});\n  if (server_id !== null) {\n    comm.send({event_type: 'server_delete', 'id': server_id});\n    return;\n  } else if (comm !== null) {\n    comm.send({event_type: 'delete', 'id': id});\n  }\n  delete PyViz.plot_index[id];\n  if ((window.Bokeh !== undefined) & (id in window.Bokeh.index)) {\n    var doc = window.Bokeh.index[id].model.document\n    doc.clear();\n    const i = window.Bokeh.documents.indexOf(doc);\n    if (i > -1) {\n      window.Bokeh.documents.splice(i, 1);\n    }\n  }\n}\n\n/**\n * Handle kernel restart event\n */\nfunction handle_kernel_cleanup(event, handle) {\n  delete PyViz.comms[\"hv-extension-comm\"];\n  window.PyViz.plot_index = {}\n}\n\n/**\n * Handle update_display_data messages\n */\nfunction handle_update_output(event, handle) {\n  handle_clear_output(event, {cell: {output_area: handle.output_area}})\n  handle_add_output(event, handle)\n}\n\nfunction register_renderer(events, OutputArea) {\n  function append_mime(data, metadata, element) {\n    // create a DOM node to render to\n    var toinsert = this.create_output_subarea(\n    metadata,\n    CLASS_NAME,\n    EXEC_MIME_TYPE\n    );\n    this.keyboard_manager.register_events(toinsert);\n    // Render to node\n    var props = {data: data, metadata: metadata[EXEC_MIME_TYPE]};\n    render(props, toinsert[0]);\n    element.append(toinsert);\n    return toinsert\n  }\n\n  events.on('output_added.OutputArea', handle_add_output);\n  events.on('output_updated.OutputArea', handle_update_output);\n  events.on('clear_output.CodeCell', handle_clear_output);\n  events.on('delete.Cell', handle_clear_output);\n  events.on('kernel_ready.Kernel', handle_kernel_cleanup);\n\n  OutputArea.prototype.register_mime_type(EXEC_MIME_TYPE, append_mime, {\n    safe: true,\n    index: 0\n  });\n}\n\nif (window.Jupyter !== undefined) {\n  try {\n    var events = require('base/js/events');\n    var OutputArea = require('notebook/js/outputarea').OutputArea;\n    if (OutputArea.prototype.mime_types().indexOf(EXEC_MIME_TYPE) == -1) {\n      register_renderer(events, OutputArea);\n    }\n  } catch(err) {\n  }\n}\n",
      "application/vnd.holoviews_load.v0+json": ""
     },
     "metadata": {},
     "output_type": "display_data"
    },
    {
     "data": {
      "text/html": [
       "<style>.bk-root, .bk-root .bk:before, .bk-root .bk:after {\n",
       "  font-family: var(--jp-ui-font-size1);\n",
       "  font-size: var(--jp-ui-font-size1);\n",
       "  color: var(--jp-ui-font-color1);\n",
       "}\n",
       "</style>"
      ]
     },
     "metadata": {},
     "output_type": "display_data"
    }
   ],
   "source": [
    "%matplotlib inline\n",
    "# Import required libraries\n",
    "import numpy as np\n",
    "import pandas as pd\n",
    "import hvplot.pandas\n",
    "from pathlib import Path\n",
    "import seaborn as sns; sns.set(style=\"ticks\", color_codes=True)\n",
    "from sklearn.linear_model import LinearRegression, LogisticRegression\n",
    "from sklearn.metrics import confusion_matrix, classification_report, accuracy_score, mean_squared_error,mean_absolute_error, r2_score\n",
    "from sklearn.ensemble import RandomForestClassifier\n",
    "from sklearn.preprocessing import StandardScaler, LabelEncoder\n",
    "from sklearn.model_selection import train_test_split\n",
    "import matplotlib.pyplot as plt\n",
    "import plotly.graph_objs as go\n",
    "from plotly.subplots import make_subplots\n",
    "import seaborn as sns\n",
    "import plotly.express as px\n",
    "import codecs"
   ]
  },
  {
   "cell_type": "markdown",
   "metadata": {},
   "source": [
    "Dataframe edit for visuals"
   ]
  },
  {
   "cell_type": "code",
   "execution_count": 8,
   "metadata": {},
   "outputs": [
    {
     "ename": "FileNotFoundError",
     "evalue": "[Errno 2] No such file or directory: 'Resources/DataCoSupplyChainDataset_Original.csv'",
     "output_type": "error",
     "traceback": [
      "\u001b[1;31m---------------------------------------------------------------------------\u001b[0m",
      "\u001b[1;31mFileNotFoundError\u001b[0m                         Traceback (most recent call last)",
      "\u001b[1;32mc:\\Users\\lasot\\Desktop\\Documents\\Data Bootcamp\\Project-4\\Neural_Net_Ninjas.ipynb Cell 6\u001b[0m line \u001b[0;36m1\n\u001b[1;32m----> <a href='vscode-notebook-cell:/c%3A/Users/lasot/Desktop/Documents/Data%20Bootcamp/Project-4/Neural_Net_Ninjas.ipynb#W5sZmlsZQ%3D%3D?line=0'>1</a>\u001b[0m \u001b[39mwith\u001b[39;00m codecs\u001b[39m.\u001b[39;49mopen(\u001b[39m\"\u001b[39;49m\u001b[39mResources/DataCoSupplyChainDataset_Original.csv\u001b[39;49m\u001b[39m\"\u001b[39;49m, \u001b[39m'\u001b[39;49m\u001b[39mr\u001b[39;49m\u001b[39m'\u001b[39;49m, encoding\u001b[39m=\u001b[39;49m\u001b[39m'\u001b[39;49m\u001b[39mISO-8859-1\u001b[39;49m\u001b[39m'\u001b[39;49m) \u001b[39mas\u001b[39;00m f:\n\u001b[0;32m      <a href='vscode-notebook-cell:/c%3A/Users/lasot/Desktop/Documents/Data%20Bootcamp/Project-4/Neural_Net_Ninjas.ipynb#W5sZmlsZQ%3D%3D?line=1'>2</a>\u001b[0m     DataCO_df \u001b[39m=\u001b[39m pd\u001b[39m.\u001b[39mread_csv(f)\n\u001b[0;32m      <a href='vscode-notebook-cell:/c%3A/Users/lasot/Desktop/Documents/Data%20Bootcamp/Project-4/Neural_Net_Ninjas.ipynb#W5sZmlsZQ%3D%3D?line=4'>5</a>\u001b[0m DataCO_df\u001b[39m.\u001b[39mhead()\n",
      "File \u001b[1;32mc:\\Users\\lasot\\anaconda3\\lib\\codecs.py:906\u001b[0m, in \u001b[0;36mopen\u001b[1;34m(filename, mode, encoding, errors, buffering)\u001b[0m\n\u001b[0;32m    902\u001b[0m \u001b[39mif\u001b[39;00m encoding \u001b[39mis\u001b[39;00m \u001b[39mnot\u001b[39;00m \u001b[39mNone\u001b[39;00m \u001b[39mand\u001b[39;00m \\\n\u001b[0;32m    903\u001b[0m    \u001b[39m'\u001b[39m\u001b[39mb\u001b[39m\u001b[39m'\u001b[39m \u001b[39mnot\u001b[39;00m \u001b[39min\u001b[39;00m mode:\n\u001b[0;32m    904\u001b[0m     \u001b[39m# Force opening of the file in binary mode\u001b[39;00m\n\u001b[0;32m    905\u001b[0m     mode \u001b[39m=\u001b[39m mode \u001b[39m+\u001b[39m \u001b[39m'\u001b[39m\u001b[39mb\u001b[39m\u001b[39m'\u001b[39m\n\u001b[1;32m--> 906\u001b[0m file \u001b[39m=\u001b[39m builtins\u001b[39m.\u001b[39;49mopen(filename, mode, buffering)\n\u001b[0;32m    907\u001b[0m \u001b[39mif\u001b[39;00m encoding \u001b[39mis\u001b[39;00m \u001b[39mNone\u001b[39;00m:\n\u001b[0;32m    908\u001b[0m     \u001b[39mreturn\u001b[39;00m file\n",
      "\u001b[1;31mFileNotFoundError\u001b[0m: [Errno 2] No such file or directory: 'Resources/DataCoSupplyChainDataset_Original.csv'"
     ]
    }
   ],
   "source": [
    "with codecs.open(\"Resources/DataCoSupplyChainDataset_Original.csv\", 'r', encoding='ISO-8859-1') as f:\n",
    "    DataCO_df = pd.read_csv(f)\n",
    "\n",
    "\n",
    "DataCO_df.head()"
   ]
  },
  {
   "cell_type": "code",
   "execution_count": null,
   "metadata": {},
   "outputs": [
    {
     "data": {
      "text/html": [
       "<div>\n",
       "<style scoped>\n",
       "    .dataframe tbody tr th:only-of-type {\n",
       "        vertical-align: middle;\n",
       "    }\n",
       "\n",
       "    .dataframe tbody tr th {\n",
       "        vertical-align: top;\n",
       "    }\n",
       "\n",
       "    .dataframe thead th {\n",
       "        text-align: right;\n",
       "    }\n",
       "</style>\n",
       "<table border=\"1\" class=\"dataframe\">\n",
       "  <thead>\n",
       "    <tr style=\"text-align: right;\">\n",
       "      <th></th>\n",
       "      <th>Type</th>\n",
       "      <th>Days for shipping (real)</th>\n",
       "      <th>Days for shipment (scheduled)</th>\n",
       "      <th>Benefit per order</th>\n",
       "      <th>Sales per customer</th>\n",
       "      <th>Delivery Status</th>\n",
       "      <th>Late_delivery_risk</th>\n",
       "      <th>Category Id</th>\n",
       "      <th>Category Name</th>\n",
       "      <th>Customer City</th>\n",
       "      <th>...</th>\n",
       "      <th>Order Profit Per Order</th>\n",
       "      <th>Order Region</th>\n",
       "      <th>Order State</th>\n",
       "      <th>Order Status</th>\n",
       "      <th>Product Card Id</th>\n",
       "      <th>Product Category Id</th>\n",
       "      <th>Product Name</th>\n",
       "      <th>Product Price</th>\n",
       "      <th>shipping date (DateOrders)</th>\n",
       "      <th>Shipping Mode</th>\n",
       "    </tr>\n",
       "  </thead>\n",
       "  <tbody>\n",
       "    <tr>\n",
       "      <th>0</th>\n",
       "      <td>DEBIT</td>\n",
       "      <td>3</td>\n",
       "      <td>4</td>\n",
       "      <td>91.250000</td>\n",
       "      <td>314.640015</td>\n",
       "      <td>Advance shipping</td>\n",
       "      <td>0</td>\n",
       "      <td>73</td>\n",
       "      <td>Sporting Goods</td>\n",
       "      <td>Caguas</td>\n",
       "      <td>...</td>\n",
       "      <td>91.250000</td>\n",
       "      <td>Southeast Asia</td>\n",
       "      <td>Java Occidental</td>\n",
       "      <td>COMPLETE</td>\n",
       "      <td>1360</td>\n",
       "      <td>73</td>\n",
       "      <td>Smart watch</td>\n",
       "      <td>327.75</td>\n",
       "      <td>2/3/2018 22:56</td>\n",
       "      <td>Standard Class</td>\n",
       "    </tr>\n",
       "    <tr>\n",
       "      <th>1</th>\n",
       "      <td>TRANSFER</td>\n",
       "      <td>5</td>\n",
       "      <td>4</td>\n",
       "      <td>-249.089996</td>\n",
       "      <td>311.359985</td>\n",
       "      <td>Late delivery</td>\n",
       "      <td>1</td>\n",
       "      <td>73</td>\n",
       "      <td>Sporting Goods</td>\n",
       "      <td>Caguas</td>\n",
       "      <td>...</td>\n",
       "      <td>-249.089996</td>\n",
       "      <td>South Asia</td>\n",
       "      <td>Rajastán</td>\n",
       "      <td>PENDING</td>\n",
       "      <td>1360</td>\n",
       "      <td>73</td>\n",
       "      <td>Smart watch</td>\n",
       "      <td>327.75</td>\n",
       "      <td>1/18/2018 12:27</td>\n",
       "      <td>Standard Class</td>\n",
       "    </tr>\n",
       "    <tr>\n",
       "      <th>2</th>\n",
       "      <td>CASH</td>\n",
       "      <td>4</td>\n",
       "      <td>4</td>\n",
       "      <td>-247.779999</td>\n",
       "      <td>309.720001</td>\n",
       "      <td>Shipping on time</td>\n",
       "      <td>0</td>\n",
       "      <td>73</td>\n",
       "      <td>Sporting Goods</td>\n",
       "      <td>San Jose</td>\n",
       "      <td>...</td>\n",
       "      <td>-247.779999</td>\n",
       "      <td>South Asia</td>\n",
       "      <td>Rajastán</td>\n",
       "      <td>CLOSED</td>\n",
       "      <td>1360</td>\n",
       "      <td>73</td>\n",
       "      <td>Smart watch</td>\n",
       "      <td>327.75</td>\n",
       "      <td>1/17/2018 12:06</td>\n",
       "      <td>Standard Class</td>\n",
       "    </tr>\n",
       "    <tr>\n",
       "      <th>3</th>\n",
       "      <td>DEBIT</td>\n",
       "      <td>3</td>\n",
       "      <td>4</td>\n",
       "      <td>22.860001</td>\n",
       "      <td>304.809998</td>\n",
       "      <td>Advance shipping</td>\n",
       "      <td>0</td>\n",
       "      <td>73</td>\n",
       "      <td>Sporting Goods</td>\n",
       "      <td>Los Angeles</td>\n",
       "      <td>...</td>\n",
       "      <td>22.860001</td>\n",
       "      <td>Oceania</td>\n",
       "      <td>Queensland</td>\n",
       "      <td>COMPLETE</td>\n",
       "      <td>1360</td>\n",
       "      <td>73</td>\n",
       "      <td>Smart watch</td>\n",
       "      <td>327.75</td>\n",
       "      <td>1/16/2018 11:45</td>\n",
       "      <td>Standard Class</td>\n",
       "    </tr>\n",
       "    <tr>\n",
       "      <th>4</th>\n",
       "      <td>PAYMENT</td>\n",
       "      <td>2</td>\n",
       "      <td>4</td>\n",
       "      <td>134.210007</td>\n",
       "      <td>298.250000</td>\n",
       "      <td>Advance shipping</td>\n",
       "      <td>0</td>\n",
       "      <td>73</td>\n",
       "      <td>Sporting Goods</td>\n",
       "      <td>Caguas</td>\n",
       "      <td>...</td>\n",
       "      <td>134.210007</td>\n",
       "      <td>Oceania</td>\n",
       "      <td>Queensland</td>\n",
       "      <td>PENDING_PAYMENT</td>\n",
       "      <td>1360</td>\n",
       "      <td>73</td>\n",
       "      <td>Smart watch</td>\n",
       "      <td>327.75</td>\n",
       "      <td>1/15/2018 11:24</td>\n",
       "      <td>Standard Class</td>\n",
       "    </tr>\n",
       "  </tbody>\n",
       "</table>\n",
       "<p>5 rows × 44 columns</p>\n",
       "</div>"
      ],
      "text/plain": [
       "       Type  Days for shipping (real)  Days for shipment (scheduled)  \\\n",
       "0     DEBIT                         3                              4   \n",
       "1  TRANSFER                         5                              4   \n",
       "2      CASH                         4                              4   \n",
       "3     DEBIT                         3                              4   \n",
       "4   PAYMENT                         2                              4   \n",
       "\n",
       "   Benefit per order  Sales per customer   Delivery Status  \\\n",
       "0          91.250000          314.640015  Advance shipping   \n",
       "1        -249.089996          311.359985     Late delivery   \n",
       "2        -247.779999          309.720001  Shipping on time   \n",
       "3          22.860001          304.809998  Advance shipping   \n",
       "4         134.210007          298.250000  Advance shipping   \n",
       "\n",
       "   Late_delivery_risk  Category Id   Category Name Customer City  ...  \\\n",
       "0                   0           73  Sporting Goods        Caguas  ...   \n",
       "1                   1           73  Sporting Goods        Caguas  ...   \n",
       "2                   0           73  Sporting Goods      San Jose  ...   \n",
       "3                   0           73  Sporting Goods   Los Angeles  ...   \n",
       "4                   0           73  Sporting Goods        Caguas  ...   \n",
       "\n",
       "  Order Profit Per Order    Order Region      Order State     Order Status  \\\n",
       "0              91.250000  Southeast Asia  Java Occidental         COMPLETE   \n",
       "1            -249.089996      South Asia         Rajastán          PENDING   \n",
       "2            -247.779999      South Asia         Rajastán           CLOSED   \n",
       "3              22.860001         Oceania       Queensland         COMPLETE   \n",
       "4             134.210007         Oceania       Queensland  PENDING_PAYMENT   \n",
       "\n",
       "   Product Card Id  Product Category Id  Product Name  Product Price  \\\n",
       "0             1360                   73  Smart watch          327.75   \n",
       "1             1360                   73  Smart watch          327.75   \n",
       "2             1360                   73  Smart watch          327.75   \n",
       "3             1360                   73  Smart watch          327.75   \n",
       "4             1360                   73  Smart watch          327.75   \n",
       "\n",
       "   shipping date (DateOrders)   Shipping Mode  \n",
       "0              2/3/2018 22:56  Standard Class  \n",
       "1             1/18/2018 12:27  Standard Class  \n",
       "2             1/17/2018 12:06  Standard Class  \n",
       "3             1/16/2018 11:45  Standard Class  \n",
       "4             1/15/2018 11:24  Standard Class  \n",
       "\n",
       "[5 rows x 44 columns]"
      ]
     },
     "execution_count": 33,
     "metadata": {},
     "output_type": "execute_result"
    }
   ],
   "source": [
    "#drop non-beneficial columns\n",
    "\n",
    "co_data = DataCO_df.copy()\n",
    "FeatureList = ['Type', 'Days for shipping (real)', 'Days for shipment (scheduled)',\n",
    "       'Benefit per order', 'Sales per customer', 'Delivery Status',\n",
    "       'Late_delivery_risk', 'Category Id', 'Category Name', 'Customer City',\n",
    "       'Customer Country', 'Customer Id', 'Customer Segment',\n",
    "       'Customer State', 'Customer Zipcode',\n",
    "       'Department Id', 'Department Name', 'Latitude', 'Longitude', 'Market',\n",
    "       'Order City', 'Order Country', 'Order Customer Id',\n",
    "       'order date (DateOrders)', 'Order Id', 'Order Item Cardprod Id',\n",
    "       'Order Item Discount', 'Order Item Discount Rate', 'Order Item Id',\n",
    "       'Order Item Product Price', 'Order Item Profit Ratio',\n",
    "       'Order Item Quantity', 'Sales', 'Order Item Total',\n",
    "       'Order Profit Per Order', 'Order Region', 'Order State', 'Order Status',\n",
    "       'Product Card Id', 'Product Category Id', 'Product Name', 'Product Price',\n",
    "       'shipping date (DateOrders)', 'Shipping Mode']\n",
    "df_a = DataCO_df[FeatureList]\n",
    "df_a.head()"
   ]
  },
  {
   "cell_type": "markdown",
   "metadata": {},
   "source": [
    "## Visuals from initial data exploration"
   ]
  },
  {
   "cell_type": "code",
   "execution_count": null,
   "metadata": {},
   "outputs": [
    {
     "data": {
      "application/vnd.plotly.v1+json": {
       "config": {
        "plotlyServerURL": "https://plot.ly"
       },
       "data": [
        {
         "alignmentgroup": "True",
         "hovertemplate": "Number of Orders=%{marker.color}<br>Category Name=%{y}<extra></extra>",
         "legendgroup": "",
         "marker": {
          "color": [
           61,
           67,
           68,
           111,
           138,
           181,
           207,
           208,
           271,
           283,
           309,
           328,
           343,
           357,
           362,
           384,
           405,
           423,
           431,
           434,
           440,
           441,
           442,
           483,
           484,
           484,
           492,
           524,
           529,
           592,
           614,
           632,
           650,
           652,
           838,
           974,
           1070,
           1201,
           1475,
           1780,
           3156,
           10984,
           12487,
           13729,
           15540,
           17325,
           19298,
           21035,
           22246,
           24551
          ],
          "coloraxis": "coloraxis",
          "pattern": {
           "shape": ""
          }
         },
         "name": "",
         "offsetgroup": "",
         "orientation": "h",
         "showlegend": false,
         "textposition": "auto",
         "type": "bar",
         "x": [
          61,
          67,
          68,
          111,
          138,
          181,
          207,
          208,
          271,
          283,
          309,
          328,
          343,
          357,
          362,
          384,
          405,
          423,
          431,
          434,
          440,
          441,
          442,
          483,
          484,
          484,
          492,
          524,
          529,
          592,
          614,
          632,
          650,
          652,
          838,
          974,
          1070,
          1201,
          1475,
          1780,
          3156,
          10984,
          12487,
          13729,
          15540,
          17325,
          19298,
          21035,
          22246,
          24551
         ],
         "xaxis": "x",
         "y": [
          "Golf Bags & Carts",
          "Basketball",
          "As Seen on  TV!",
          "Strength Training",
          "Soccer",
          "Women's Golf Clubs",
          "Baby ",
          "Men's Clothing",
          "CDs ",
          "Men's Golf Clubs",
          "Fitness Accessories",
          "Tennis & Racquet",
          "Lacrosse",
          "Sporting Goods",
          "Health and Beauty",
          "Kids' Golf Clubs",
          "Books ",
          "Boxing & MMA",
          "Consumer Electronics",
          "Music",
          "Hunting & Shooting",
          "Golf Apparel",
          "Computers",
          "DVDs",
          "Garden",
          "Crafts",
          "Pet Supplies",
          "Golf Shoes",
          "Toys",
          "Cameras ",
          "Hockey",
          "Baseball & Softball",
          "Women's Clothing",
          "Children's Clothing",
          "Video Games",
          "Trade-In",
          "Golf Gloves",
          "Girls' Apparel",
          "Golf Balls",
          "Accessories",
          "Electronics",
          "Shop By Sport",
          "Cardio Equipment",
          "Camping & Hiking",
          "Water Sports",
          "Fishing",
          "Indoor/Outdoor Games",
          "Women's Apparel",
          "Men's Footwear",
          "Cleats"
         ],
         "yaxis": "y"
        }
       ],
       "layout": {
        "barmode": "relative",
        "coloraxis": {
         "colorbar": {
          "title": {
           "text": "Number of Orders"
          }
         },
         "colorscale": [
          [
           0,
           "#0d0887"
          ],
          [
           0.1111111111111111,
           "#46039f"
          ],
          [
           0.2222222222222222,
           "#7201a8"
          ],
          [
           0.3333333333333333,
           "#9c179e"
          ],
          [
           0.4444444444444444,
           "#bd3786"
          ],
          [
           0.5555555555555556,
           "#d8576b"
          ],
          [
           0.6666666666666666,
           "#ed7953"
          ],
          [
           0.7777777777777778,
           "#fb9f3a"
          ],
          [
           0.8888888888888888,
           "#fdca26"
          ],
          [
           1,
           "#f0f921"
          ]
         ]
        },
        "legend": {
         "tracegroupgap": 0
        },
        "margin": {
         "t": 60
        },
        "template": {
         "data": {
          "bar": [
           {
            "error_x": {
             "color": "#2a3f5f"
            },
            "error_y": {
             "color": "#2a3f5f"
            },
            "marker": {
             "line": {
              "color": "#E5ECF6",
              "width": 0.5
             },
             "pattern": {
              "fillmode": "overlay",
              "size": 10,
              "solidity": 0.2
             }
            },
            "type": "bar"
           }
          ],
          "barpolar": [
           {
            "marker": {
             "line": {
              "color": "#E5ECF6",
              "width": 0.5
             },
             "pattern": {
              "fillmode": "overlay",
              "size": 10,
              "solidity": 0.2
             }
            },
            "type": "barpolar"
           }
          ],
          "carpet": [
           {
            "aaxis": {
             "endlinecolor": "#2a3f5f",
             "gridcolor": "white",
             "linecolor": "white",
             "minorgridcolor": "white",
             "startlinecolor": "#2a3f5f"
            },
            "baxis": {
             "endlinecolor": "#2a3f5f",
             "gridcolor": "white",
             "linecolor": "white",
             "minorgridcolor": "white",
             "startlinecolor": "#2a3f5f"
            },
            "type": "carpet"
           }
          ],
          "choropleth": [
           {
            "colorbar": {
             "outlinewidth": 0,
             "ticks": ""
            },
            "type": "choropleth"
           }
          ],
          "contour": [
           {
            "colorbar": {
             "outlinewidth": 0,
             "ticks": ""
            },
            "colorscale": [
             [
              0,
              "#0d0887"
             ],
             [
              0.1111111111111111,
              "#46039f"
             ],
             [
              0.2222222222222222,
              "#7201a8"
             ],
             [
              0.3333333333333333,
              "#9c179e"
             ],
             [
              0.4444444444444444,
              "#bd3786"
             ],
             [
              0.5555555555555556,
              "#d8576b"
             ],
             [
              0.6666666666666666,
              "#ed7953"
             ],
             [
              0.7777777777777778,
              "#fb9f3a"
             ],
             [
              0.8888888888888888,
              "#fdca26"
             ],
             [
              1,
              "#f0f921"
             ]
            ],
            "type": "contour"
           }
          ],
          "contourcarpet": [
           {
            "colorbar": {
             "outlinewidth": 0,
             "ticks": ""
            },
            "type": "contourcarpet"
           }
          ],
          "heatmap": [
           {
            "colorbar": {
             "outlinewidth": 0,
             "ticks": ""
            },
            "colorscale": [
             [
              0,
              "#0d0887"
             ],
             [
              0.1111111111111111,
              "#46039f"
             ],
             [
              0.2222222222222222,
              "#7201a8"
             ],
             [
              0.3333333333333333,
              "#9c179e"
             ],
             [
              0.4444444444444444,
              "#bd3786"
             ],
             [
              0.5555555555555556,
              "#d8576b"
             ],
             [
              0.6666666666666666,
              "#ed7953"
             ],
             [
              0.7777777777777778,
              "#fb9f3a"
             ],
             [
              0.8888888888888888,
              "#fdca26"
             ],
             [
              1,
              "#f0f921"
             ]
            ],
            "type": "heatmap"
           }
          ],
          "heatmapgl": [
           {
            "colorbar": {
             "outlinewidth": 0,
             "ticks": ""
            },
            "colorscale": [
             [
              0,
              "#0d0887"
             ],
             [
              0.1111111111111111,
              "#46039f"
             ],
             [
              0.2222222222222222,
              "#7201a8"
             ],
             [
              0.3333333333333333,
              "#9c179e"
             ],
             [
              0.4444444444444444,
              "#bd3786"
             ],
             [
              0.5555555555555556,
              "#d8576b"
             ],
             [
              0.6666666666666666,
              "#ed7953"
             ],
             [
              0.7777777777777778,
              "#fb9f3a"
             ],
             [
              0.8888888888888888,
              "#fdca26"
             ],
             [
              1,
              "#f0f921"
             ]
            ],
            "type": "heatmapgl"
           }
          ],
          "histogram": [
           {
            "marker": {
             "pattern": {
              "fillmode": "overlay",
              "size": 10,
              "solidity": 0.2
             }
            },
            "type": "histogram"
           }
          ],
          "histogram2d": [
           {
            "colorbar": {
             "outlinewidth": 0,
             "ticks": ""
            },
            "colorscale": [
             [
              0,
              "#0d0887"
             ],
             [
              0.1111111111111111,
              "#46039f"
             ],
             [
              0.2222222222222222,
              "#7201a8"
             ],
             [
              0.3333333333333333,
              "#9c179e"
             ],
             [
              0.4444444444444444,
              "#bd3786"
             ],
             [
              0.5555555555555556,
              "#d8576b"
             ],
             [
              0.6666666666666666,
              "#ed7953"
             ],
             [
              0.7777777777777778,
              "#fb9f3a"
             ],
             [
              0.8888888888888888,
              "#fdca26"
             ],
             [
              1,
              "#f0f921"
             ]
            ],
            "type": "histogram2d"
           }
          ],
          "histogram2dcontour": [
           {
            "colorbar": {
             "outlinewidth": 0,
             "ticks": ""
            },
            "colorscale": [
             [
              0,
              "#0d0887"
             ],
             [
              0.1111111111111111,
              "#46039f"
             ],
             [
              0.2222222222222222,
              "#7201a8"
             ],
             [
              0.3333333333333333,
              "#9c179e"
             ],
             [
              0.4444444444444444,
              "#bd3786"
             ],
             [
              0.5555555555555556,
              "#d8576b"
             ],
             [
              0.6666666666666666,
              "#ed7953"
             ],
             [
              0.7777777777777778,
              "#fb9f3a"
             ],
             [
              0.8888888888888888,
              "#fdca26"
             ],
             [
              1,
              "#f0f921"
             ]
            ],
            "type": "histogram2dcontour"
           }
          ],
          "mesh3d": [
           {
            "colorbar": {
             "outlinewidth": 0,
             "ticks": ""
            },
            "type": "mesh3d"
           }
          ],
          "parcoords": [
           {
            "line": {
             "colorbar": {
              "outlinewidth": 0,
              "ticks": ""
             }
            },
            "type": "parcoords"
           }
          ],
          "pie": [
           {
            "automargin": true,
            "type": "pie"
           }
          ],
          "scatter": [
           {
            "fillpattern": {
             "fillmode": "overlay",
             "size": 10,
             "solidity": 0.2
            },
            "type": "scatter"
           }
          ],
          "scatter3d": [
           {
            "line": {
             "colorbar": {
              "outlinewidth": 0,
              "ticks": ""
             }
            },
            "marker": {
             "colorbar": {
              "outlinewidth": 0,
              "ticks": ""
             }
            },
            "type": "scatter3d"
           }
          ],
          "scattercarpet": [
           {
            "marker": {
             "colorbar": {
              "outlinewidth": 0,
              "ticks": ""
             }
            },
            "type": "scattercarpet"
           }
          ],
          "scattergeo": [
           {
            "marker": {
             "colorbar": {
              "outlinewidth": 0,
              "ticks": ""
             }
            },
            "type": "scattergeo"
           }
          ],
          "scattergl": [
           {
            "marker": {
             "colorbar": {
              "outlinewidth": 0,
              "ticks": ""
             }
            },
            "type": "scattergl"
           }
          ],
          "scattermapbox": [
           {
            "marker": {
             "colorbar": {
              "outlinewidth": 0,
              "ticks": ""
             }
            },
            "type": "scattermapbox"
           }
          ],
          "scatterpolar": [
           {
            "marker": {
             "colorbar": {
              "outlinewidth": 0,
              "ticks": ""
             }
            },
            "type": "scatterpolar"
           }
          ],
          "scatterpolargl": [
           {
            "marker": {
             "colorbar": {
              "outlinewidth": 0,
              "ticks": ""
             }
            },
            "type": "scatterpolargl"
           }
          ],
          "scatterternary": [
           {
            "marker": {
             "colorbar": {
              "outlinewidth": 0,
              "ticks": ""
             }
            },
            "type": "scatterternary"
           }
          ],
          "surface": [
           {
            "colorbar": {
             "outlinewidth": 0,
             "ticks": ""
            },
            "colorscale": [
             [
              0,
              "#0d0887"
             ],
             [
              0.1111111111111111,
              "#46039f"
             ],
             [
              0.2222222222222222,
              "#7201a8"
             ],
             [
              0.3333333333333333,
              "#9c179e"
             ],
             [
              0.4444444444444444,
              "#bd3786"
             ],
             [
              0.5555555555555556,
              "#d8576b"
             ],
             [
              0.6666666666666666,
              "#ed7953"
             ],
             [
              0.7777777777777778,
              "#fb9f3a"
             ],
             [
              0.8888888888888888,
              "#fdca26"
             ],
             [
              1,
              "#f0f921"
             ]
            ],
            "type": "surface"
           }
          ],
          "table": [
           {
            "cells": {
             "fill": {
              "color": "#EBF0F8"
             },
             "line": {
              "color": "white"
             }
            },
            "header": {
             "fill": {
              "color": "#C8D4E3"
             },
             "line": {
              "color": "white"
             }
            },
            "type": "table"
           }
          ]
         },
         "layout": {
          "annotationdefaults": {
           "arrowcolor": "#2a3f5f",
           "arrowhead": 0,
           "arrowwidth": 1
          },
          "autotypenumbers": "strict",
          "coloraxis": {
           "colorbar": {
            "outlinewidth": 0,
            "ticks": ""
           }
          },
          "colorscale": {
           "diverging": [
            [
             0,
             "#8e0152"
            ],
            [
             0.1,
             "#c51b7d"
            ],
            [
             0.2,
             "#de77ae"
            ],
            [
             0.3,
             "#f1b6da"
            ],
            [
             0.4,
             "#fde0ef"
            ],
            [
             0.5,
             "#f7f7f7"
            ],
            [
             0.6,
             "#e6f5d0"
            ],
            [
             0.7,
             "#b8e186"
            ],
            [
             0.8,
             "#7fbc41"
            ],
            [
             0.9,
             "#4d9221"
            ],
            [
             1,
             "#276419"
            ]
           ],
           "sequential": [
            [
             0,
             "#0d0887"
            ],
            [
             0.1111111111111111,
             "#46039f"
            ],
            [
             0.2222222222222222,
             "#7201a8"
            ],
            [
             0.3333333333333333,
             "#9c179e"
            ],
            [
             0.4444444444444444,
             "#bd3786"
            ],
            [
             0.5555555555555556,
             "#d8576b"
            ],
            [
             0.6666666666666666,
             "#ed7953"
            ],
            [
             0.7777777777777778,
             "#fb9f3a"
            ],
            [
             0.8888888888888888,
             "#fdca26"
            ],
            [
             1,
             "#f0f921"
            ]
           ],
           "sequentialminus": [
            [
             0,
             "#0d0887"
            ],
            [
             0.1111111111111111,
             "#46039f"
            ],
            [
             0.2222222222222222,
             "#7201a8"
            ],
            [
             0.3333333333333333,
             "#9c179e"
            ],
            [
             0.4444444444444444,
             "#bd3786"
            ],
            [
             0.5555555555555556,
             "#d8576b"
            ],
            [
             0.6666666666666666,
             "#ed7953"
            ],
            [
             0.7777777777777778,
             "#fb9f3a"
            ],
            [
             0.8888888888888888,
             "#fdca26"
            ],
            [
             1,
             "#f0f921"
            ]
           ]
          },
          "colorway": [
           "#636efa",
           "#EF553B",
           "#00cc96",
           "#ab63fa",
           "#FFA15A",
           "#19d3f3",
           "#FF6692",
           "#B6E880",
           "#FF97FF",
           "#FECB52"
          ],
          "font": {
           "color": "#2a3f5f"
          },
          "geo": {
           "bgcolor": "white",
           "lakecolor": "white",
           "landcolor": "#E5ECF6",
           "showlakes": true,
           "showland": true,
           "subunitcolor": "white"
          },
          "hoverlabel": {
           "align": "left"
          },
          "hovermode": "closest",
          "mapbox": {
           "style": "light"
          },
          "paper_bgcolor": "white",
          "plot_bgcolor": "#E5ECF6",
          "polar": {
           "angularaxis": {
            "gridcolor": "white",
            "linecolor": "white",
            "ticks": ""
           },
           "bgcolor": "#E5ECF6",
           "radialaxis": {
            "gridcolor": "white",
            "linecolor": "white",
            "ticks": ""
           }
          },
          "scene": {
           "xaxis": {
            "backgroundcolor": "#E5ECF6",
            "gridcolor": "white",
            "gridwidth": 2,
            "linecolor": "white",
            "showbackground": true,
            "ticks": "",
            "zerolinecolor": "white"
           },
           "yaxis": {
            "backgroundcolor": "#E5ECF6",
            "gridcolor": "white",
            "gridwidth": 2,
            "linecolor": "white",
            "showbackground": true,
            "ticks": "",
            "zerolinecolor": "white"
           },
           "zaxis": {
            "backgroundcolor": "#E5ECF6",
            "gridcolor": "white",
            "gridwidth": 2,
            "linecolor": "white",
            "showbackground": true,
            "ticks": "",
            "zerolinecolor": "white"
           }
          },
          "shapedefaults": {
           "line": {
            "color": "#2a3f5f"
           }
          },
          "ternary": {
           "aaxis": {
            "gridcolor": "white",
            "linecolor": "white",
            "ticks": ""
           },
           "baxis": {
            "gridcolor": "white",
            "linecolor": "white",
            "ticks": ""
           },
           "bgcolor": "#E5ECF6",
           "caxis": {
            "gridcolor": "white",
            "linecolor": "white",
            "ticks": ""
           }
          },
          "title": {
           "x": 0.05
          },
          "xaxis": {
           "automargin": true,
           "gridcolor": "white",
           "linecolor": "white",
           "ticks": "",
           "title": {
            "standoff": 15
           },
           "zerolinecolor": "white",
           "zerolinewidth": 2
          },
          "yaxis": {
           "automargin": true,
           "gridcolor": "white",
           "linecolor": "white",
           "ticks": "",
           "title": {
            "standoff": 15
           },
           "zerolinecolor": "white",
           "zerolinewidth": 2
          }
         }
        },
        "xaxis": {
         "anchor": "y",
         "domain": [
          0,
          1
         ],
         "title": {
          "text": "Number of Orders"
         }
        },
        "yaxis": {
         "anchor": "x",
         "domain": [
          0,
          1
         ],
         "title": {
          "text": "Category Name"
         }
        }
       }
      }
     },
     "metadata": {},
     "output_type": "display_data"
    }
   ],
   "source": [
    "#Category Name Visual\n",
    "data_Category_Name=df_a.groupby(['Category Name'])['Order Id'].count().reset_index(name='Number of Orders').sort_values(by= 'Number of Orders', ascending= True)\n",
    "px.bar(data_Category_Name, x='Number of Orders',y = 'Category Name',color ='Number of Orders')\n"
   ]
  },
  {
   "cell_type": "code",
   "execution_count": null,
   "metadata": {},
   "outputs": [
    {
     "data": {
      "application/vnd.plotly.v1+json": {
       "config": {
        "plotlyServerURL": "https://plot.ly"
       },
       "data": [
        {
         "alignmentgroup": "True",
         "hovertemplate": "Sales of Orders=%{marker.color}<br>Type=%{y}<extra></extra>",
         "legendgroup": "",
         "marker": {
          "color": [
           14076857.65884967,
           10194901.975555627,
           8490351.21226794,
           4022624.166706608
          ],
          "coloraxis": "coloraxis",
          "pattern": {
           "shape": ""
          }
         },
         "name": "",
         "offsetgroup": "",
         "orientation": "h",
         "showlegend": false,
         "textposition": "auto",
         "type": "bar",
         "x": [
          14076857.65884967,
          10194901.975555627,
          8490351.21226794,
          4022624.166706608
         ],
         "xaxis": "x",
         "y": [
          "DEBIT",
          "TRANSFER",
          "PAYMENT",
          "CASH"
         ],
         "yaxis": "y"
        }
       ],
       "layout": {
        "barmode": "relative",
        "coloraxis": {
         "colorbar": {
          "title": {
           "text": "Sales of Orders"
          }
         },
         "colorscale": [
          [
           0,
           "#0d0887"
          ],
          [
           0.1111111111111111,
           "#46039f"
          ],
          [
           0.2222222222222222,
           "#7201a8"
          ],
          [
           0.3333333333333333,
           "#9c179e"
          ],
          [
           0.4444444444444444,
           "#bd3786"
          ],
          [
           0.5555555555555556,
           "#d8576b"
          ],
          [
           0.6666666666666666,
           "#ed7953"
          ],
          [
           0.7777777777777778,
           "#fb9f3a"
          ],
          [
           0.8888888888888888,
           "#fdca26"
          ],
          [
           1,
           "#f0f921"
          ]
         ]
        },
        "legend": {
         "tracegroupgap": 0
        },
        "margin": {
         "t": 60
        },
        "template": {
         "data": {
          "bar": [
           {
            "error_x": {
             "color": "#2a3f5f"
            },
            "error_y": {
             "color": "#2a3f5f"
            },
            "marker": {
             "line": {
              "color": "#E5ECF6",
              "width": 0.5
             },
             "pattern": {
              "fillmode": "overlay",
              "size": 10,
              "solidity": 0.2
             }
            },
            "type": "bar"
           }
          ],
          "barpolar": [
           {
            "marker": {
             "line": {
              "color": "#E5ECF6",
              "width": 0.5
             },
             "pattern": {
              "fillmode": "overlay",
              "size": 10,
              "solidity": 0.2
             }
            },
            "type": "barpolar"
           }
          ],
          "carpet": [
           {
            "aaxis": {
             "endlinecolor": "#2a3f5f",
             "gridcolor": "white",
             "linecolor": "white",
             "minorgridcolor": "white",
             "startlinecolor": "#2a3f5f"
            },
            "baxis": {
             "endlinecolor": "#2a3f5f",
             "gridcolor": "white",
             "linecolor": "white",
             "minorgridcolor": "white",
             "startlinecolor": "#2a3f5f"
            },
            "type": "carpet"
           }
          ],
          "choropleth": [
           {
            "colorbar": {
             "outlinewidth": 0,
             "ticks": ""
            },
            "type": "choropleth"
           }
          ],
          "contour": [
           {
            "colorbar": {
             "outlinewidth": 0,
             "ticks": ""
            },
            "colorscale": [
             [
              0,
              "#0d0887"
             ],
             [
              0.1111111111111111,
              "#46039f"
             ],
             [
              0.2222222222222222,
              "#7201a8"
             ],
             [
              0.3333333333333333,
              "#9c179e"
             ],
             [
              0.4444444444444444,
              "#bd3786"
             ],
             [
              0.5555555555555556,
              "#d8576b"
             ],
             [
              0.6666666666666666,
              "#ed7953"
             ],
             [
              0.7777777777777778,
              "#fb9f3a"
             ],
             [
              0.8888888888888888,
              "#fdca26"
             ],
             [
              1,
              "#f0f921"
             ]
            ],
            "type": "contour"
           }
          ],
          "contourcarpet": [
           {
            "colorbar": {
             "outlinewidth": 0,
             "ticks": ""
            },
            "type": "contourcarpet"
           }
          ],
          "heatmap": [
           {
            "colorbar": {
             "outlinewidth": 0,
             "ticks": ""
            },
            "colorscale": [
             [
              0,
              "#0d0887"
             ],
             [
              0.1111111111111111,
              "#46039f"
             ],
             [
              0.2222222222222222,
              "#7201a8"
             ],
             [
              0.3333333333333333,
              "#9c179e"
             ],
             [
              0.4444444444444444,
              "#bd3786"
             ],
             [
              0.5555555555555556,
              "#d8576b"
             ],
             [
              0.6666666666666666,
              "#ed7953"
             ],
             [
              0.7777777777777778,
              "#fb9f3a"
             ],
             [
              0.8888888888888888,
              "#fdca26"
             ],
             [
              1,
              "#f0f921"
             ]
            ],
            "type": "heatmap"
           }
          ],
          "heatmapgl": [
           {
            "colorbar": {
             "outlinewidth": 0,
             "ticks": ""
            },
            "colorscale": [
             [
              0,
              "#0d0887"
             ],
             [
              0.1111111111111111,
              "#46039f"
             ],
             [
              0.2222222222222222,
              "#7201a8"
             ],
             [
              0.3333333333333333,
              "#9c179e"
             ],
             [
              0.4444444444444444,
              "#bd3786"
             ],
             [
              0.5555555555555556,
              "#d8576b"
             ],
             [
              0.6666666666666666,
              "#ed7953"
             ],
             [
              0.7777777777777778,
              "#fb9f3a"
             ],
             [
              0.8888888888888888,
              "#fdca26"
             ],
             [
              1,
              "#f0f921"
             ]
            ],
            "type": "heatmapgl"
           }
          ],
          "histogram": [
           {
            "marker": {
             "pattern": {
              "fillmode": "overlay",
              "size": 10,
              "solidity": 0.2
             }
            },
            "type": "histogram"
           }
          ],
          "histogram2d": [
           {
            "colorbar": {
             "outlinewidth": 0,
             "ticks": ""
            },
            "colorscale": [
             [
              0,
              "#0d0887"
             ],
             [
              0.1111111111111111,
              "#46039f"
             ],
             [
              0.2222222222222222,
              "#7201a8"
             ],
             [
              0.3333333333333333,
              "#9c179e"
             ],
             [
              0.4444444444444444,
              "#bd3786"
             ],
             [
              0.5555555555555556,
              "#d8576b"
             ],
             [
              0.6666666666666666,
              "#ed7953"
             ],
             [
              0.7777777777777778,
              "#fb9f3a"
             ],
             [
              0.8888888888888888,
              "#fdca26"
             ],
             [
              1,
              "#f0f921"
             ]
            ],
            "type": "histogram2d"
           }
          ],
          "histogram2dcontour": [
           {
            "colorbar": {
             "outlinewidth": 0,
             "ticks": ""
            },
            "colorscale": [
             [
              0,
              "#0d0887"
             ],
             [
              0.1111111111111111,
              "#46039f"
             ],
             [
              0.2222222222222222,
              "#7201a8"
             ],
             [
              0.3333333333333333,
              "#9c179e"
             ],
             [
              0.4444444444444444,
              "#bd3786"
             ],
             [
              0.5555555555555556,
              "#d8576b"
             ],
             [
              0.6666666666666666,
              "#ed7953"
             ],
             [
              0.7777777777777778,
              "#fb9f3a"
             ],
             [
              0.8888888888888888,
              "#fdca26"
             ],
             [
              1,
              "#f0f921"
             ]
            ],
            "type": "histogram2dcontour"
           }
          ],
          "mesh3d": [
           {
            "colorbar": {
             "outlinewidth": 0,
             "ticks": ""
            },
            "type": "mesh3d"
           }
          ],
          "parcoords": [
           {
            "line": {
             "colorbar": {
              "outlinewidth": 0,
              "ticks": ""
             }
            },
            "type": "parcoords"
           }
          ],
          "pie": [
           {
            "automargin": true,
            "type": "pie"
           }
          ],
          "scatter": [
           {
            "fillpattern": {
             "fillmode": "overlay",
             "size": 10,
             "solidity": 0.2
            },
            "type": "scatter"
           }
          ],
          "scatter3d": [
           {
            "line": {
             "colorbar": {
              "outlinewidth": 0,
              "ticks": ""
             }
            },
            "marker": {
             "colorbar": {
              "outlinewidth": 0,
              "ticks": ""
             }
            },
            "type": "scatter3d"
           }
          ],
          "scattercarpet": [
           {
            "marker": {
             "colorbar": {
              "outlinewidth": 0,
              "ticks": ""
             }
            },
            "type": "scattercarpet"
           }
          ],
          "scattergeo": [
           {
            "marker": {
             "colorbar": {
              "outlinewidth": 0,
              "ticks": ""
             }
            },
            "type": "scattergeo"
           }
          ],
          "scattergl": [
           {
            "marker": {
             "colorbar": {
              "outlinewidth": 0,
              "ticks": ""
             }
            },
            "type": "scattergl"
           }
          ],
          "scattermapbox": [
           {
            "marker": {
             "colorbar": {
              "outlinewidth": 0,
              "ticks": ""
             }
            },
            "type": "scattermapbox"
           }
          ],
          "scatterpolar": [
           {
            "marker": {
             "colorbar": {
              "outlinewidth": 0,
              "ticks": ""
             }
            },
            "type": "scatterpolar"
           }
          ],
          "scatterpolargl": [
           {
            "marker": {
             "colorbar": {
              "outlinewidth": 0,
              "ticks": ""
             }
            },
            "type": "scatterpolargl"
           }
          ],
          "scatterternary": [
           {
            "marker": {
             "colorbar": {
              "outlinewidth": 0,
              "ticks": ""
             }
            },
            "type": "scatterternary"
           }
          ],
          "surface": [
           {
            "colorbar": {
             "outlinewidth": 0,
             "ticks": ""
            },
            "colorscale": [
             [
              0,
              "#0d0887"
             ],
             [
              0.1111111111111111,
              "#46039f"
             ],
             [
              0.2222222222222222,
              "#7201a8"
             ],
             [
              0.3333333333333333,
              "#9c179e"
             ],
             [
              0.4444444444444444,
              "#bd3786"
             ],
             [
              0.5555555555555556,
              "#d8576b"
             ],
             [
              0.6666666666666666,
              "#ed7953"
             ],
             [
              0.7777777777777778,
              "#fb9f3a"
             ],
             [
              0.8888888888888888,
              "#fdca26"
             ],
             [
              1,
              "#f0f921"
             ]
            ],
            "type": "surface"
           }
          ],
          "table": [
           {
            "cells": {
             "fill": {
              "color": "#EBF0F8"
             },
             "line": {
              "color": "white"
             }
            },
            "header": {
             "fill": {
              "color": "#C8D4E3"
             },
             "line": {
              "color": "white"
             }
            },
            "type": "table"
           }
          ]
         },
         "layout": {
          "annotationdefaults": {
           "arrowcolor": "#2a3f5f",
           "arrowhead": 0,
           "arrowwidth": 1
          },
          "autotypenumbers": "strict",
          "coloraxis": {
           "colorbar": {
            "outlinewidth": 0,
            "ticks": ""
           }
          },
          "colorscale": {
           "diverging": [
            [
             0,
             "#8e0152"
            ],
            [
             0.1,
             "#c51b7d"
            ],
            [
             0.2,
             "#de77ae"
            ],
            [
             0.3,
             "#f1b6da"
            ],
            [
             0.4,
             "#fde0ef"
            ],
            [
             0.5,
             "#f7f7f7"
            ],
            [
             0.6,
             "#e6f5d0"
            ],
            [
             0.7,
             "#b8e186"
            ],
            [
             0.8,
             "#7fbc41"
            ],
            [
             0.9,
             "#4d9221"
            ],
            [
             1,
             "#276419"
            ]
           ],
           "sequential": [
            [
             0,
             "#0d0887"
            ],
            [
             0.1111111111111111,
             "#46039f"
            ],
            [
             0.2222222222222222,
             "#7201a8"
            ],
            [
             0.3333333333333333,
             "#9c179e"
            ],
            [
             0.4444444444444444,
             "#bd3786"
            ],
            [
             0.5555555555555556,
             "#d8576b"
            ],
            [
             0.6666666666666666,
             "#ed7953"
            ],
            [
             0.7777777777777778,
             "#fb9f3a"
            ],
            [
             0.8888888888888888,
             "#fdca26"
            ],
            [
             1,
             "#f0f921"
            ]
           ],
           "sequentialminus": [
            [
             0,
             "#0d0887"
            ],
            [
             0.1111111111111111,
             "#46039f"
            ],
            [
             0.2222222222222222,
             "#7201a8"
            ],
            [
             0.3333333333333333,
             "#9c179e"
            ],
            [
             0.4444444444444444,
             "#bd3786"
            ],
            [
             0.5555555555555556,
             "#d8576b"
            ],
            [
             0.6666666666666666,
             "#ed7953"
            ],
            [
             0.7777777777777778,
             "#fb9f3a"
            ],
            [
             0.8888888888888888,
             "#fdca26"
            ],
            [
             1,
             "#f0f921"
            ]
           ]
          },
          "colorway": [
           "#636efa",
           "#EF553B",
           "#00cc96",
           "#ab63fa",
           "#FFA15A",
           "#19d3f3",
           "#FF6692",
           "#B6E880",
           "#FF97FF",
           "#FECB52"
          ],
          "font": {
           "color": "#2a3f5f"
          },
          "geo": {
           "bgcolor": "white",
           "lakecolor": "white",
           "landcolor": "#E5ECF6",
           "showlakes": true,
           "showland": true,
           "subunitcolor": "white"
          },
          "hoverlabel": {
           "align": "left"
          },
          "hovermode": "closest",
          "mapbox": {
           "style": "light"
          },
          "paper_bgcolor": "white",
          "plot_bgcolor": "#E5ECF6",
          "polar": {
           "angularaxis": {
            "gridcolor": "white",
            "linecolor": "white",
            "ticks": ""
           },
           "bgcolor": "#E5ECF6",
           "radialaxis": {
            "gridcolor": "white",
            "linecolor": "white",
            "ticks": ""
           }
          },
          "scene": {
           "xaxis": {
            "backgroundcolor": "#E5ECF6",
            "gridcolor": "white",
            "gridwidth": 2,
            "linecolor": "white",
            "showbackground": true,
            "ticks": "",
            "zerolinecolor": "white"
           },
           "yaxis": {
            "backgroundcolor": "#E5ECF6",
            "gridcolor": "white",
            "gridwidth": 2,
            "linecolor": "white",
            "showbackground": true,
            "ticks": "",
            "zerolinecolor": "white"
           },
           "zaxis": {
            "backgroundcolor": "#E5ECF6",
            "gridcolor": "white",
            "gridwidth": 2,
            "linecolor": "white",
            "showbackground": true,
            "ticks": "",
            "zerolinecolor": "white"
           }
          },
          "shapedefaults": {
           "line": {
            "color": "#2a3f5f"
           }
          },
          "ternary": {
           "aaxis": {
            "gridcolor": "white",
            "linecolor": "white",
            "ticks": ""
           },
           "baxis": {
            "gridcolor": "white",
            "linecolor": "white",
            "ticks": ""
           },
           "bgcolor": "#E5ECF6",
           "caxis": {
            "gridcolor": "white",
            "linecolor": "white",
            "ticks": ""
           }
          },
          "title": {
           "x": 0.05
          },
          "xaxis": {
           "automargin": true,
           "gridcolor": "white",
           "linecolor": "white",
           "ticks": "",
           "title": {
            "standoff": 15
           },
           "zerolinecolor": "white",
           "zerolinewidth": 2
          },
          "yaxis": {
           "automargin": true,
           "gridcolor": "white",
           "linecolor": "white",
           "ticks": "",
           "title": {
            "standoff": 15
           },
           "zerolinecolor": "white",
           "zerolinewidth": 2
          }
         }
        },
        "xaxis": {
         "anchor": "y",
         "domain": [
          0,
          1
         ],
         "title": {
          "text": "Sales of Orders"
         }
        },
        "yaxis": {
         "anchor": "x",
         "domain": [
          0,
          1
         ],
         "title": {
          "text": "Type"
         }
        }
       }
      }
     },
     "metadata": {},
     "output_type": "display_data"
    }
   ],
   "source": [
    "#Type of Payment Visual\n",
    "df_payment_type=df_a.groupby([ 'Type'])['Sales'].sum().reset_index(name='Sales of Orders').sort_values(by= 'Sales of Orders', ascending= False)\n",
    "px.bar(df_payment_type.head(10), x='Sales of Orders',y = 'Type',color ='Sales of Orders')"
   ]
  },
  {
   "cell_type": "code",
   "execution_count": null,
   "metadata": {},
   "outputs": [
    {
     "data": {
      "application/vnd.plotly.v1+json": {
       "config": {
        "plotlyServerURL": "https://plot.ly"
       },
       "data": [
        {
         "domain": {
          "x": [
           0,
           1
          ],
          "y": [
           0,
           1
          ]
         },
         "hovertemplate": "Customer Segment=%{label}<br>Number of Orders=%{value}<extra></extra>",
         "labels": [
          "Consumer",
          "Corporate",
          "Home Office"
         ],
         "legendgroup": "",
         "name": "",
         "showlegend": true,
         "type": "pie",
         "values": [
          93504,
          54789,
          32226
         ]
        }
       ],
       "layout": {
        "height": 600,
        "legend": {
         "tracegroupgap": 0
        },
        "piecolorway": [
         "rgb(103,0,31)",
         "rgb(178,24,43)",
         "rgb(214,96,77)",
         "rgb(244,165,130)",
         "rgb(253,219,199)",
         "rgb(247,247,247)",
         "rgb(209,229,240)",
         "rgb(146,197,222)",
         "rgb(67,147,195)",
         "rgb(33,102,172)",
         "rgb(5,48,97)"
        ],
        "template": {
         "data": {
          "bar": [
           {
            "error_x": {
             "color": "#2a3f5f"
            },
            "error_y": {
             "color": "#2a3f5f"
            },
            "marker": {
             "line": {
              "color": "#E5ECF6",
              "width": 0.5
             },
             "pattern": {
              "fillmode": "overlay",
              "size": 10,
              "solidity": 0.2
             }
            },
            "type": "bar"
           }
          ],
          "barpolar": [
           {
            "marker": {
             "line": {
              "color": "#E5ECF6",
              "width": 0.5
             },
             "pattern": {
              "fillmode": "overlay",
              "size": 10,
              "solidity": 0.2
             }
            },
            "type": "barpolar"
           }
          ],
          "carpet": [
           {
            "aaxis": {
             "endlinecolor": "#2a3f5f",
             "gridcolor": "white",
             "linecolor": "white",
             "minorgridcolor": "white",
             "startlinecolor": "#2a3f5f"
            },
            "baxis": {
             "endlinecolor": "#2a3f5f",
             "gridcolor": "white",
             "linecolor": "white",
             "minorgridcolor": "white",
             "startlinecolor": "#2a3f5f"
            },
            "type": "carpet"
           }
          ],
          "choropleth": [
           {
            "colorbar": {
             "outlinewidth": 0,
             "ticks": ""
            },
            "type": "choropleth"
           }
          ],
          "contour": [
           {
            "colorbar": {
             "outlinewidth": 0,
             "ticks": ""
            },
            "colorscale": [
             [
              0,
              "#0d0887"
             ],
             [
              0.1111111111111111,
              "#46039f"
             ],
             [
              0.2222222222222222,
              "#7201a8"
             ],
             [
              0.3333333333333333,
              "#9c179e"
             ],
             [
              0.4444444444444444,
              "#bd3786"
             ],
             [
              0.5555555555555556,
              "#d8576b"
             ],
             [
              0.6666666666666666,
              "#ed7953"
             ],
             [
              0.7777777777777778,
              "#fb9f3a"
             ],
             [
              0.8888888888888888,
              "#fdca26"
             ],
             [
              1,
              "#f0f921"
             ]
            ],
            "type": "contour"
           }
          ],
          "contourcarpet": [
           {
            "colorbar": {
             "outlinewidth": 0,
             "ticks": ""
            },
            "type": "contourcarpet"
           }
          ],
          "heatmap": [
           {
            "colorbar": {
             "outlinewidth": 0,
             "ticks": ""
            },
            "colorscale": [
             [
              0,
              "#0d0887"
             ],
             [
              0.1111111111111111,
              "#46039f"
             ],
             [
              0.2222222222222222,
              "#7201a8"
             ],
             [
              0.3333333333333333,
              "#9c179e"
             ],
             [
              0.4444444444444444,
              "#bd3786"
             ],
             [
              0.5555555555555556,
              "#d8576b"
             ],
             [
              0.6666666666666666,
              "#ed7953"
             ],
             [
              0.7777777777777778,
              "#fb9f3a"
             ],
             [
              0.8888888888888888,
              "#fdca26"
             ],
             [
              1,
              "#f0f921"
             ]
            ],
            "type": "heatmap"
           }
          ],
          "heatmapgl": [
           {
            "colorbar": {
             "outlinewidth": 0,
             "ticks": ""
            },
            "colorscale": [
             [
              0,
              "#0d0887"
             ],
             [
              0.1111111111111111,
              "#46039f"
             ],
             [
              0.2222222222222222,
              "#7201a8"
             ],
             [
              0.3333333333333333,
              "#9c179e"
             ],
             [
              0.4444444444444444,
              "#bd3786"
             ],
             [
              0.5555555555555556,
              "#d8576b"
             ],
             [
              0.6666666666666666,
              "#ed7953"
             ],
             [
              0.7777777777777778,
              "#fb9f3a"
             ],
             [
              0.8888888888888888,
              "#fdca26"
             ],
             [
              1,
              "#f0f921"
             ]
            ],
            "type": "heatmapgl"
           }
          ],
          "histogram": [
           {
            "marker": {
             "pattern": {
              "fillmode": "overlay",
              "size": 10,
              "solidity": 0.2
             }
            },
            "type": "histogram"
           }
          ],
          "histogram2d": [
           {
            "colorbar": {
             "outlinewidth": 0,
             "ticks": ""
            },
            "colorscale": [
             [
              0,
              "#0d0887"
             ],
             [
              0.1111111111111111,
              "#46039f"
             ],
             [
              0.2222222222222222,
              "#7201a8"
             ],
             [
              0.3333333333333333,
              "#9c179e"
             ],
             [
              0.4444444444444444,
              "#bd3786"
             ],
             [
              0.5555555555555556,
              "#d8576b"
             ],
             [
              0.6666666666666666,
              "#ed7953"
             ],
             [
              0.7777777777777778,
              "#fb9f3a"
             ],
             [
              0.8888888888888888,
              "#fdca26"
             ],
             [
              1,
              "#f0f921"
             ]
            ],
            "type": "histogram2d"
           }
          ],
          "histogram2dcontour": [
           {
            "colorbar": {
             "outlinewidth": 0,
             "ticks": ""
            },
            "colorscale": [
             [
              0,
              "#0d0887"
             ],
             [
              0.1111111111111111,
              "#46039f"
             ],
             [
              0.2222222222222222,
              "#7201a8"
             ],
             [
              0.3333333333333333,
              "#9c179e"
             ],
             [
              0.4444444444444444,
              "#bd3786"
             ],
             [
              0.5555555555555556,
              "#d8576b"
             ],
             [
              0.6666666666666666,
              "#ed7953"
             ],
             [
              0.7777777777777778,
              "#fb9f3a"
             ],
             [
              0.8888888888888888,
              "#fdca26"
             ],
             [
              1,
              "#f0f921"
             ]
            ],
            "type": "histogram2dcontour"
           }
          ],
          "mesh3d": [
           {
            "colorbar": {
             "outlinewidth": 0,
             "ticks": ""
            },
            "type": "mesh3d"
           }
          ],
          "parcoords": [
           {
            "line": {
             "colorbar": {
              "outlinewidth": 0,
              "ticks": ""
             }
            },
            "type": "parcoords"
           }
          ],
          "pie": [
           {
            "automargin": true,
            "type": "pie"
           }
          ],
          "scatter": [
           {
            "fillpattern": {
             "fillmode": "overlay",
             "size": 10,
             "solidity": 0.2
            },
            "type": "scatter"
           }
          ],
          "scatter3d": [
           {
            "line": {
             "colorbar": {
              "outlinewidth": 0,
              "ticks": ""
             }
            },
            "marker": {
             "colorbar": {
              "outlinewidth": 0,
              "ticks": ""
             }
            },
            "type": "scatter3d"
           }
          ],
          "scattercarpet": [
           {
            "marker": {
             "colorbar": {
              "outlinewidth": 0,
              "ticks": ""
             }
            },
            "type": "scattercarpet"
           }
          ],
          "scattergeo": [
           {
            "marker": {
             "colorbar": {
              "outlinewidth": 0,
              "ticks": ""
             }
            },
            "type": "scattergeo"
           }
          ],
          "scattergl": [
           {
            "marker": {
             "colorbar": {
              "outlinewidth": 0,
              "ticks": ""
             }
            },
            "type": "scattergl"
           }
          ],
          "scattermapbox": [
           {
            "marker": {
             "colorbar": {
              "outlinewidth": 0,
              "ticks": ""
             }
            },
            "type": "scattermapbox"
           }
          ],
          "scatterpolar": [
           {
            "marker": {
             "colorbar": {
              "outlinewidth": 0,
              "ticks": ""
             }
            },
            "type": "scatterpolar"
           }
          ],
          "scatterpolargl": [
           {
            "marker": {
             "colorbar": {
              "outlinewidth": 0,
              "ticks": ""
             }
            },
            "type": "scatterpolargl"
           }
          ],
          "scatterternary": [
           {
            "marker": {
             "colorbar": {
              "outlinewidth": 0,
              "ticks": ""
             }
            },
            "type": "scatterternary"
           }
          ],
          "surface": [
           {
            "colorbar": {
             "outlinewidth": 0,
             "ticks": ""
            },
            "colorscale": [
             [
              0,
              "#0d0887"
             ],
             [
              0.1111111111111111,
              "#46039f"
             ],
             [
              0.2222222222222222,
              "#7201a8"
             ],
             [
              0.3333333333333333,
              "#9c179e"
             ],
             [
              0.4444444444444444,
              "#bd3786"
             ],
             [
              0.5555555555555556,
              "#d8576b"
             ],
             [
              0.6666666666666666,
              "#ed7953"
             ],
             [
              0.7777777777777778,
              "#fb9f3a"
             ],
             [
              0.8888888888888888,
              "#fdca26"
             ],
             [
              1,
              "#f0f921"
             ]
            ],
            "type": "surface"
           }
          ],
          "table": [
           {
            "cells": {
             "fill": {
              "color": "#EBF0F8"
             },
             "line": {
              "color": "white"
             }
            },
            "header": {
             "fill": {
              "color": "#C8D4E3"
             },
             "line": {
              "color": "white"
             }
            },
            "type": "table"
           }
          ]
         },
         "layout": {
          "annotationdefaults": {
           "arrowcolor": "#2a3f5f",
           "arrowhead": 0,
           "arrowwidth": 1
          },
          "autotypenumbers": "strict",
          "coloraxis": {
           "colorbar": {
            "outlinewidth": 0,
            "ticks": ""
           }
          },
          "colorscale": {
           "diverging": [
            [
             0,
             "#8e0152"
            ],
            [
             0.1,
             "#c51b7d"
            ],
            [
             0.2,
             "#de77ae"
            ],
            [
             0.3,
             "#f1b6da"
            ],
            [
             0.4,
             "#fde0ef"
            ],
            [
             0.5,
             "#f7f7f7"
            ],
            [
             0.6,
             "#e6f5d0"
            ],
            [
             0.7,
             "#b8e186"
            ],
            [
             0.8,
             "#7fbc41"
            ],
            [
             0.9,
             "#4d9221"
            ],
            [
             1,
             "#276419"
            ]
           ],
           "sequential": [
            [
             0,
             "#0d0887"
            ],
            [
             0.1111111111111111,
             "#46039f"
            ],
            [
             0.2222222222222222,
             "#7201a8"
            ],
            [
             0.3333333333333333,
             "#9c179e"
            ],
            [
             0.4444444444444444,
             "#bd3786"
            ],
            [
             0.5555555555555556,
             "#d8576b"
            ],
            [
             0.6666666666666666,
             "#ed7953"
            ],
            [
             0.7777777777777778,
             "#fb9f3a"
            ],
            [
             0.8888888888888888,
             "#fdca26"
            ],
            [
             1,
             "#f0f921"
            ]
           ],
           "sequentialminus": [
            [
             0,
             "#0d0887"
            ],
            [
             0.1111111111111111,
             "#46039f"
            ],
            [
             0.2222222222222222,
             "#7201a8"
            ],
            [
             0.3333333333333333,
             "#9c179e"
            ],
            [
             0.4444444444444444,
             "#bd3786"
            ],
            [
             0.5555555555555556,
             "#d8576b"
            ],
            [
             0.6666666666666666,
             "#ed7953"
            ],
            [
             0.7777777777777778,
             "#fb9f3a"
            ],
            [
             0.8888888888888888,
             "#fdca26"
            ],
            [
             1,
             "#f0f921"
            ]
           ]
          },
          "colorway": [
           "#636efa",
           "#EF553B",
           "#00cc96",
           "#ab63fa",
           "#FFA15A",
           "#19d3f3",
           "#FF6692",
           "#B6E880",
           "#FF97FF",
           "#FECB52"
          ],
          "font": {
           "color": "#2a3f5f"
          },
          "geo": {
           "bgcolor": "white",
           "lakecolor": "white",
           "landcolor": "#E5ECF6",
           "showlakes": true,
           "showland": true,
           "subunitcolor": "white"
          },
          "hoverlabel": {
           "align": "left"
          },
          "hovermode": "closest",
          "mapbox": {
           "style": "light"
          },
          "paper_bgcolor": "white",
          "plot_bgcolor": "#E5ECF6",
          "polar": {
           "angularaxis": {
            "gridcolor": "white",
            "linecolor": "white",
            "ticks": ""
           },
           "bgcolor": "#E5ECF6",
           "radialaxis": {
            "gridcolor": "white",
            "linecolor": "white",
            "ticks": ""
           }
          },
          "scene": {
           "xaxis": {
            "backgroundcolor": "#E5ECF6",
            "gridcolor": "white",
            "gridwidth": 2,
            "linecolor": "white",
            "showbackground": true,
            "ticks": "",
            "zerolinecolor": "white"
           },
           "yaxis": {
            "backgroundcolor": "#E5ECF6",
            "gridcolor": "white",
            "gridwidth": 2,
            "linecolor": "white",
            "showbackground": true,
            "ticks": "",
            "zerolinecolor": "white"
           },
           "zaxis": {
            "backgroundcolor": "#E5ECF6",
            "gridcolor": "white",
            "gridwidth": 2,
            "linecolor": "white",
            "showbackground": true,
            "ticks": "",
            "zerolinecolor": "white"
           }
          },
          "shapedefaults": {
           "line": {
            "color": "#2a3f5f"
           }
          },
          "ternary": {
           "aaxis": {
            "gridcolor": "white",
            "linecolor": "white",
            "ticks": ""
           },
           "baxis": {
            "gridcolor": "white",
            "linecolor": "white",
            "ticks": ""
           },
           "bgcolor": "#E5ECF6",
           "caxis": {
            "gridcolor": "white",
            "linecolor": "white",
            "ticks": ""
           }
          },
          "title": {
           "x": 0.05
          },
          "xaxis": {
           "automargin": true,
           "gridcolor": "white",
           "linecolor": "white",
           "ticks": "",
           "title": {
            "standoff": 15
           },
           "zerolinecolor": "white",
           "zerolinewidth": 2
          },
          "yaxis": {
           "automargin": true,
           "gridcolor": "white",
           "linecolor": "white",
           "ticks": "",
           "title": {
            "standoff": 15
           },
           "zerolinecolor": "white",
           "zerolinewidth": 2
          }
         }
        },
        "title": {
         "text": "Number of Orders of different Customer Segments"
        },
        "width": 600
       }
      }
     },
     "metadata": {},
     "output_type": "display_data"
    }
   ],
   "source": [
    "#Customer Segments Visual\n",
    "data_Customer_Segment=df_a.groupby(['Customer Segment'])['Order Id'].count().reset_index(name='Number of Orders').sort_values(by= 'Number of Orders', ascending= False)\n",
    "px.pie(data_Customer_Segment, values='Number of Orders', names= 'Customer Segment' , title= 'Number of Orders of different Customer Segments', \n",
    "       width=600 , height=600 , color_discrete_sequence = px.colors.sequential.RdBu)\n"
   ]
  },
  {
   "cell_type": "markdown",
   "metadata": {},
   "source": [
    "## Linear Regression: Sales Prediction based on Order Volume"
   ]
  },
  {
   "cell_type": "code",
   "execution_count": 9,
   "metadata": {},
   "outputs": [
    {
     "data": {
      "text/html": [
       "<div>\n",
       "<style scoped>\n",
       "    .dataframe tbody tr th:only-of-type {\n",
       "        vertical-align: middle;\n",
       "    }\n",
       "\n",
       "    .dataframe tbody tr th {\n",
       "        vertical-align: top;\n",
       "    }\n",
       "\n",
       "    .dataframe thead th {\n",
       "        text-align: right;\n",
       "    }\n",
       "</style>\n",
       "<table border=\"1\" class=\"dataframe\">\n",
       "  <thead>\n",
       "    <tr style=\"text-align: right;\">\n",
       "      <th></th>\n",
       "      <th>order_date_VL</th>\n",
       "      <th>sales_per_day_VL</th>\n",
       "      <th>order_volume_VL</th>\n",
       "      <th>profit_per_day_VL</th>\n",
       "      <th>month_year_VL</th>\n",
       "      <th>item_qty_per_day_VL</th>\n",
       "      <th>avg_discount_per_day_VL</th>\n",
       "      <th>avg_product_price_per_day_VL</th>\n",
       "    </tr>\n",
       "  </thead>\n",
       "  <tbody>\n",
       "    <tr>\n",
       "      <th>0</th>\n",
       "      <td>2015-01-01</td>\n",
       "      <td>28958.730381</td>\n",
       "      <td>57</td>\n",
       "      <td>4361.270029</td>\n",
       "      <td>2015-01</td>\n",
       "      <td>353</td>\n",
       "      <td>0.114880</td>\n",
       "      <td>136.668859</td>\n",
       "    </tr>\n",
       "    <tr>\n",
       "      <th>1</th>\n",
       "      <td>2015-01-02</td>\n",
       "      <td>25948.820225</td>\n",
       "      <td>52</td>\n",
       "      <td>1162.729983</td>\n",
       "      <td>2015-01</td>\n",
       "      <td>341</td>\n",
       "      <td>0.099664</td>\n",
       "      <td>124.169533</td>\n",
       "    </tr>\n",
       "    <tr>\n",
       "      <th>2</th>\n",
       "      <td>2015-01-03</td>\n",
       "      <td>32859.300341</td>\n",
       "      <td>60</td>\n",
       "      <td>5366.600017</td>\n",
       "      <td>2015-01</td>\n",
       "      <td>392</td>\n",
       "      <td>0.092402</td>\n",
       "      <td>136.982406</td>\n",
       "    </tr>\n",
       "    <tr>\n",
       "      <th>3</th>\n",
       "      <td>2015-01-04</td>\n",
       "      <td>31869.500330</td>\n",
       "      <td>62</td>\n",
       "      <td>5630.989989</td>\n",
       "      <td>2015-01</td>\n",
       "      <td>410</td>\n",
       "      <td>0.104241</td>\n",
       "      <td>123.622673</td>\n",
       "    </tr>\n",
       "    <tr>\n",
       "      <th>4</th>\n",
       "      <td>2015-01-05</td>\n",
       "      <td>27533.050215</td>\n",
       "      <td>57</td>\n",
       "      <td>3088.100046</td>\n",
       "      <td>2015-01</td>\n",
       "      <td>373</td>\n",
       "      <td>0.113875</td>\n",
       "      <td>121.256816</td>\n",
       "    </tr>\n",
       "  </tbody>\n",
       "</table>\n",
       "</div>"
      ],
      "text/plain": [
       "  order_date_VL  sales_per_day_VL  order_volume_VL  profit_per_day_VL  \\\n",
       "0    2015-01-01      28958.730381               57        4361.270029   \n",
       "1    2015-01-02      25948.820225               52        1162.729983   \n",
       "2    2015-01-03      32859.300341               60        5366.600017   \n",
       "3    2015-01-04      31869.500330               62        5630.989989   \n",
       "4    2015-01-05      27533.050215               57        3088.100046   \n",
       "\n",
       "  month_year_VL  item_qty_per_day_VL  avg_discount_per_day_VL  \\\n",
       "0       2015-01                  353                 0.114880   \n",
       "1       2015-01                  341                 0.099664   \n",
       "2       2015-01                  392                 0.092402   \n",
       "3       2015-01                  410                 0.104241   \n",
       "4       2015-01                  373                 0.113875   \n",
       "\n",
       "   avg_product_price_per_day_VL  \n",
       "0                    136.668859  \n",
       "1                    124.169533  \n",
       "2                    136.982406  \n",
       "3                    123.622673  \n",
       "4                    121.256816  "
      ]
     },
     "execution_count": 9,
     "metadata": {},
     "output_type": "execute_result"
    }
   ],
   "source": [
    "#read csv file to dataframe\n",
    "sales_df = pd.read_csv(\"../Project-4/Resources/sales_df_VL.csv\")\n",
    "sales_df.head(5)"
   ]
  },
  {
   "cell_type": "code",
   "execution_count": 10,
   "metadata": {},
   "outputs": [],
   "source": [
    "X = sales_df[['order_volume_VL','item_qty_per_day_VL','avg_discount_per_day_VL','avg_product_price_per_day_VL']]\n",
    "y = sales_df[\"sales_per_day_VL\"].values.reshape(-1, 1)"
   ]
  },
  {
   "cell_type": "code",
   "execution_count": 11,
   "metadata": {},
   "outputs": [
    {
     "data": {
      "text/html": [
       "<style>#sk-container-id-1 {color: black;}#sk-container-id-1 pre{padding: 0;}#sk-container-id-1 div.sk-toggleable {background-color: white;}#sk-container-id-1 label.sk-toggleable__label {cursor: pointer;display: block;width: 100%;margin-bottom: 0;padding: 0.3em;box-sizing: border-box;text-align: center;}#sk-container-id-1 label.sk-toggleable__label-arrow:before {content: \"▸\";float: left;margin-right: 0.25em;color: #696969;}#sk-container-id-1 label.sk-toggleable__label-arrow:hover:before {color: black;}#sk-container-id-1 div.sk-estimator:hover label.sk-toggleable__label-arrow:before {color: black;}#sk-container-id-1 div.sk-toggleable__content {max-height: 0;max-width: 0;overflow: hidden;text-align: left;background-color: #f0f8ff;}#sk-container-id-1 div.sk-toggleable__content pre {margin: 0.2em;color: black;border-radius: 0.25em;background-color: #f0f8ff;}#sk-container-id-1 input.sk-toggleable__control:checked~div.sk-toggleable__content {max-height: 200px;max-width: 100%;overflow: auto;}#sk-container-id-1 input.sk-toggleable__control:checked~label.sk-toggleable__label-arrow:before {content: \"▾\";}#sk-container-id-1 div.sk-estimator input.sk-toggleable__control:checked~label.sk-toggleable__label {background-color: #d4ebff;}#sk-container-id-1 div.sk-label input.sk-toggleable__control:checked~label.sk-toggleable__label {background-color: #d4ebff;}#sk-container-id-1 input.sk-hidden--visually {border: 0;clip: rect(1px 1px 1px 1px);clip: rect(1px, 1px, 1px, 1px);height: 1px;margin: -1px;overflow: hidden;padding: 0;position: absolute;width: 1px;}#sk-container-id-1 div.sk-estimator {font-family: monospace;background-color: #f0f8ff;border: 1px dotted black;border-radius: 0.25em;box-sizing: border-box;margin-bottom: 0.5em;}#sk-container-id-1 div.sk-estimator:hover {background-color: #d4ebff;}#sk-container-id-1 div.sk-parallel-item::after {content: \"\";width: 100%;border-bottom: 1px solid gray;flex-grow: 1;}#sk-container-id-1 div.sk-label:hover label.sk-toggleable__label {background-color: #d4ebff;}#sk-container-id-1 div.sk-serial::before {content: \"\";position: absolute;border-left: 1px solid gray;box-sizing: border-box;top: 0;bottom: 0;left: 50%;z-index: 0;}#sk-container-id-1 div.sk-serial {display: flex;flex-direction: column;align-items: center;background-color: white;padding-right: 0.2em;padding-left: 0.2em;position: relative;}#sk-container-id-1 div.sk-item {position: relative;z-index: 1;}#sk-container-id-1 div.sk-parallel {display: flex;align-items: stretch;justify-content: center;background-color: white;position: relative;}#sk-container-id-1 div.sk-item::before, #sk-container-id-1 div.sk-parallel-item::before {content: \"\";position: absolute;border-left: 1px solid gray;box-sizing: border-box;top: 0;bottom: 0;left: 50%;z-index: -1;}#sk-container-id-1 div.sk-parallel-item {display: flex;flex-direction: column;z-index: 1;position: relative;background-color: white;}#sk-container-id-1 div.sk-parallel-item:first-child::after {align-self: flex-end;width: 50%;}#sk-container-id-1 div.sk-parallel-item:last-child::after {align-self: flex-start;width: 50%;}#sk-container-id-1 div.sk-parallel-item:only-child::after {width: 0;}#sk-container-id-1 div.sk-dashed-wrapped {border: 1px dashed gray;margin: 0 0.4em 0.5em 0.4em;box-sizing: border-box;padding-bottom: 0.4em;background-color: white;}#sk-container-id-1 div.sk-label label {font-family: monospace;font-weight: bold;display: inline-block;line-height: 1.2em;}#sk-container-id-1 div.sk-label-container {text-align: center;}#sk-container-id-1 div.sk-container {/* jupyter's `normalize.less` sets `[hidden] { display: none; }` but bootstrap.min.css set `[hidden] { display: none !important; }` so we also need the `!important` here to be able to override the default hidden behavior on the sphinx rendered scikit-learn.org. See: https://github.com/scikit-learn/scikit-learn/issues/21755 */display: inline-block !important;position: relative;}#sk-container-id-1 div.sk-text-repr-fallback {display: none;}</style><div id=\"sk-container-id-1\" class=\"sk-top-container\"><div class=\"sk-text-repr-fallback\"><pre>LinearRegression()</pre><b>In a Jupyter environment, please rerun this cell to show the HTML representation or trust the notebook. <br />On GitHub, the HTML representation is unable to render, please try loading this page with nbviewer.org.</b></div><div class=\"sk-container\" hidden><div class=\"sk-item\"><div class=\"sk-estimator sk-toggleable\"><input class=\"sk-toggleable__control sk-hidden--visually\" id=\"sk-estimator-id-1\" type=\"checkbox\" checked><label for=\"sk-estimator-id-1\" class=\"sk-toggleable__label sk-toggleable__label-arrow\">LinearRegression</label><div class=\"sk-toggleable__content\"><pre>LinearRegression()</pre></div></div></div></div></div>"
      ],
      "text/plain": [
       "LinearRegression()"
      ]
     },
     "execution_count": 11,
     "metadata": {},
     "output_type": "execute_result"
    }
   ],
   "source": [
    "model = LinearRegression()\n",
    "model.fit(X, y)"
   ]
  },
  {
   "cell_type": "code",
   "execution_count": 12,
   "metadata": {},
   "outputs": [
    {
     "name": "stdout",
     "output_type": "stream",
     "text": [
      "R-squared: 0.9452063923653357\n",
      "RMSE: 712.0717319595923\n",
      "MAE: 550.7522186313081\n"
     ]
    }
   ],
   "source": [
    "y_pred = model.predict(X)\n",
    "\n",
    "r2 = r2_score(y, y_pred)\n",
    "rmse = np.sqrt(mean_squared_error(y, y_pred))\n",
    "mae = mean_absolute_error(y, y_pred)\n",
    "\n",
    "print(f\"R-squared: {r2}\")\n",
    "print(f\"RMSE: {rmse}\")\n",
    "print(f\"MAE: {mae}\")"
   ]
  },
  {
   "cell_type": "code",
   "execution_count": 13,
   "metadata": {},
   "outputs": [
    {
     "data": {
      "image/png": "[encoded data removed]",
      "text/plain": [
       "<Figure size 640x480 with 1 Axes>"
      ]
     },
     "metadata": {},
     "output_type": "display_data"
    }
   ],
   "source": [
    "#plot the actual data versus the predicted data\n",
    "plt.scatter(X['order_volume_VL'], y, color='blue', label='Actual Data')\n",
    "plt.scatter(X['order_volume_VL'], y_pred, color='red', label='Predicted Data')\n",
    "plt.xlabel('Order Volume')\n",
    "plt.ylabel('Sales per Day')\n",
    "plt.legend()\n",
    "plt.title('Multiple Linear Regression Model')\n",
    "plt.show()"
   ]
  },
  {
   "cell_type": "markdown",
   "metadata": {},
   "source": [
    "## Supervised Learning: Late Delivery Risk Classification"
   ]
  },
  {
   "cell_type": "markdown",
   "metadata": {},
   "source": [
    "Dataframe edit for Delivery Risk Classification"
   ]
  },
  {
   "cell_type": "code",
   "execution_count": 14,
   "metadata": {},
   "outputs": [
    {
     "ename": "NameError",
     "evalue": "name 'DataCO_df' is not defined",
     "output_type": "error",
     "traceback": [
      "\u001b[1;31m---------------------------------------------------------------------------\u001b[0m",
      "\u001b[1;31mNameError\u001b[0m                                 Traceback (most recent call last)",
      "\u001b[1;32mc:\\Users\\lasot\\Desktop\\Documents\\Data Bootcamp\\Project-4\\Neural_Net_Ninjas.ipynb Cell 20\u001b[0m line \u001b[0;36m2\n\u001b[0;32m      <a href='vscode-notebook-cell:/c%3A/Users/lasot/Desktop/Documents/Data%20Bootcamp/Project-4/Neural_Net_Ninjas.ipynb#X25sZmlsZQ%3D%3D?line=0'>1</a>\u001b[0m \u001b[39m# Dropping irrelevant columns\u001b[39;00m\n\u001b[0;32m      <a href='vscode-notebook-cell:/c%3A/Users/lasot/Desktop/Documents/Data%20Bootcamp/Project-4/Neural_Net_Ninjas.ipynb#X25sZmlsZQ%3D%3D?line=1'>2</a>\u001b[0m cols_to_drop \u001b[39m=\u001b[39m [\n\u001b[0;32m      <a href='vscode-notebook-cell:/c%3A/Users/lasot/Desktop/Documents/Data%20Bootcamp/Project-4/Neural_Net_Ninjas.ipynb#X25sZmlsZQ%3D%3D?line=2'>3</a>\u001b[0m     \u001b[39m'\u001b[39m\u001b[39mCustomer Email\u001b[39m\u001b[39m'\u001b[39m,\n\u001b[0;32m      <a href='vscode-notebook-cell:/c%3A/Users/lasot/Desktop/Documents/Data%20Bootcamp/Project-4/Neural_Net_Ninjas.ipynb#X25sZmlsZQ%3D%3D?line=3'>4</a>\u001b[0m     \u001b[39m'\u001b[39m\u001b[39mCustomer Fname\u001b[39m\u001b[39m'\u001b[39m,\n\u001b[1;32m   (...)\u001b[0m\n\u001b[0;32m     <a href='vscode-notebook-cell:/c%3A/Users/lasot/Desktop/Documents/Data%20Bootcamp/Project-4/Neural_Net_Ninjas.ipynb#X25sZmlsZQ%3D%3D?line=18'>19</a>\u001b[0m     \u001b[39m'\u001b[39m\u001b[39mDays for shipping (real)\u001b[39m\u001b[39m'\u001b[39m\n\u001b[0;32m     <a href='vscode-notebook-cell:/c%3A/Users/lasot/Desktop/Documents/Data%20Bootcamp/Project-4/Neural_Net_Ninjas.ipynb#X25sZmlsZQ%3D%3D?line=19'>20</a>\u001b[0m     ]\n\u001b[1;32m---> <a href='vscode-notebook-cell:/c%3A/Users/lasot/Desktop/Documents/Data%20Bootcamp/Project-4/Neural_Net_Ninjas.ipynb#X25sZmlsZQ%3D%3D?line=20'>21</a>\u001b[0m df_c \u001b[39m=\u001b[39m DataCO_df\u001b[39m.\u001b[39mdrop(cols_to_drop, axis\u001b[39m=\u001b[39m\u001b[39m1\u001b[39m)\n\u001b[0;32m     <a href='vscode-notebook-cell:/c%3A/Users/lasot/Desktop/Documents/Data%20Bootcamp/Project-4/Neural_Net_Ninjas.ipynb#X25sZmlsZQ%3D%3D?line=21'>22</a>\u001b[0m df_c\u001b[39m.\u001b[39mhead()\n",
      "\u001b[1;31mNameError\u001b[0m: name 'DataCO_df' is not defined"
     ]
    }
   ],
   "source": [
    "# Dropping irrelevant columns\n",
    "cols_to_drop = [\n",
    "    'Customer Email',\n",
    "    'Customer Fname',\n",
    "    'Customer Id',\n",
    "    'Customer Lname',\n",
    "    'Customer Password',\n",
    "    'Order Id',\n",
    "    'Order Item Cardprod Id',\n",
    "    'Product Card Id',\n",
    "    'Product Category Id',\n",
    "    'Product Description',\n",
    "    'Product Image',\n",
    "    'Product Name',\n",
    "    'Product Status',\n",
    "    'Order Zipcode',\n",
    "    'shipping date (DateOrders)', \n",
    "    'Delivery Status',\n",
    "    'Days for shipping (real)'\n",
    "    ]\n",
    "df_c = DataCO_df.drop(cols_to_drop, axis=1)\n",
    "df_c.head()"
   ]
  },
  {
   "cell_type": "code",
   "execution_count": null,
   "metadata": {},
   "outputs": [],
   "source": [
    "# Handle missing values\n",
    "df_c['Customer Zipcode'].fillna(0, inplace=True)  # Replace missing zipcodes with 0"
   ]
  },
  {
   "cell_type": "code",
   "execution_count": null,
   "metadata": {},
   "outputs": [],
   "source": [
    "# Encode categorical variables\n",
    "label_encoders = {}\n",
    "categorical_cols = df_c.select_dtypes(include=['object']).columns\n",
    "for col in categorical_cols:\n",
    "    label_encoders[col] = LabelEncoder()\n",
    "    df_c[col] = label_encoders[col].fit_transform(df_c[col])"
   ]
  },
  {
   "cell_type": "code",
   "execution_count": null,
   "metadata": {},
   "outputs": [],
   "source": [
    "# Define features (X) and target (y)\n",
    "X = df_c.drop('Late_delivery_risk', axis=1)\n",
    "y = df_c['Late_delivery_risk']\n",
    "\n",
    "# Split the data into training and testing sets\n",
    "X_train, X_test, y_train, y_test = train_test_split(X, y, test_size=0.2, random_state=42)"
   ]
  },
  {
   "cell_type": "code",
   "execution_count": null,
   "metadata": {},
   "outputs": [
    {
     "data": {
      "text/html": [
       "<style>#sk-container-id-4 {color: black;}#sk-container-id-4 pre{padding: 0;}#sk-container-id-4 div.sk-toggleable {background-color: white;}#sk-container-id-4 label.sk-toggleable__label {cursor: pointer;display: block;width: 100%;margin-bottom: 0;padding: 0.3em;box-sizing: border-box;text-align: center;}#sk-container-id-4 label.sk-toggleable__label-arrow:before {content: \"▸\";float: left;margin-right: 0.25em;color: #696969;}#sk-container-id-4 label.sk-toggleable__label-arrow:hover:before {color: black;}#sk-container-id-4 div.sk-estimator:hover label.sk-toggleable__label-arrow:before {color: black;}#sk-container-id-4 div.sk-toggleable__content {max-height: 0;max-width: 0;overflow: hidden;text-align: left;background-color: #f0f8ff;}#sk-container-id-4 div.sk-toggleable__content pre {margin: 0.2em;color: black;border-radius: 0.25em;background-color: #f0f8ff;}#sk-container-id-4 input.sk-toggleable__control:checked~div.sk-toggleable__content {max-height: 200px;max-width: 100%;overflow: auto;}#sk-container-id-4 input.sk-toggleable__control:checked~label.sk-toggleable__label-arrow:before {content: \"▾\";}#sk-container-id-4 div.sk-estimator input.sk-toggleable__control:checked~label.sk-toggleable__label {background-color: #d4ebff;}#sk-container-id-4 div.sk-label input.sk-toggleable__control:checked~label.sk-toggleable__label {background-color: #d4ebff;}#sk-container-id-4 input.sk-hidden--visually {border: 0;clip: rect(1px 1px 1px 1px);clip: rect(1px, 1px, 1px, 1px);height: 1px;margin: -1px;overflow: hidden;padding: 0;position: absolute;width: 1px;}#sk-container-id-4 div.sk-estimator {font-family: monospace;background-color: #f0f8ff;border: 1px dotted black;border-radius: 0.25em;box-sizing: border-box;margin-bottom: 0.5em;}#sk-container-id-4 div.sk-estimator:hover {background-color: #d4ebff;}#sk-container-id-4 div.sk-parallel-item::after {content: \"\";width: 100%;border-bottom: 1px solid gray;flex-grow: 1;}#sk-container-id-4 div.sk-label:hover label.sk-toggleable__label {background-color: #d4ebff;}#sk-container-id-4 div.sk-serial::before {content: \"\";position: absolute;border-left: 1px solid gray;box-sizing: border-box;top: 0;bottom: 0;left: 50%;z-index: 0;}#sk-container-id-4 div.sk-serial {display: flex;flex-direction: column;align-items: center;background-color: white;padding-right: 0.2em;padding-left: 0.2em;position: relative;}#sk-container-id-4 div.sk-item {position: relative;z-index: 1;}#sk-container-id-4 div.sk-parallel {display: flex;align-items: stretch;justify-content: center;background-color: white;position: relative;}#sk-container-id-4 div.sk-item::before, #sk-container-id-4 div.sk-parallel-item::before {content: \"\";position: absolute;border-left: 1px solid gray;box-sizing: border-box;top: 0;bottom: 0;left: 50%;z-index: -1;}#sk-container-id-4 div.sk-parallel-item {display: flex;flex-direction: column;z-index: 1;position: relative;background-color: white;}#sk-container-id-4 div.sk-parallel-item:first-child::after {align-self: flex-end;width: 50%;}#sk-container-id-4 div.sk-parallel-item:last-child::after {align-self: flex-start;width: 50%;}#sk-container-id-4 div.sk-parallel-item:only-child::after {width: 0;}#sk-container-id-4 div.sk-dashed-wrapped {border: 1px dashed gray;margin: 0 0.4em 0.5em 0.4em;box-sizing: border-box;padding-bottom: 0.4em;background-color: white;}#sk-container-id-4 div.sk-label label {font-family: monospace;font-weight: bold;display: inline-block;line-height: 1.2em;}#sk-container-id-4 div.sk-label-container {text-align: center;}#sk-container-id-4 div.sk-container {/* jupyter's `normalize.less` sets `[hidden] { display: none; }` but bootstrap.min.css set `[hidden] { display: none !important; }` so we also need the `!important` here to be able to override the default hidden behavior on the sphinx rendered scikit-learn.org. See: https://github.com/scikit-learn/scikit-learn/issues/21755 */display: inline-block !important;position: relative;}#sk-container-id-4 div.sk-text-repr-fallback {display: none;}</style><div id=\"sk-container-id-4\" class=\"sk-top-container\"><div class=\"sk-text-repr-fallback\"><pre>RandomForestClassifier(random_state=42)</pre><b>In a Jupyter environment, please rerun this cell to show the HTML representation or trust the notebook. <br />On GitHub, the HTML representation is unable to render, please try loading this page with nbviewer.org.</b></div><div class=\"sk-container\" hidden><div class=\"sk-item\"><div class=\"sk-estimator sk-toggleable\"><input class=\"sk-toggleable__control sk-hidden--visually\" id=\"sk-estimator-id-4\" type=\"checkbox\" checked><label for=\"sk-estimator-id-4\" class=\"sk-toggleable__label sk-toggleable__label-arrow\">RandomForestClassifier</label><div class=\"sk-toggleable__content\"><pre>RandomForestClassifier(random_state=42)</pre></div></div></div></div></div>"
      ],
      "text/plain": [
       "RandomForestClassifier(random_state=42)"
      ]
     },
     "execution_count": 46,
     "metadata": {},
     "output_type": "execute_result"
    }
   ],
   "source": [
    "# Create and train a Random Forest classifier\n",
    "clf = RandomForestClassifier(n_estimators=100, random_state=42)\n",
    "clf.fit(X_train, y_train)"
   ]
  },
  {
   "cell_type": "code",
   "execution_count": null,
   "metadata": {},
   "outputs": [],
   "source": [
    "# Make predictions on the test set\n",
    "y_pred = clf.predict(X_test)"
   ]
  },
  {
   "cell_type": "code",
   "execution_count": null,
   "metadata": {},
   "outputs": [
    {
     "name": "stdout",
     "output_type": "stream",
     "text": [
      "Key: (0) = Not Late, (1) = Late\n",
      "-----------------------------\n",
      "Accuracy: 0.8556392643474408\n",
      "Classification Report:\n",
      "              precision    recall  f1-score   support\n",
      "\n",
      "           0       0.79      0.92      0.85     16307\n",
      "           1       0.93      0.80      0.86     19797\n",
      "\n",
      "    accuracy                           0.86     36104\n",
      "   macro avg       0.86      0.86      0.86     36104\n",
      "weighted avg       0.87      0.86      0.86     36104\n",
      "\n"
     ]
    }
   ],
   "source": [
    "# Evaluate the model\n",
    "accuracy = accuracy_score(y_test, y_pred)\n",
    "report = classification_report(y_test, y_pred)\n",
    "\n",
    "print(f\"Key: (0) = Not Late, (1) = Late\")\n",
    "print(f\"-----------------------------\")\n",
    "print(f'Accuracy: {accuracy}')\n",
    "print(f'Classification Report:\\n{report}')"
   ]
  },
  {
   "cell_type": "code",
   "execution_count": null,
   "metadata": {},
   "outputs": [
    {
     "data": {
      "image/png": "[encoded data removed]",
      "text/plain": [
       "<Figure size 800x600 with 1 Axes>"
      ]
     },
     "metadata": {},
     "output_type": "display_data"
    }
   ],
   "source": [
    "# Plot the confusion matrix\n",
    "cm = confusion_matrix(y_test, y_pred)\n",
    "plt.figure(figsize=(8, 6))\n",
    "sns.heatmap(cm, annot=True, fmt='d', cmap='Blues', cbar=False,\n",
    "            xticklabels=['Not Late', 'Late'], yticklabels=['Not Late', 'Late'])\n",
    "plt.xlabel('Predicted')\n",
    "plt.ylabel('True')\n",
    "plt.title('Confusion Matrix')\n",
    "plt.show()"
   ]
  },
  {
   "cell_type": "code",
   "execution_count": null,
   "metadata": {},
   "outputs": [
    {
     "data": {
      "image/png": "[encoded data removed]",
      "text/plain": [
       "<Figure size 800x600 with 1 Axes>"
      ]
     },
     "metadata": {},
     "output_type": "display_data"
    }
   ],
   "source": [
    "# Plot the confusion matrix\n",
    "cm = confusion_matrix(y_test, y_pred)\n",
    "plt.figure(figsize=(8, 6))\n",
    "sns.heatmap(cm, annot=True, fmt='d', cmap='Blues', cbar=False,\n",
    "            xticklabels=['Not Late', 'Late'], yticklabels=['Not Late', 'Late'])\n",
    "plt.xlabel('Predicted')\n",
    "plt.ylabel('True')\n",
    "plt.title('Confusion Matrix')\n",
    "plt.show()"
   ]
  },
  {
   "cell_type": "markdown",
   "metadata": {},
   "source": [
    "## Logistic Regression: Fraudulent Orders Prediction"
   ]
  },
  {
   "cell_type": "markdown",
   "metadata": {},
   "source": [
    "Unique order dataframe preparation"
   ]
  },
  {
   "cell_type": "code",
   "execution_count": 16,
   "metadata": {},
   "outputs": [],
   "source": [
    "#read csv file into dataframe orders_df from Resources folder\n",
    "file_path = Path(\"Resources/orders_df.csv\")\n",
    "orders_df = pd.read_csv(file_path)"
   ]
  },
  {
   "cell_type": "code",
   "execution_count": 19,
   "metadata": {},
   "outputs": [
    {
     "data": {
      "text/html": [
       "<div>\n",
       "<style scoped>\n",
       "    .dataframe tbody tr th:only-of-type {\n",
       "        vertical-align: middle;\n",
       "    }\n",
       "\n",
       "    .dataframe tbody tr th {\n",
       "        vertical-align: top;\n",
       "    }\n",
       "\n",
       "    .dataframe thead th {\n",
       "        text-align: right;\n",
       "    }\n",
       "</style>\n",
       "<table border=\"1\" class=\"dataframe\">\n",
       "  <thead>\n",
       "    <tr style=\"text-align: right;\">\n",
       "      <th></th>\n",
       "      <th>Order Id</th>\n",
       "      <th>Days for shipment (scheduled)</th>\n",
       "      <th>order_original_price</th>\n",
       "      <th>order_discount</th>\n",
       "      <th>no_of_items</th>\n",
       "      <th>order_total</th>\n",
       "      <th>no_of_unique_items</th>\n",
       "      <th>no_of_unique_categories</th>\n",
       "      <th>no_of_unique_departments</th>\n",
       "      <th>fraud</th>\n",
       "      <th>...</th>\n",
       "      <th>Order Region_South Asia</th>\n",
       "      <th>Order Region_South of  USA</th>\n",
       "      <th>Order Region_Southeast Asia</th>\n",
       "      <th>Order Region_Southern Africa</th>\n",
       "      <th>Order Region_Southern Europe</th>\n",
       "      <th>Order Region_US Center</th>\n",
       "      <th>Order Region_West Africa</th>\n",
       "      <th>Order Region_West Asia</th>\n",
       "      <th>Order Region_West of USA</th>\n",
       "      <th>Order Region_Western Europe</th>\n",
       "    </tr>\n",
       "  </thead>\n",
       "  <tbody>\n",
       "    <tr>\n",
       "      <th>0</th>\n",
       "      <td>1</td>\n",
       "      <td>4</td>\n",
       "      <td>299.980011</td>\n",
       "      <td>60.000000</td>\n",
       "      <td>1</td>\n",
       "      <td>239.979996</td>\n",
       "      <td>1</td>\n",
       "      <td>1</td>\n",
       "      <td>1</td>\n",
       "      <td>0</td>\n",
       "      <td>...</td>\n",
       "      <td>False</td>\n",
       "      <td>False</td>\n",
       "      <td>False</td>\n",
       "      <td>False</td>\n",
       "      <td>False</td>\n",
       "      <td>False</td>\n",
       "      <td>False</td>\n",
       "      <td>False</td>\n",
       "      <td>False</td>\n",
       "      <td>False</td>\n",
       "    </tr>\n",
       "    <tr>\n",
       "      <th>1</th>\n",
       "      <td>2</td>\n",
       "      <td>4</td>\n",
       "      <td>379.980011</td>\n",
       "      <td>50.600000</td>\n",
       "      <td>7</td>\n",
       "      <td>529.380005</td>\n",
       "      <td>3</td>\n",
       "      <td>3</td>\n",
       "      <td>3</td>\n",
       "      <td>0</td>\n",
       "      <td>...</td>\n",
       "      <td>False</td>\n",
       "      <td>False</td>\n",
       "      <td>False</td>\n",
       "      <td>False</td>\n",
       "      <td>False</td>\n",
       "      <td>False</td>\n",
       "      <td>False</td>\n",
       "      <td>False</td>\n",
       "      <td>False</td>\n",
       "      <td>False</td>\n",
       "    </tr>\n",
       "    <tr>\n",
       "      <th>2</th>\n",
       "      <td>4</td>\n",
       "      <td>4</td>\n",
       "      <td>184.960001</td>\n",
       "      <td>78.980000</td>\n",
       "      <td>14</td>\n",
       "      <td>620.870014</td>\n",
       "      <td>4</td>\n",
       "      <td>4</td>\n",
       "      <td>4</td>\n",
       "      <td>0</td>\n",
       "      <td>...</td>\n",
       "      <td>False</td>\n",
       "      <td>False</td>\n",
       "      <td>False</td>\n",
       "      <td>False</td>\n",
       "      <td>False</td>\n",
       "      <td>False</td>\n",
       "      <td>False</td>\n",
       "      <td>False</td>\n",
       "      <td>False</td>\n",
       "      <td>False</td>\n",
       "    </tr>\n",
       "    <tr>\n",
       "      <th>3</th>\n",
       "      <td>5</td>\n",
       "      <td>4</td>\n",
       "      <td>839.920029</td>\n",
       "      <td>142.789999</td>\n",
       "      <td>10</td>\n",
       "      <td>987.070007</td>\n",
       "      <td>4</td>\n",
       "      <td>4</td>\n",
       "      <td>2</td>\n",
       "      <td>0</td>\n",
       "      <td>...</td>\n",
       "      <td>False</td>\n",
       "      <td>False</td>\n",
       "      <td>False</td>\n",
       "      <td>False</td>\n",
       "      <td>False</td>\n",
       "      <td>False</td>\n",
       "      <td>False</td>\n",
       "      <td>False</td>\n",
       "      <td>False</td>\n",
       "      <td>False</td>\n",
       "    </tr>\n",
       "    <tr>\n",
       "      <th>4</th>\n",
       "      <td>7</td>\n",
       "      <td>2</td>\n",
       "      <td>515.960016</td>\n",
       "      <td>54.400000</td>\n",
       "      <td>7</td>\n",
       "      <td>525.520004</td>\n",
       "      <td>3</td>\n",
       "      <td>3</td>\n",
       "      <td>2</td>\n",
       "      <td>0</td>\n",
       "      <td>...</td>\n",
       "      <td>False</td>\n",
       "      <td>False</td>\n",
       "      <td>False</td>\n",
       "      <td>False</td>\n",
       "      <td>False</td>\n",
       "      <td>False</td>\n",
       "      <td>False</td>\n",
       "      <td>False</td>\n",
       "      <td>False</td>\n",
       "      <td>False</td>\n",
       "    </tr>\n",
       "  </tbody>\n",
       "</table>\n",
       "<p>5 rows × 1301 columns</p>\n",
       "</div>"
      ],
      "text/plain": [
       "   Order Id  Days for shipment (scheduled)  order_original_price  \\\n",
       "0         1                              4            299.980011   \n",
       "1         2                              4            379.980011   \n",
       "2         4                              4            184.960001   \n",
       "3         5                              4            839.920029   \n",
       "4         7                              2            515.960016   \n",
       "\n",
       "   order_discount  no_of_items  order_total  no_of_unique_items  \\\n",
       "0       60.000000            1   239.979996                   1   \n",
       "1       50.600000            7   529.380005                   3   \n",
       "2       78.980000           14   620.870014                   4   \n",
       "3      142.789999           10   987.070007                   4   \n",
       "4       54.400000            7   525.520004                   3   \n",
       "\n",
       "   no_of_unique_categories  no_of_unique_departments  fraud  ...  \\\n",
       "0                        1                         1      0  ...   \n",
       "1                        3                         3      0  ...   \n",
       "2                        4                         4      0  ...   \n",
       "3                        4                         2      0  ...   \n",
       "4                        3                         2      0  ...   \n",
       "\n",
       "   Order Region_South Asia  Order Region_South of  USA   \\\n",
       "0                    False                        False   \n",
       "1                    False                        False   \n",
       "2                    False                        False   \n",
       "3                    False                        False   \n",
       "4                    False                        False   \n",
       "\n",
       "   Order Region_Southeast Asia  Order Region_Southern Africa  \\\n",
       "0                        False                         False   \n",
       "1                        False                         False   \n",
       "2                        False                         False   \n",
       "3                        False                         False   \n",
       "4                        False                         False   \n",
       "\n",
       "   Order Region_Southern Europe  Order Region_US Center   \\\n",
       "0                         False                    False   \n",
       "1                         False                    False   \n",
       "2                         False                    False   \n",
       "3                         False                    False   \n",
       "4                         False                    False   \n",
       "\n",
       "   Order Region_West Africa  Order Region_West Asia  \\\n",
       "0                     False                   False   \n",
       "1                     False                   False   \n",
       "2                     False                   False   \n",
       "3                     False                   False   \n",
       "4                     False                   False   \n",
       "\n",
       "   Order Region_West of USA   Order Region_Western Europe  \n",
       "0                      False                        False  \n",
       "1                      False                        False  \n",
       "2                      False                        False  \n",
       "3                      False                        False  \n",
       "4                      False                        False  \n",
       "\n",
       "[5 rows x 1301 columns]"
      ]
     },
     "execution_count": 19,
     "metadata": {},
     "output_type": "execute_result"
    }
   ],
   "source": [
    "#dummy code categorical columns\n",
    "orders_df = pd.get_dummies(orders_df, columns=[\"Type\", \"Customer Segment\", \"Order Country\", \"Order State\", \"Shipping Mode\", \"Market\", \"Order Region\"])\n",
    "orders_df.head()"
   ]
  },
  {
   "cell_type": "code",
   "execution_count": 20,
   "metadata": {},
   "outputs": [
    {
     "data": {
      "text/plain": [
       "Order Id                         64385\n",
       "Days for shipment (scheduled)    64385\n",
       "order_original_price             64385\n",
       "order_discount                   64385\n",
       "no_of_items                      64385\n",
       "                                 ...  \n",
       "Order Region_US Center           64385\n",
       "Order Region_West Africa         64385\n",
       "Order Region_West Asia           64385\n",
       "Order Region_West of USA         64385\n",
       "Order Region_Western Europe      64385\n",
       "Length: 1301, dtype: int64"
      ]
     },
     "execution_count": 20,
     "metadata": {},
     "output_type": "execute_result"
    }
   ],
   "source": [
    "#show row count\n",
    "orders_df.count()"
   ]
  },
  {
   "cell_type": "code",
   "execution_count": 21,
   "metadata": {},
   "outputs": [
    {
     "data": {
      "text/html": [
       "<div>\n",
       "<style scoped>\n",
       "    .dataframe tbody tr th:only-of-type {\n",
       "        vertical-align: middle;\n",
       "    }\n",
       "\n",
       "    .dataframe tbody tr th {\n",
       "        vertical-align: top;\n",
       "    }\n",
       "\n",
       "    .dataframe thead th {\n",
       "        text-align: right;\n",
       "    }\n",
       "</style>\n",
       "<table border=\"1\" class=\"dataframe\">\n",
       "  <thead>\n",
       "    <tr style=\"text-align: right;\">\n",
       "      <th></th>\n",
       "      <th>Order Id</th>\n",
       "      <th>Days for shipment (scheduled)</th>\n",
       "      <th>order_original_price</th>\n",
       "      <th>order_discount</th>\n",
       "      <th>no_of_items</th>\n",
       "      <th>order_total</th>\n",
       "      <th>no_of_unique_items</th>\n",
       "      <th>no_of_unique_categories</th>\n",
       "      <th>no_of_unique_departments</th>\n",
       "      <th>Type_CASH</th>\n",
       "      <th>...</th>\n",
       "      <th>Order Region_South Asia</th>\n",
       "      <th>Order Region_South of  USA</th>\n",
       "      <th>Order Region_Southeast Asia</th>\n",
       "      <th>Order Region_Southern Africa</th>\n",
       "      <th>Order Region_Southern Europe</th>\n",
       "      <th>Order Region_US Center</th>\n",
       "      <th>Order Region_West Africa</th>\n",
       "      <th>Order Region_West Asia</th>\n",
       "      <th>Order Region_West of USA</th>\n",
       "      <th>Order Region_Western Europe</th>\n",
       "    </tr>\n",
       "  </thead>\n",
       "  <tbody>\n",
       "    <tr>\n",
       "      <th>0</th>\n",
       "      <td>1</td>\n",
       "      <td>4</td>\n",
       "      <td>299.980011</td>\n",
       "      <td>60.000000</td>\n",
       "      <td>1</td>\n",
       "      <td>239.979996</td>\n",
       "      <td>1</td>\n",
       "      <td>1</td>\n",
       "      <td>1</td>\n",
       "      <td>True</td>\n",
       "      <td>...</td>\n",
       "      <td>False</td>\n",
       "      <td>False</td>\n",
       "      <td>False</td>\n",
       "      <td>False</td>\n",
       "      <td>False</td>\n",
       "      <td>False</td>\n",
       "      <td>False</td>\n",
       "      <td>False</td>\n",
       "      <td>False</td>\n",
       "      <td>False</td>\n",
       "    </tr>\n",
       "    <tr>\n",
       "      <th>1</th>\n",
       "      <td>2</td>\n",
       "      <td>4</td>\n",
       "      <td>379.980011</td>\n",
       "      <td>50.600000</td>\n",
       "      <td>7</td>\n",
       "      <td>529.380005</td>\n",
       "      <td>3</td>\n",
       "      <td>3</td>\n",
       "      <td>3</td>\n",
       "      <td>False</td>\n",
       "      <td>...</td>\n",
       "      <td>False</td>\n",
       "      <td>False</td>\n",
       "      <td>False</td>\n",
       "      <td>False</td>\n",
       "      <td>False</td>\n",
       "      <td>False</td>\n",
       "      <td>False</td>\n",
       "      <td>False</td>\n",
       "      <td>False</td>\n",
       "      <td>False</td>\n",
       "    </tr>\n",
       "    <tr>\n",
       "      <th>2</th>\n",
       "      <td>4</td>\n",
       "      <td>4</td>\n",
       "      <td>184.960001</td>\n",
       "      <td>78.980000</td>\n",
       "      <td>14</td>\n",
       "      <td>620.870014</td>\n",
       "      <td>4</td>\n",
       "      <td>4</td>\n",
       "      <td>4</td>\n",
       "      <td>True</td>\n",
       "      <td>...</td>\n",
       "      <td>False</td>\n",
       "      <td>False</td>\n",
       "      <td>False</td>\n",
       "      <td>False</td>\n",
       "      <td>False</td>\n",
       "      <td>False</td>\n",
       "      <td>False</td>\n",
       "      <td>False</td>\n",
       "      <td>False</td>\n",
       "      <td>False</td>\n",
       "    </tr>\n",
       "    <tr>\n",
       "      <th>3</th>\n",
       "      <td>5</td>\n",
       "      <td>4</td>\n",
       "      <td>839.920029</td>\n",
       "      <td>142.789999</td>\n",
       "      <td>10</td>\n",
       "      <td>987.070007</td>\n",
       "      <td>4</td>\n",
       "      <td>4</td>\n",
       "      <td>2</td>\n",
       "      <td>False</td>\n",
       "      <td>...</td>\n",
       "      <td>False</td>\n",
       "      <td>False</td>\n",
       "      <td>False</td>\n",
       "      <td>False</td>\n",
       "      <td>False</td>\n",
       "      <td>False</td>\n",
       "      <td>False</td>\n",
       "      <td>False</td>\n",
       "      <td>False</td>\n",
       "      <td>False</td>\n",
       "    </tr>\n",
       "    <tr>\n",
       "      <th>4</th>\n",
       "      <td>7</td>\n",
       "      <td>2</td>\n",
       "      <td>515.960016</td>\n",
       "      <td>54.400000</td>\n",
       "      <td>7</td>\n",
       "      <td>525.520004</td>\n",
       "      <td>3</td>\n",
       "      <td>3</td>\n",
       "      <td>2</td>\n",
       "      <td>False</td>\n",
       "      <td>...</td>\n",
       "      <td>False</td>\n",
       "      <td>False</td>\n",
       "      <td>False</td>\n",
       "      <td>False</td>\n",
       "      <td>False</td>\n",
       "      <td>False</td>\n",
       "      <td>False</td>\n",
       "      <td>False</td>\n",
       "      <td>False</td>\n",
       "      <td>False</td>\n",
       "    </tr>\n",
       "  </tbody>\n",
       "</table>\n",
       "<p>5 rows × 1300 columns</p>\n",
       "</div>"
      ],
      "text/plain": [
       "   Order Id  Days for shipment (scheduled)  order_original_price  \\\n",
       "0         1                              4            299.980011   \n",
       "1         2                              4            379.980011   \n",
       "2         4                              4            184.960001   \n",
       "3         5                              4            839.920029   \n",
       "4         7                              2            515.960016   \n",
       "\n",
       "   order_discount  no_of_items  order_total  no_of_unique_items  \\\n",
       "0       60.000000            1   239.979996                   1   \n",
       "1       50.600000            7   529.380005                   3   \n",
       "2       78.980000           14   620.870014                   4   \n",
       "3      142.789999           10   987.070007                   4   \n",
       "4       54.400000            7   525.520004                   3   \n",
       "\n",
       "   no_of_unique_categories  no_of_unique_departments  Type_CASH  ...  \\\n",
       "0                        1                         1       True  ...   \n",
       "1                        3                         3      False  ...   \n",
       "2                        4                         4       True  ...   \n",
       "3                        4                         2      False  ...   \n",
       "4                        3                         2      False  ...   \n",
       "\n",
       "   Order Region_South Asia  Order Region_South of  USA   \\\n",
       "0                    False                        False   \n",
       "1                    False                        False   \n",
       "2                    False                        False   \n",
       "3                    False                        False   \n",
       "4                    False                        False   \n",
       "\n",
       "   Order Region_Southeast Asia  Order Region_Southern Africa  \\\n",
       "0                        False                         False   \n",
       "1                        False                         False   \n",
       "2                        False                         False   \n",
       "3                        False                         False   \n",
       "4                        False                         False   \n",
       "\n",
       "   Order Region_Southern Europe  Order Region_US Center   \\\n",
       "0                         False                    False   \n",
       "1                         False                    False   \n",
       "2                         False                    False   \n",
       "3                         False                    False   \n",
       "4                         False                    False   \n",
       "\n",
       "   Order Region_West Africa  Order Region_West Asia  \\\n",
       "0                     False                   False   \n",
       "1                     False                   False   \n",
       "2                     False                   False   \n",
       "3                     False                   False   \n",
       "4                     False                   False   \n",
       "\n",
       "   Order Region_West of USA   Order Region_Western Europe  \n",
       "0                      False                        False  \n",
       "1                      False                        False  \n",
       "2                      False                        False  \n",
       "3                      False                        False  \n",
       "4                      False                        False  \n",
       "\n",
       "[5 rows x 1300 columns]"
      ]
     },
     "execution_count": 21,
     "metadata": {},
     "output_type": "execute_result"
    }
   ],
   "source": [
    "# Define features set \n",
    "X = orders_df.copy()\n",
    "X.drop('fraud', axis=1, inplace=True)\n",
    "X.head()"
   ]
  },
  {
   "cell_type": "markdown",
   "metadata": {},
   "source": [
    "TESTING RANDOM FOREST MODEL"
   ]
  },
  {
   "cell_type": "code",
   "execution_count": 22,
   "metadata": {},
   "outputs": [
    {
     "data": {
      "text/plain": [
       "array([[0],\n",
       "       [0],\n",
       "       [0],\n",
       "       [0],\n",
       "       [0]], dtype=int64)"
      ]
     },
     "execution_count": 22,
     "metadata": {},
     "output_type": "execute_result"
    }
   ],
   "source": [
    "# Define target vector\n",
    "y = orders_df[\"fraud\"].values.reshape(-1, 1)\n",
    "y[:5]"
   ]
  },
  {
   "cell_type": "code",
   "execution_count": 23,
   "metadata": {},
   "outputs": [],
   "source": [
    "# Splitting into Train and Test sets\n",
    "X_train, X_test, y_train, y_test = train_test_split(X, y, random_state=78)"
   ]
  },
  {
   "cell_type": "code",
   "execution_count": 24,
   "metadata": {},
   "outputs": [],
   "source": [
    "# Create the StandardScaler instance\n",
    "scaler = StandardScaler()"
   ]
  },
  {
   "cell_type": "code",
   "execution_count": 25,
   "metadata": {},
   "outputs": [],
   "source": [
    "# Fit the Standard Scaler with the training data\n",
    "X_scaler = scaler.fit(X_train)"
   ]
  },
  {
   "cell_type": "code",
   "execution_count": 26,
   "metadata": {},
   "outputs": [],
   "source": [
    "# Scale the training data\n",
    "X_train_scaled = X_scaler.transform(X_train)\n",
    "X_test_scaled = X_scaler.transform(X_test)"
   ]
  },
  {
   "cell_type": "code",
   "execution_count": 27,
   "metadata": {},
   "outputs": [
    {
     "data": {
      "text/plain": [
       "(48288, 1300)"
      ]
     },
     "execution_count": 27,
     "metadata": {},
     "output_type": "execute_result"
    }
   ],
   "source": [
    "X_train.shape"
   ]
  },
  {
   "cell_type": "code",
   "execution_count": 28,
   "metadata": {},
   "outputs": [
    {
     "data": {
      "text/plain": [
       "(16097, 1300)"
      ]
     },
     "execution_count": 28,
     "metadata": {},
     "output_type": "execute_result"
    }
   ],
   "source": [
    "X_test.shape"
   ]
  },
  {
   "cell_type": "code",
   "execution_count": 29,
   "metadata": {},
   "outputs": [],
   "source": [
    "# Create the random forest classifier instance\n",
    "rf_model = RandomForestClassifier(n_estimators=500, random_state=78)"
   ]
  },
  {
   "cell_type": "code",
   "execution_count": 30,
   "metadata": {},
   "outputs": [],
   "source": [
    "# Fit the model and use .ravel()on the \"y_train\" data. \n",
    "rf_model = rf_model.fit(X_train_scaled, y_train.ravel())"
   ]
  },
  {
   "cell_type": "code",
   "execution_count": 31,
   "metadata": {},
   "outputs": [],
   "source": [
    "# Making predictions using the testing data\n",
    "predictions = rf_model.predict(X_test_scaled)"
   ]
  },
  {
   "cell_type": "code",
   "execution_count": 32,
   "metadata": {},
   "outputs": [],
   "source": [
    "# Calculating the confusion matrix\n",
    "cm = confusion_matrix(y_test, predictions)\n",
    "cm_df = pd.DataFrame(\n",
    "    cm, index=[\"Legitemate [0]\", \"Fraud [1]\"], columns=[\"Legitemate [0]\", \"Fraud [1]\"]\n",
    ")\n",
    "\n",
    "# Calculating the accuracy score\n",
    "acc_score = accuracy_score(y_test, predictions)"
   ]
  },
  {
   "cell_type": "code",
   "execution_count": 33,
   "metadata": {},
   "outputs": [
    {
     "name": "stdout",
     "output_type": "stream",
     "text": [
      "Confusion Matrix\n"
     ]
    },
    {
     "data": {
      "text/html": [
       "<div>\n",
       "<style scoped>\n",
       "    .dataframe tbody tr th:only-of-type {\n",
       "        vertical-align: middle;\n",
       "    }\n",
       "\n",
       "    .dataframe tbody tr th {\n",
       "        vertical-align: top;\n",
       "    }\n",
       "\n",
       "    .dataframe thead th {\n",
       "        text-align: right;\n",
       "    }\n",
       "</style>\n",
       "<table border=\"1\" class=\"dataframe\">\n",
       "  <thead>\n",
       "    <tr style=\"text-align: right;\">\n",
       "      <th></th>\n",
       "      <th>Legitemate [0]</th>\n",
       "      <th>Fraud [1]</th>\n",
       "    </tr>\n",
       "  </thead>\n",
       "  <tbody>\n",
       "    <tr>\n",
       "      <th>Legitemate [0]</th>\n",
       "      <td>15744</td>\n",
       "      <td>14</td>\n",
       "    </tr>\n",
       "    <tr>\n",
       "      <th>Fraud [1]</th>\n",
       "      <td>337</td>\n",
       "      <td>2</td>\n",
       "    </tr>\n",
       "  </tbody>\n",
       "</table>\n",
       "</div>"
      ],
      "text/plain": [
       "                Legitemate [0]  Fraud [1]\n",
       "Legitemate [0]           15744         14\n",
       "Fraud [1]                  337          2"
      ]
     },
     "metadata": {},
     "output_type": "display_data"
    },
    {
     "name": "stdout",
     "output_type": "stream",
     "text": [
      "Accuracy Score : 0.9781946946636019\n",
      "Classification Report\n",
      "              precision    recall  f1-score   support\n",
      "\n",
      "           0       0.98      1.00      0.99     15758\n",
      "           1       0.12      0.01      0.01       339\n",
      "\n",
      "    accuracy                           0.98     16097\n",
      "   macro avg       0.55      0.50      0.50     16097\n",
      "weighted avg       0.96      0.98      0.97     16097\n",
      "\n"
     ]
    }
   ],
   "source": [
    "# Displaying results\n",
    "print(\"Confusion Matrix\")\n",
    "display(cm_df)\n",
    "print(f\"Accuracy Score : {acc_score}\")\n",
    "print(\"Classification Report\")\n",
    "print(classification_report(y_test, predictions))"
   ]
  },
  {
   "cell_type": "code",
   "execution_count": 34,
   "metadata": {},
   "outputs": [
    {
     "data": {
      "text/plain": [
       "[(0.10559104525988358, 'Order Id'),\n",
       " (0.10326769339948677, 'order_total'),\n",
       " (0.10189887764580227, 'order_discount'),\n",
       " (0.09194044218462787, 'order_original_price'),\n",
       " (0.0637877711734773, 'no_of_items'),\n",
       " (0.044587434378726754, 'Type_TRANSFER'),\n",
       " (0.027703465610448327, 'no_of_unique_departments'),\n",
       " (0.02713622132153613, 'no_of_unique_categories'),\n",
       " (0.026936107209012575, 'no_of_unique_items'),\n",
       " (0.020078362189909205, 'Days for shipment (scheduled)'),\n",
       " (0.01904276367169809, 'Customer Segment_Consumer'),\n",
       " (0.016772682919352907, 'Customer Segment_Corporate'),\n",
       " (0.014423972598663206, 'Type_DEBIT'),\n",
       " (0.013613023241952904, 'Customer Segment_Home Office'),\n",
       " (0.013530038449195604, 'Shipping Mode_Standard Class'),\n",
       " (0.010975820676397326, 'Shipping Mode_Second Class'),\n",
       " (0.00995240442501146, 'Shipping Mode_First Class'),\n",
       " (0.009082075308725492, 'Type_PAYMENT'),\n",
       " (0.004821985463355956, 'Shipping Mode_Same Day'),\n",
       " (0.004281506562662031, 'Type_CASH'),\n",
       " (0.0019802692959401333, 'Order State_Languedoc-Rosellón-Mediodía-Pirineos'),\n",
       " (0.0018427790066061127, 'Order Country_México'),\n",
       " (0.0018279205831757133, 'Order Country_Francia'),\n",
       " (0.001814891085224747, 'Order State_Nueva Gales del Sur'),\n",
       " (0.0017684648278310914, 'Order Region_Central America'),\n",
       " (0.0017461061576674927, 'Order Region_Western Europe'),\n",
       " (0.0017420899545414136, 'Order State_Isla de Francia'),\n",
       " (0.001682842858745786, 'Order State_Renania del Norte-Westfalia'),\n",
       " (0.0016391113019632946, 'Market_Europe'),\n",
       " (0.0015978791027739276, 'Market_LATAM'),\n",
       " (0.0015874563557091237, 'Order Country_Alemania'),\n",
       " (0.0015347044896424878, 'Market_Pacific Asia'),\n",
       " (0.0015040535641563724, 'Order State_California'),\n",
       " (0.001464039932834056, 'Order State_Inglaterra'),\n",
       " (0.0014361492353351375, 'Order State_Río de Janeiro'),\n",
       " (0.0014248280720725376, 'Order State_Distrito Federal'),\n",
       " (0.0013918612023708853, 'Order State_Minas Gerais'),\n",
       " (0.0013539895752942674, 'Order Country_Reino Unido'),\n",
       " (0.0013439915772223909, 'Order Region_West of USA '),\n",
       " (0.0013344732036653629, 'Order State_Chihuahua'),\n",
       " (0.0013189971672731501, 'Order State_Aquitania-Lemosín-Poitou-Charentes'),\n",
       " (0.001316364177359736, 'Order State_Queensland'),\n",
       " (0.001296047108481426, 'Order Region_Oceania'),\n",
       " (0.0012905827829977814, 'Order Region_East of USA'),\n",
       " (0.0012785534886036564, 'Order Region_South America'),\n",
       " (0.0012516642782311328, 'Order Country_Australia'),\n",
       " (0.001249348758139763, 'Order State_Texas'),\n",
       " (0.0012421239920497823, 'Order State_Victoria'),\n",
       " (0.0012412883152553168, 'Order Country_El Salvador'),\n",
       " (0.0012301641109812693, 'Order Country_Brasil'),\n",
       " (0.0012174640777793007, 'Order Region_Southeast Asia'),\n",
       " (0.00121588165329291, 'Order State_San Salvador'),\n",
       " (0.0011878759106230714, 'Order Region_Northern Europe'),\n",
       " (0.0011847957399822523, 'Order State_Provenza-Alpes-Costa Azul'),\n",
       " (0.0011601983737093847, 'Order Region_Southern Europe'),\n",
       " (0.0011594516641845745, 'Order Country_Indonesia'),\n",
       " (0.0011563331940370257, 'Order State_Managua'),\n",
       " (0.0011422760271457089, 'Order Region_US Center '),\n",
       " (0.0011296799652763536, 'Order State_Pekín'),\n",
       " (0.0011222741170201411, 'Order Country_Honduras'),\n",
       " (0.0011216113097570427, 'Order State_Jalisco'),\n",
       " (0.0010954004057895813, 'Order State_Nueva York'),\n",
       " (0.0010870483173714173, 'Order State_Australia Occidental'),\n",
       " (0.0010710165337271809, 'Order State_Borgoña-Franco Condado'),\n",
       " (0.001069085081077893, 'Order Region_Caribbean'),\n",
       " (0.001058348471265308, 'Order State_Veracruz'),\n",
       " (0.0010572778902629254, 'Order Country_China'),\n",
       " (0.0010562404402559985, 'Order Country_Italia'),\n",
       " (0.001050296042444377, 'Order State_São Paulo'),\n",
       " (0.0010439815766905888, 'Order Country_India'),\n",
       " (0.0010370436886123627, 'Order State_Ohio'),\n",
       " (0.001033200128574685, 'Order Country_Guatemala'),\n",
       " (0.0010307600852177713, 'Order State_Benguela'),\n",
       " (0.001023650697128659, 'Order Region_Eastern Asia'),\n",
       " (0.0010209215393587351, 'Order State_Escocia'),\n",
       " (0.0010182554741827016, 'Order Country_Estados Unidos'),\n",
       " (0.0010004730164153884, 'Order Country_España'),\n",
       " (0.0010001308452150192, 'Order Region_South of  USA '),\n",
       " (0.001000010285332008, 'Order State_Baja California'),\n",
       " (0.000992953580271091, 'Market_USCA'),\n",
       " (0.0009881718742996415, 'Order State_Washington'),\n",
       " (0.0009755759911383146, 'Order State_Berlín'),\n",
       " (0.0009648362598733981, 'Order State_Yakarta'),\n",
       " (0.0009620270702503456, 'Order State_Shanghái'),\n",
       " (0.0009561087297760787, 'Order State_Cortés'),\n",
       " (0.0009545959455474427, 'Order State_Kindia'),\n",
       " (0.0009509546059197951, 'Order Country_Nicaragua'),\n",
       " (0.0009430441451960852, 'Order Country_Filipinas'),\n",
       " (0.0009347783767325698, 'Order State_Capital Nacional'),\n",
       " (0.0009329161371541515, 'Order Region_South Asia'),\n",
       " (0.0009263552961224194, 'Order State_Guatemala'),\n",
       " (0.0009209523703504465, 'Order State_Uttar Pradesh'),\n",
       " (0.0009179427037248486, 'Order State_Guizhou'),\n",
       " (0.0009032054123633282, 'Order State_Países del Loira'),\n",
       " (0.0008964159825290859, 'Order State_Carolina del Norte'),\n",
       " (0.0008912379693007606, 'Order State_Ayacucho'),\n",
       " (0.000888550837757468, 'Order State_Territorio de la Capital Australiana'),\n",
       " (0.0008781022859294947, 'Order State_Valle del Cauca'),\n",
       " (0.0008773852684089796, 'Order State_Norte-Paso de Calais-Picardía'),\n",
       " (0.0008766662553559387, 'Order State_Bremen'),\n",
       " (0.0008739609410172553, 'Order State_Arizona'),\n",
       " (0.0008588207011904964, 'Order State_Jiangsu'),\n",
       " (0.0008577089145624156, 'Order State_Bavaria'),\n",
       " (0.0008545305921724226, 'Order State_Valenciana'),\n",
       " (0.0008512121807917909, 'Order State_Turingia'),\n",
       " (0.0008407157817079244, 'Order State_Yucatán'),\n",
       " (0.0008388359237635354, 'Order State_Liaoning'),\n",
       " (0.0008380099992383496, 'Order State_Maharashtra'),\n",
       " (0.0008355590940778684, 'Order State_Java Central'),\n",
       " (0.0008286707357287994, 'Order Country_Países Bajos'),\n",
       " (0.0008246023732560008, 'Order Country_República Dominicana'),\n",
       " (0.0008114833270959571, 'Order State_Pensilvania'),\n",
       " (0.0008100660504724063, 'Order State_Francisco Morazán'),\n",
       " (0.0007961330026643375, 'Order State_Cataluña'),\n",
       " (0.0007954416380264877, 'Order State_Michigan'),\n",
       " (0.0007894969143253263, 'Order State_Karnataka'),\n",
       " (0.0007833090165631491, 'Order State_Pernambuco'),\n",
       " (0.0007754412222734381, 'Order State_Baden-Wurtemberg'),\n",
       " (0.0007731882363381539, 'Order State_Lacio'),\n",
       " (0.000771756322767789, 'Order State_Santo Domingo'),\n",
       " (0.0007682554835868116, 'Order State_Java Occidental'),\n",
       " (0.0007666815368908068, 'Order State_Coahuila'),\n",
       " (0.0007647134047147459, 'Order State_Zhejiang'),\n",
       " (0.0007459472122307006, 'Order State_Alsacia-Champaña-Ardenas-Lorena'),\n",
       " (0.0007396567206706609, 'Market_Africa'),\n",
       " (0.0007330884834675409, 'Order Country_Cuba'),\n",
       " (0.000731412079617856, 'Order Region_West Asia'),\n",
       " (0.0007298845173666648, 'Order State_Illinois'),\n",
       " (0.0007206878198197042, 'Order State_Canterbury'),\n",
       " (0.0007198700471378692, 'Order State_Abruzos'),\n",
       " (0.0007173594647803171, 'Order State_Lombardía'),\n",
       " (0.0007171251694819723, 'Order State_Schleswig-Holstein'),\n",
       " (0.0007020302123977046, 'Order State_Kastamonu'),\n",
       " (0.0007007562836048231, 'Order State_Extremadura'),\n",
       " (0.000699939829155438, 'Order State_Punyab'),\n",
       " (0.0006961240157439685, 'Order State_Chimaltenango'),\n",
       " (0.0006955034033537356, 'Order Country_Turquía'),\n",
       " (0.0006893729503488436, 'Order State_Jilin'),\n",
       " (0.0006730646475403406, 'Order State_Chongqing'),\n",
       " (0.0006708788546087037, 'Order State_Oita'),\n",
       " (0.0006683053883042812, 'Order State_Auckland'),\n",
       " (0.0006675344890744604, 'Order State_Meca'),\n",
       " (0.0006650705013386675, 'Order State_Tirol'),\n",
       " (0.0006520017791729118, 'Order State_Escuintla'),\n",
       " (0.0006510413307818411, 'Order State_Madhya Pradesh'),\n",
       " (0.0006506667463872663, 'Order State_Meta'),\n",
       " (0.0006500958699469432, 'Order State_Oregón'),\n",
       " (0.0006400867363884084, 'Order Country_Argentina'),\n",
       " (0.0006352123433655112, 'Order State_Castilla y León'),\n",
       " (0.0006280014127059238, 'Order State_Guangdong'),\n",
       " (0.0006262266130782454, 'Order Country_Venezuela'),\n",
       " (0.0006244851230899259, 'Order State_Espíritu Santo'),\n",
       " (0.0006241583362810579, 'Order State_Tasmania'),\n",
       " (0.0006228166357843203, 'Order State_Toscana'),\n",
       " (0.0006219553597445529, 'Order State_Durango'),\n",
       " (0.0006205838226431969, 'Order State_Guangxi'),\n",
       " (0.0006182402324987178, 'Order State_Atlántida'),\n",
       " (0.0006182076293245216, 'Order State_País Vasco'),\n",
       " (0.0006175584374418788, 'Order State_El Cairo'),\n",
       " (0.0006174319285772467, 'Order State_Rio Grande do Sul'),\n",
       " (0.0006172490203975979, 'Order State_Lagos'),\n",
       " (0.0006171945034069029, 'Order State_Mendoza'),\n",
       " (0.000617064905373733, 'Order Country_Austria'),\n",
       " (0.0006160118476124626, 'Order State_Hamburgo'),\n",
       " (0.0006153769462705818, 'Order State_Dukala-Abda'),\n",
       " (0.0006150928722610508, 'Order State_Di Car'),\n",
       " (0.0006110867479054544, 'Order State_Auvernia-Ródano-Alpes'),\n",
       " (0.0006073121028578505, 'Order State_Anhui'),\n",
       " (0.0006071404872134092, 'Order State_Normandía'),\n",
       " (0.0006022886314172726, 'Order State_Diala'),\n",
       " (0.0006013894484392687, 'Order State_Lodz'),\n",
       " (0.0005987328717715625, 'Order State_Emilia-Romaña'),\n",
       " (0.0005978965744601435, 'Order State_Constantina'),\n",
       " (0.0005950000039572747, 'Order State_Virginia'),\n",
       " (0.000593361460363149, 'Order State_Bangkok'),\n",
       " (0.0005889274659544393, 'Order State_Sonsonate'),\n",
       " (0.0005857226691308025, 'Order Country_Panamá'),\n",
       " (0.0005855483247130404, 'Order State_Mersin'),\n",
       " (0.0005827956787261672, 'Order State_Hunedoara'),\n",
       " (0.0005797185386372101, 'Order State_San Luis Potosí'),\n",
       " (0.0005768792162082886, 'Order Country_Tailandia'),\n",
       " (0.0005753490857669017, 'Order State_Estambul'),\n",
       " (0.0005741411798352654, 'Order State_Florida'),\n",
       " (0.0005720444944404292, 'Order State_Lima'),\n",
       " (0.000571867553402377, 'Order Country_Portugal'),\n",
       " (0.000571709027154554, 'Order Country_Colombia'),\n",
       " (0.0005705768305914073, 'Order State_Dnipropetrovsk'),\n",
       " (0.0005695431519101834, 'Order State_Imo'),\n",
       " (0.0005694980292060616, 'Order State_Ar Raqa'),\n",
       " (0.0005667557275381121, 'Order State_San Pedro de Macorís'),\n",
       " (0.0005632929912026233, 'Order State_Arica y Parinacota'),\n",
       " (0.0005631620217434151, 'Order State_Hunan'),\n",
       " (0.0005603353045472403, 'Order State_Bretaña'),\n",
       " (0.0005545442403986533, 'Order Country_Bélgica'),\n",
       " (0.0005543563280797563, 'Order State_Buzau'),\n",
       " (0.000552693111446044, 'Order State_Marañón'),\n",
       " (0.0005518619472685563, 'Order State_Borneo Meridional'),\n",
       " (0.000546083873530682, 'Order State_Heilongjiang'),\n",
       " (0.0005446264594603909, 'Order State_Oaxaca'),\n",
       " (0.0005429099911830494, 'Order Country_Perú'),\n",
       " (0.0005428385736211123, 'Order State_Mérida'),\n",
       " (0.000541398169668147, 'Order State_Puebla'),\n",
       " (0.0005409428996440532, 'Order State_Georgia'),\n",
       " (0.0005402060173529266, 'Order State_Panamá'),\n",
       " (0.0005380705772513717, 'Order State_Zanyán'),\n",
       " (0.0005283099009738309, 'Order State_Australia del Sur'),\n",
       " (0.0005281386418515805, 'Order State_Sajonia-Anhalt'),\n",
       " (0.000524790485955607, 'Order Region_West Africa'),\n",
       " (0.0005241502046096734, 'Order State_Holanda Septentrional'),\n",
       " (0.0005205520236618258, 'Order State_Járkov'),\n",
       " (0.0005203472472555491, 'Order State_Java Oriental'),\n",
       " (0.0005191694511583152, 'Order State_Granma'),\n",
       " (0.0005188777212723223, 'Order State_Nilo Blanco'),\n",
       " (0.000518485849917721, 'Order Country_Nueva Zelanda'),\n",
       " (0.0005158125078185839, 'Order State_Carolina del Sur'),\n",
       " (0.0005140960635860621, 'Order State_Buenos Aires (provincia)'),\n",
       " (0.0005137815409053164, 'Order State_Bogotá'),\n",
       " (0.0005117456450787476, 'Order Country_Arabia Saudí'),\n",
       " (0.0005105240413417096, 'Order State_Lima (ciudad)'),\n",
       " (0.0005089824728629142, 'Order State_Matagalpa'),\n",
       " (0.0005083206688333872, 'Order State_Bruselas'),\n",
       " (0.0005066904258718456, 'Order State_Renania-Palatinado'),\n",
       " (0.0005006925914285897, 'Order State_Izmir'),\n",
       " (0.0004945328822066367, 'Order State_Chinandega'),\n",
       " (0.0004942905620538116, 'Order State_Viena'),\n",
       " (0.0004916953511965167, 'Order State_Arequipa'),\n",
       " (0.00048767909594310056, 'Order State_Amberes'),\n",
       " (0.000487101227967708, 'Order State_Barahona'),\n",
       " (0.0004868409989107335, 'Order State_Paraíba'),\n",
       " (0.00048503258965139557, 'Order State_Thiès'),\n",
       " (0.0004786259725135683, 'Order State_Maryland'),\n",
       " (0.00047834683886347244, 'Order State_Oruro'),\n",
       " (0.0004761292695800299, 'Order State_Ouest'),\n",
       " (0.00047184781070777203, 'Order State_Gombe'),\n",
       " (0.00047041960375524987, 'Order State_Querétaro'),\n",
       " (0.00046842454709859104, 'Order State_Andalucía'),\n",
       " (0.0004659108259653507, 'Order State_Colorado'),\n",
       " (0.0004657175717183556, 'Order State_Trebisonda'),\n",
       " (0.0004637552915478257, 'Order State_Michoacán'),\n",
       " (0.00046370023954559305, 'Order State_Alagoas'),\n",
       " (0.0004628517540824549, 'Order State_Villa Clara'),\n",
       " (0.00046269691958549463, 'Order State_Guanajuato'),\n",
       " (0.00046206828243845744, 'Order State_Santiago de Cuba'),\n",
       " (0.0004619113585702887, 'Order State_Territorio del Norte'),\n",
       " (0.0004581629371020186, 'Order State_Pichincha'),\n",
       " (0.000457214530537858, 'Order Country_Nigeria'),\n",
       " (0.00045694577999757206, 'Order State_Basora'),\n",
       " (0.0004545809585808125, 'Order State_Limburgo'),\n",
       " (0.00045406502401247855, 'Order State_Aragua'),\n",
       " (0.0004524989925204114, 'Order State_Paraná'),\n",
       " (0.0004522939293422548, 'Order State_Tamil Nadu'),\n",
       " (0.0004518677906600529, 'Order State_Lisboa'),\n",
       " (0.0004509257275843105, 'Order State_Sajonia'),\n",
       " (0.00045052758796775043, 'Order State_Calabarzón'),\n",
       " (0.00044988397805688195, 'Order State_Zulia'),\n",
       " (0.0004470405766628891, 'Order State_Escania'),\n",
       " (0.00044549290544210917, 'Order Region_North Africa'),\n",
       " (0.0004436812982985783, 'Order State_Brabante Septentrional'),\n",
       " (0.00044334311247390623, 'Order State_Delaware'),\n",
       " (0.00044330948371116825, 'Order State_Baja Sajonia'),\n",
       " (0.0004432284049269608, 'Order State_Nord-Ouest'),\n",
       " (0.00044285599136866617, 'Order State_Niassa'),\n",
       " (0.0004423431995758529, 'Order State_Nuevo León'),\n",
       " (0.00044098136232029655, 'Order State_Monagas'),\n",
       " (0.00043585307668831937, 'Order State_Hormozgán'),\n",
       " (0.00043538936572761155, 'Order State_Hubei'),\n",
       " (0.0004352023786359071, 'Order State_Acre'),\n",
       " (0.0004333921157135867, 'Order Country_Egipto'),\n",
       " (0.00043275063430508944, 'Order Region_Eastern Europe'),\n",
       " (0.0004320916042767172, 'Order State_Neamt'),\n",
       " (0.0004308502191318603, 'Order State_Mbeya'),\n",
       " (0.0004300688926968215, 'Order State_Guantánamo'),\n",
       " (0.00042968618889104514, 'Order State_Hesse'),\n",
       " (0.00042831532547046375, 'Order State_Alejandría'),\n",
       " (0.0004266528608171379, 'Order State_Chaguanas'),\n",
       " (0.0004248936360225933, 'Order State_Taiz'),\n",
       " (0.00041845812180973875, 'Order State_Antioquía'),\n",
       " (0.00041819502609011624, 'Order State_Duarte'),\n",
       " (0.0004175828044887783, 'Order State_Sicilia'),\n",
       " (0.00041554399902782785, 'Order State_Gyeongsangnam'),\n",
       " (0.00041489768842270747, 'Order State_Güeldres'),\n",
       " (0.0004147986671289495, 'Order State_Hong Kong'),\n",
       " (0.00041097743620952584, 'Order Country_Hong Kong'),\n",
       " (0.00041035400774718395, 'Order State_Fayún'),\n",
       " (0.0004068245891918709, 'Order Country_Guinea'),\n",
       " (0.00040378404857734947, 'Order State_Gauteng'),\n",
       " (0.00040322956025818345, 'Order State_Bahía'),\n",
       " (0.0004026149839752112, 'Order State_Sumatra Septentrional'),\n",
       " (0.0004013046853836825, 'Order State_Umbría'),\n",
       " (0.0003998106655637922, 'Order State_Friuli-Venecia Julia'),\n",
       " (0.0003991390962771329, 'Order State_Kostanái'),\n",
       " (0.00039828958972176634, 'Order State_Camagüey'),\n",
       " (0.00039774195898616236, 'Order State_Bélgorod'),\n",
       " (0.00039383966966734685, 'Order State_Équateur'),\n",
       " (0.0003911814713413985, 'Order State_Kentucky'),\n",
       " (0.00038848043967904086, 'Order State_Haryana'),\n",
       " (0.00038827660477429245, 'Order Country_Irak'),\n",
       " (0.00038662589370061035, 'Order State_Mato Grosso'),\n",
       " (0.00038240534823165103, 'Order State_Jambi'),\n",
       " (0.000382185913269955, 'Order State_Riau'),\n",
       " (0.00038206441046986827, 'Order State_Galati'),\n",
       " (0.0003815952506358157, 'Order State_Tabuk'),\n",
       " (0.00038139575137556835, 'Order State_Dinamarca Meridional'),\n",
       " (0.00037942659992004895, 'Order State_San Cristóbal'),\n",
       " (0.000377700144848823, 'Order State_Diyarbakir'),\n",
       " (0.00037556396962929464, 'Order State_Campania'),\n",
       " (0.00037300432540669494, 'Order State_Caldas'),\n",
       " (0.00037240167865098606, 'Order State_Buenos Aires'),\n",
       " (0.00036880538134926243, 'Order State_Littoral'),\n",
       " (0.00036615494409187417, 'Order State_Braga'),\n",
       " (0.0003658382693451782, 'Order State_Pará'),\n",
       " (0.00036400347671271114, 'Order State_Trentino-Alto Adigio'),\n",
       " (0.0003638668694744191, 'Order State_Poltava'),\n",
       " (0.00036327889327226597, 'Order Country_Vietnam'),\n",
       " (0.000360461304135969, 'Order State_Sofía-Ciudad'),\n",
       " (0.0003598465377213165, 'Order Region_Central Africa'),\n",
       " (0.0003589489817847422, 'Order State_Riad'),\n",
       " (0.00035484264770541476, 'Order State_Konya'),\n",
       " (0.0003544578298024992, 'Order State_Wellington'),\n",
       " (0.0003512447516029878, 'Order State_Sonora'),\n",
       " (0.0003512041976569104, 'Order State_Prahova'),\n",
       " (0.0003509508306647779, 'Order State_Quebec'),\n",
       " (0.0003492162432578989, 'Order State_Kivu del Sur'),\n",
       " (0.00034869540886432184, 'Order Country_Camerún'),\n",
       " (0.00034638957600389254, 'Order State_Indiana'),\n",
       " (0.000346389193109945, 'Order State_Ceará'),\n",
       " (0.0003456525151135605, 'Order Country_Japón'),\n",
       " (0.00034545454814158955, 'Order State_Kermanshah'),\n",
       " (0.00034529314679876215, 'Order State_Busan'),\n",
       " (0.00034518940781180476, 'Order State_Jammu y Cachemira'),\n",
       " (0.00034445426676347926, 'Order State_Bagdad'),\n",
       " (0.00034214880633444113, 'Order State_Alta Austria'),\n",
       " (0.00034204824584418357, 'Order State_Alger'),\n",
       " (0.00034198953709408937, 'Order State_Kwara'),\n",
       " (0.00034196637396365244, 'Order Country_Etiopía'),\n",
       " (0.00034176498254857764, 'Order State_Amapá'),\n",
       " (0.0003413191524382103, 'Order State_Tokio'),\n",
       " (0.00034036159726426405, 'Order State_Edo'),\n",
       " (0.0003390105238733914, 'Order Country_Canada'),\n",
       " (0.0003359113599772531, 'Order State_Daejeon'),\n",
       " (0.0003355389921361796, 'Order State_Ankara'),\n",
       " (0.00033420702251249186, 'Order State_Gran Casablanca'),\n",
       " (0.00033153766937364074, 'Order Country_Argelia'),\n",
       " (0.00033129054210421144, 'Order State_Holguín'),\n",
       " (0.0003307924114100267, 'Order Country_SudAfrica'),\n",
       " (0.00033045785619102865, 'Order State_Morelos'),\n",
       " (0.00032725625921168087, 'Order State_Overijssel'),\n",
       " (0.00032514992271711474, 'Order Country_Malasia'),\n",
       " (0.00032505069738759164, 'Order State_Namangán'),\n",
       " (0.0003243301937269332, 'Order State_Oslo'),\n",
       " (0.000319598935489299, 'Order State_Véneto'),\n",
       " (0.0003186731316069726, 'Order State_Cuscatlán'),\n",
       " (0.00031837145800103816, 'Order State_México'),\n",
       " (0.0003177986089593197, 'Order Region_Canada'),\n",
       " (0.0003176509432256192, 'Order State_Henan'),\n",
       " (0.0003171786825636793, 'Order State_Gran Accra'),\n",
       " (0.00031689906834653973, 'Order State_Kanagawa'),\n",
       " (0.0003157822450139274, 'Order State_San Juan'),\n",
       " (0.00031557789141663044, 'Order State_Kuala Lumpur'),\n",
       " (0.000315095014378733, 'Order State_Guerrero'),\n",
       " (0.00031274948626804956, 'Order State_Córdoba'),\n",
       " (0.00031142379382249945, 'Order State_Septentrional'),\n",
       " (0.00030779719595971884, 'Order State_Groningen'),\n",
       " (0.00030518931909494104, 'Order Country_Ucrania'),\n",
       " (0.0003047239878753745, 'Order State_Imericia'),\n",
       " (0.0003029521217765545, 'Order State_Puducherry'),\n",
       " (0.0003024062202189315, 'Order State_Flanders Oriental'),\n",
       " (0.00030196870638182793, 'Order State_Dublín'),\n",
       " (0.00030020981475268173, 'Order State_Centro-Valle de Loira'),\n",
       " (0.00029888451591277585, 'Order State_Medina'),\n",
       " (0.00029878627574690187, 'Order Region_Southern Africa'),\n",
       " (0.0002985418243088318, 'Order Country_Haití'),\n",
       " (0.0002980685884536898, 'Order State_Sabah'),\n",
       " (0.00029720724970212894, 'Order State_Yunnan'),\n",
       " (0.000296014746379268, 'Order State_Santa Catarina'),\n",
       " (0.00029476201533249803, 'Order State_Colón'),\n",
       " (0.00029439738293771816, 'Order State_Piamonte'),\n",
       " (0.00029326473172818705, 'Order State_Dire Dawa'),\n",
       " (0.0002907689674684735, 'Order State_Yogyakarta'),\n",
       " (0.0002903408895796315, 'Order State_Castilla-La Mancha'),\n",
       " (0.0002893446716314113, 'Order State_Waikato'),\n",
       " (0.00028916967650927463, 'Order State_Saskatchewan'),\n",
       " (0.0002884712258407716, 'Order Country_República Democrática del Congo'),\n",
       " (0.00028615569966969237, 'Order State_Vorónezh'),\n",
       " (0.000285366390053861, 'Order State_Shandong'),\n",
       " (0.0002840599899739606, 'Order State_Isla de la Juventud'),\n",
       " (0.00028381476447399, 'Order State_Stiria'),\n",
       " (0.0002823022739069925, 'Order Country_Pakistán'),\n",
       " (0.0002812109643655835, 'Order Country_Ghana'),\n",
       " (0.0002791271025394101, 'Order State_Jorasán Razaví'),\n",
       " (0.0002779626076733914, 'Order Country_Myanmar (Birmania)'),\n",
       " (0.00027589587011321457, 'Order State_Amazonas'),\n",
       " (0.0002756960799464198, 'Order State_Rajastán'),\n",
       " (0.00027532960066504303, 'Order State_Sivas'),\n",
       " (0.00027520907359471013, 'Order State_Ontario'),\n",
       " (0.0002739914764949837, 'Order Country_Yemen'),\n",
       " (0.0002736094018830283, 'Order Country_Corea del Sur'),\n",
       " (0.0002728274093870981, 'Order State_Tabasco'),\n",
       " (0.00027280733038295533, 'Order State_Mato Grosso del Sur'),\n",
       " (0.0002716801664172433, 'Order Region_East Africa'),\n",
       " (0.0002711664229355929, 'Order Country_Zambia'),\n",
       " (0.00027083044017800993, 'Order State_Porto'),\n",
       " (0.00027009644493784595, 'Order State_Gyeonggi'),\n",
       " (0.0002700246105476596, 'Order State_Singapur'),\n",
       " (0.00026953941023344954, 'Order State_Chiapas'),\n",
       " (0.00026934132041274184, 'Order Country_Irlanda'),\n",
       " (0.00026592699164544923, 'Order Country_Papúa Nueva Guinea'),\n",
       " (0.0002654760639196739, 'Order State_Ciudad Ho Chi Minh'),\n",
       " (0.0002645199823356472, 'Order State_Quintana Roo'),\n",
       " (0.0002632026593602158, 'Order State_Benadir'),\n",
       " (0.000262212255445309, 'Order State_Utrecht'),\n",
       " (0.00026166743710772744, 'Order State_Holanda Meridional'),\n",
       " (0.0002600203575229995, 'Order State_Oyo'),\n",
       " (0.0002588990772324397, 'Order State_Miranda'),\n",
       " (0.00025887973282650586, 'Order State_Copperbelt'),\n",
       " (0.0002567036951274932, 'Order State_Lublin'),\n",
       " (0.00025604176073379555, 'Order State_Pinar del Río'),\n",
       " (0.0002559735187561092, 'Order State_Las Tunas'),\n",
       " (0.00025595857136868905, 'Order State_Visayas Occidental'),\n",
       " (0.0002550038361794153, 'Order State_Rangún'),\n",
       " (0.00025484734539081637, 'Order Country_Trinidad y Tobago'),\n",
       " (0.00025454991934858225, 'Order State_Mongolia Interior'),\n",
       " (0.0002538675841516632, 'Order State_Pahang'),\n",
       " (0.00025285296703061804, 'Order State_Santa Ana'),\n",
       " (0.0002525738087672771, 'Order Country_Singapur'),\n",
       " (0.0002522028552291129, 'Order State_Kinshasa'),\n",
       " (0.0002520044864679754, 'Order State_Kalimantan Oriental'),\n",
       " (0.0002516915653937341, 'Order State_Guyarat'),\n",
       " (0.00025138177922675686, 'Order Country_Irán'),\n",
       " (0.00024789933514684126, 'Order State_Wisconsin'),\n",
       " (0.0002467555203954681, 'Order State_Yoro'),\n",
       " (0.0002465137006888639, 'Order State_Adana'),\n",
       " (0.00024571552259228095, 'Order State_León'),\n",
       " (0.00024405662349442214, 'Order Country_Marruecos'),\n",
       " (0.00024316838207503124, 'Order State_Tennessee'),\n",
       " (0.00024200684245024443, 'Order State_Montserrado'),\n",
       " (0.00024163221551874422, 'Order State_Basilea-Ciudad'),\n",
       " (0.00024141288155371643, 'Order State_Misisipi'),\n",
       " (0.00024093354653000748, 'Order State_Tamaulipas'),\n",
       " (0.00024077506270705164, 'Order State_Meridional'),\n",
       " (0.00023933101525926248, 'Order State_Sichuan'),\n",
       " (0.0002392340302644289, 'Order Country_Grecia'),\n",
       " (0.00023700404291272567, 'Order State_Galicia'),\n",
       " (0.00023697942055778606, 'Order State_Dayr az Zawr'),\n",
       " (0.00023646934881719385, 'Order State_La Romana'),\n",
       " (0.00023191236951255404, 'Order State_Quezaltenango'),\n",
       " (0.00023171211242812342, 'Order State_Massachusetts'),\n",
       " (0.00023122497287928796, 'Order State_Distrito Capital'),\n",
       " (0.00022785713365354636, 'Order Country_Noruega'),\n",
       " (0.00022465349299897433, 'Order Country_Ecuador'),\n",
       " (0.00022271499574532503, 'Order Country_Rumania'),\n",
       " (0.00022029874484046482, 'Order Country_Liberia'),\n",
       " (0.00022013543279742544, 'Order State_Apulia'),\n",
       " (0.00021818112249451016, 'Order State_Carabobo'),\n",
       " (0.000217434484455021, 'Order Country_Bulgaria'),\n",
       " (0.00021717254415026246, 'Order State_Cabo Oriental'),\n",
       " (0.0002169598981259089, 'Order State_Grad Zagreb'),\n",
       " (0.00021602817869273118, 'Order State_Orán'),\n",
       " (0.00021412613392745588, 'Order Country_Afganistán'),\n",
       " (0.0002131048278392239, 'Order State_Fars'),\n",
       " (0.00021252894081188778, 'Order State_Dar es Salaam'),\n",
       " (0.0002119039855962656, 'Order State_Santa Fe'),\n",
       " (0.00021099131790135455, 'Order State_Nueva Jersey'),\n",
       " (0.00020878813213520917, 'Order Country_Senegal'),\n",
       " (0.00020797470958248108, 'Order State_Madrid'),\n",
       " (0.0002072434586175494, 'Order State_Th? Dô Hà N?i'),\n",
       " (0.00020699451594380382, 'Order State_Huehuetenango'),\n",
       " (0.00020622729063050235, 'Order State_Kano'),\n",
       " (0.00020510659346191805, 'Order State_Santiago de Chile'),\n",
       " (0.00020235104664279876, 'Order State_Henao'),\n",
       " (0.00020233725063320597, 'Order Country_Siria'),\n",
       " (0.00020214430887081748, 'Order State_Lagunes'),\n",
       " (0.00020091795888916824, 'Order State_Chittagong'),\n",
       " (0.00019849418409346794, 'Order Country_Jamaica'),\n",
       " (0.00019696808887848294, 'Order State_Rabat-Salé-Zemur-Zaer'),\n",
       " (0.00019662501467314458, 'Order State_Chhattisgarh'),\n",
       " (0.00019645500534994862, 'Order State_Attica'),\n",
       " (0.00019121618532601172, 'Order Country_Tanzania'),\n",
       " (0.00019091930251536967, 'Order State_Kabul'),\n",
       " (0.0001904122496757209, 'Order Country_Chile'),\n",
       " (0.00018729039954442264, 'Order State_San Miguel'),\n",
       " (0.00018575389296106716, 'Order Country_Angola'),\n",
       " (0.00018256556551218234, 'Order State_Gaziantep'),\n",
       " (0.00018086581990144033, 'Order State_Santa Caterina'),\n",
       " (0.0001800736188878348, 'Order Country_Sudán'),\n",
       " (0.0001800511515853648, 'Order Country_Rusia'),\n",
       " (0.00017841549424951978, 'Order State_Nairobi'),\n",
       " (0.00017822080673254758, 'Order State_Perak'),\n",
       " (0.00017781000808641625, 'Order Country_Camboya'),\n",
       " (0.00017747077066823446, 'Order Country_Barbados'),\n",
       " (0.00017218275502636237, 'Order State_Lusaka'),\n",
       " (0.0001692050197679609, 'Order State_Cabo Occidental'),\n",
       " (0.00016839458125410064, 'Order State_Martinica'),\n",
       " (0.000167566161305522, 'Order Country_Dinamarca'),\n",
       " (0.00016738087034019684, 'Order State_Centro'),\n",
       " (0.00015857856080526912, 'Order Country_Níger'),\n",
       " (0.00015416137201752303, 'Order State_Alberta'),\n",
       " (0.0001541122937865924, 'Order Country_Martinica'),\n",
       " (0.00015332665432853503, 'Order State_Niamey'),\n",
       " (0.00015225412114024442, 'Order Country_Somalia'),\n",
       " (0.00014948554847174524, 'Order Country_Croacia'),\n",
       " (0.00014593122887876845, 'Order State_Jartum'),\n",
       " (0.00014577942055708087, 'Order Country_Suecia'),\n",
       " (0.00014576033212597843, 'Order Country_Polonia'),\n",
       " (0.00014287388955847895, 'Order State_Nom Pen'),\n",
       " (0.00014045987023702253, 'Order Country_Kenia'),\n",
       " (0.00013918610695531938, 'Order State_Katanga'),\n",
       " (0.00013854343273443442, 'Order Country_Suiza'),\n",
       " (0.00013697977128656987, 'Order Country_Uzbekistán'),\n",
       " (0.00013590747418636438, 'Order Country_Bangladés'),\n",
       " (0.00013467040075295077, 'Order Country_Georgia'),\n",
       " (0.00013454044423286463, 'Order Country_Israel'),\n",
       " (0.000133586710200707, 'Order State_Dakar'),\n",
       " (0.00012896037984450344, 'Order Country_Costa de Marfil'),\n",
       " (0.00012787597516135816, 'Order State_Luanda'),\n",
       " (0.00010358387674930779, 'Order State_Uusimaa'),\n",
       " (0.00010166811189180523, 'Order Country_Finlandia'),\n",
       " (9.67888002075491e-05, 'Order Country_Bolivia'),\n",
       " (8.977988711036837e-05, 'Order Country_Mozambique'),\n",
       " (8.8779273540338e-05, 'Order State_Fujian'),\n",
       " (7.544748290459871e-05, 'Order State_Estocolmo'),\n",
       " (7.336090641838969e-05, 'Order Region_Central Asia'),\n",
       " (7.318070916481837e-05, 'Order Country_Benín'),\n",
       " (7.007375477187329e-05, 'Order State_Seúl'),\n",
       " (6.500723813539147e-05, 'Order State_Sinaloa'),\n",
       " (6.051816305724412e-05, 'Order State_Nebraska'),\n",
       " (6.0491871428823044e-05, 'Order State_Goiás'),\n",
       " (5.879458726157819e-05, 'Order Country_Kazajistán'),\n",
       " (5.581489125383969e-05, 'Order State_Idaho'),\n",
       " (5.4808714597516246e-05, 'Order State_Minnesota'),\n",
       " (5.111962130905585e-05, 'Order State_Shanxi'),\n",
       " (5.013166151728193e-05, 'Order State_Brandenburgo'),\n",
       " (4.956163525690053e-05, 'Order State_Nevada'),\n",
       " (4.7845416107910105e-05, 'Order State_Hebei'),\n",
       " (4.7139265988416856e-05, 'Order State_Bihar'),\n",
       " (4.700431050067869e-05, 'Order State_Misuri'),\n",
       " (4.650339709207861e-05, 'Order State_Mecklemburgo-Pomerania Occidental'),\n",
       " (4.250746574767884e-05, 'Order State_Arkansas'),\n",
       " (4.2230687257269676e-05, 'Order State_Telangana'),\n",
       " (4.05534072050079e-05, 'Order State_Río Grande del Norte'),\n",
       " (3.957459319747429e-05, 'Order State_Daca'),\n",
       " (3.90496567278048e-05, 'Order State_Utah'),\n",
       " (3.856277318020047e-05, 'Order State_Bolívar'),\n",
       " (3.815206290152089e-05, 'Order State_Choluteca'),\n",
       " (3.7195723709919174e-05, 'Order State_Auvernia'),\n",
       " (3.682009702054132e-05, 'Order State_Murcia'),\n",
       " (3.641919516512547e-05, 'Order State_Tianjin'),\n",
       " (3.423368794115662e-05, 'Order State_Estelí'),\n",
       " (3.410985093949938e-05, 'Order State_La Libertad'),\n",
       " (3.311765061434238e-05, 'Order State_Bengala Occidental'),\n",
       " (3.2774423329939627e-05, 'Order State_Alabama'),\n",
       " (3.230835536423529e-05, 'Order State_Shaanxi'),\n",
       " (3.093951903433146e-05, 'Order State_Oklahoma'),\n",
       " (3.079090626685024e-05, 'Order State_Montana'),\n",
       " (3.071806295994256e-05, 'Order State_Andhra Pradesh'),\n",
       " (3.0484140988223278e-05, 'Order State_Gales'),\n",
       " (3.0208971267169264e-05, 'Order State_Sumatra Occidental'),\n",
       " (2.8472261565246775e-05, 'Order State_Chiriquí'),\n",
       " (2.819908145884079e-05, 'Order State_Gansu'),\n",
       " (2.8091074525635364e-05, 'Order State_Connecticut'),\n",
       " (2.804755525911134e-05, 'Order State_Anzoátegui'),\n",
       " (2.7864939889962157e-05, 'Order State_Masaya'),\n",
       " (2.7437554547666784e-05, 'Order State_Matanzas'),\n",
       " (2.6958673165914177e-05, 'Order State_Al Bahr al Ahmar'),\n",
       " (2.57714410056466e-05, 'Order State_Ciego de Ávila'),\n",
       " (2.559844553269859e-05, 'Order State_Chaco'),\n",
       " (2.540823150628521e-05, 'Order State_Nuevo México'),\n",
       " (2.4984295952131867e-05, 'Order State_Jiangxi'),\n",
       " (2.494659615046566e-05, 'Order State_Iowa'),\n",
       " (2.4555495465864603e-05, 'Order State_Cork'),\n",
       " (2.3022350258949978e-05, 'Order State_Zúrich'),\n",
       " (2.2777570840597633e-05, 'Order State_Columbia británica'),\n",
       " (2.270746878287358e-05, 'Order State_Delhi'),\n",
       " (2.2626495129948455e-05, 'Order State_Kansas'),\n",
       " (2.206055215670502e-05, 'Order State_Sumatra Meridional'),\n",
       " (2.1853504827681986e-05, 'Order State_Nínive'),\n",
       " (2.1504773049652784e-05, 'Order State_Brabante Flamenco'),\n",
       " (2.1344049374263773e-05, 'Order State_Bay of Plenty'),\n",
       " (2.1242903808144497e-05, 'Order State_Atlántico'),\n",
       " (2.1193930970856576e-05, 'Order State_Mindanao Septentrional'),\n",
       " (2.1147130576507935e-05, 'Order State_Cienfuegos'),\n",
       " (2.1002163081540737e-05, 'Order State_Northland'),\n",
       " (1.998201711521843e-05, 'Order State_Granada'),\n",
       " (1.9957643629597626e-05, 'Order State_Sarre'),\n",
       " (1.9834508510355497e-05, 'Order State_Santander'),\n",
       " (1.922807456627884e-05, 'Order State_Trengganu'),\n",
       " (1.9044176201402704e-05, 'Order State_Antalya'),\n",
       " (1.8957041172864107e-05, 'Order State_Rhode Island'),\n",
       " (1.8885233684743403e-05, 'Order State_Xinjiang Uygur'),\n",
       " (1.8692472327296415e-05, 'Order State_Kerala'),\n",
       " (1.8581300284508058e-05, 'Order State_Ashanti'),\n",
       " (1.8384956140137302e-05, 'Order State_Artemisa'),\n",
       " (1.8109835871268088e-05, 'Order State_Mayabeque'),\n",
       " (1.791385769638957e-05, 'Order State_Cerdeña'),\n",
       " (1.7556195772454006e-05, 'Order State_Ash Sharqiyah'),\n",
       " (1.753088029038228e-05, 'Order State_Hims'),\n",
       " (1.6976657991025538e-05, 'Order State_Nayarit'),\n",
       " (1.6549543843389542e-05, 'Order State_Assam'),\n",
       " (1.646184700927928e-05, 'Order State_Juzestán'),\n",
       " (1.6407103307043517e-05, 'Order State_Nzérékoré'),\n",
       " (1.6331185148855645e-05, 'Order State_San Fernando'),\n",
       " (1.6243047537613887e-05, 'Order State_Peravia'),\n",
       " (1.5739703248422962e-05, 'Order State_Otago'),\n",
       " (1.5725354053173443e-05, 'Order State_Cundinamarca'),\n",
       " (1.5630911501667362e-05, 'Order State_Central'),\n",
       " (1.555074185808119e-05, 'Order State_Azuay'),\n",
       " (1.5537532908566315e-05, 'Order State_Asturias'),\n",
       " (1.534635565053398e-05, 'Order State_Arbil'),\n",
       " (1.5335309946894042e-05, 'Order State_Marche'),\n",
       " (1.532744175261453e-05, 'Order State_Menia'),\n",
       " (1.5105595295504712e-05, 'Order State_KwaZulu-Natal'),\n",
       " (1.509228261977911e-05, 'Order State_Colima'),\n",
       " (1.4864222971579492e-05, 'Order State_Ulsan'),\n",
       " (1.4764560924372129e-05, 'Order State_Bali'),\n",
       " (1.4706993388280319e-05, 'Order State_Bursa'),\n",
       " (1.4616729726371137e-05, 'Order State_Al Buhayrah'),\n",
       " (1.4436317739845606e-05, 'Order State_Värmland'),\n",
       " (1.4179491843275366e-05, 'Order Country_Mongolia'),\n",
       " (1.4156064473917482e-05, 'Order State_Negeri Sembilan'),\n",
       " (1.3805363655632385e-05, 'Order State_Célebes Septentrional'),\n",
       " (1.3772767459177224e-05, 'Order State_Guayas'),\n",
       " (1.3612038815316893e-05, 'Order State_Junín'),\n",
       " (1.3549751261066467e-05, \"Order State_Hawke's Bay\"),\n",
       " (1.3518794679500268e-05, 'Order State_Distrito de Columbia'),\n",
       " (1.3432796523626852e-05, 'Order State_Cantabria'),\n",
       " (1.3385266738949094e-05, 'Order State_Norte de Santander'),\n",
       " (1.329794284077941e-05, 'Order State_Sancti Spíritus'),\n",
       " (1.3261130541933971e-05, 'Order State_Dà Nang'),\n",
       " (1.325742156945009e-05, 'Order State_Cidade De Maputo'),\n",
       " (1.3103100286621914e-05, 'Order State_Enugu'),\n",
       " (1.2868239517763893e-05, 'Order State_Zacatecas'),\n",
       " (1.2847097267388484e-05, 'Order State_Montevideo'),\n",
       " (1.2729903117013175e-05, 'Order State_Vermont'),\n",
       " (1.2484632883769783e-05, 'Order State_Tolima'),\n",
       " (1.2294831428387067e-05, 'Order Country_Lituania'),\n",
       " (1.228742961473972e-05, 'Order State_Huambo'),\n",
       " (1.2285269519848661e-05, 'Order State_Drenthe'),\n",
       " (1.2170860361469716e-05, 'Order State_Aichi'),\n",
       " (1.2155745195397807e-05, 'Order State_Annaba'),\n",
       " (1.2154404053067467e-05, 'Order State_Campeche'),\n",
       " (1.1841259224237901e-05, 'Order State_Ríos'),\n",
       " (1.170833357721099e-05, 'Order State_Abia'),\n",
       " (1.167888872065808e-05, 'Order State_Ulán Bator'),\n",
       " (1.1629656862724928e-05, 'Order State_Silesia'),\n",
       " (1.1555070449701313e-05, 'Order Country_Uruguay'),\n",
       " (1.1522453117560206e-05, 'Order State_Nusa Tenggara Oriental'),\n",
       " (1.1352449997154008e-05, 'Order Country_Zimbabue'),\n",
       " (1.1295297975109494e-05, 'Order State_Carintia'),\n",
       " (1.1202194052447517e-05, 'Order State_Región Capital'),\n",
       " (1.1201246436587347e-05, 'Order State_La Vega'),\n",
       " (1.1168917971107818e-05, 'Order State_Jubbada Hoose'),\n",
       " (1.1065771949866336e-05, 'Order State_Uttarakhand'),\n",
       " (1.1015298912013179e-05, 'Order State_Dublín del Sur'),\n",
       " (1.077767207440747e-05, 'Order State_Mequinez-Tafilalet'),\n",
       " (1.0774468667724084e-05, 'Order Country_República Checa'),\n",
       " (1.0751443575725432e-05, 'Order Country_Bielorrusia'),\n",
       " (1.0750051376572796e-05, 'Order State_Mar Rojo'),\n",
       " (1.0595099137446642e-05, 'Order State_Guanacaste'),\n",
       " (1.039721693769487e-05, 'Order State_Luisiana'),\n",
       " (1.0309218466360556e-05, 'Order State_Puno'),\n",
       " (1.0256030082634286e-05, 'Order Country_Ruanda'),\n",
       " (1.0061273081539807e-05, 'Order State_Harare'),\n",
       " (9.927154689603598e-06, 'Order State_Flanders Occidental'),\n",
       " (9.860613807109033e-06, 'Order State_Plateau'),\n",
       " (9.82150113955033e-06, 'Order State_Vest-Agder'),\n",
       " (9.812500156847122e-06, 'Order State_Cheliábinsk'),\n",
       " (9.78619639938425e-06, 'Order State_Sergipe'),\n",
       " (9.643967600124496e-06, 'Order Country_Uganda'),\n",
       " (9.539345240979152e-06, 'Order State_Provincia Oriental'),\n",
       " (9.506633666546215e-06, 'Order State_Ouémé'),\n",
       " (9.43681471634966e-06, 'Order State_Vallée du Bandama'),\n",
       " (9.433783338045208e-06, 'Order State_Mures'),\n",
       " (9.390586555323707e-06, 'Order State_Piauí'),\n",
       " (9.322896750094037e-06, 'Order State_La Paz'),\n",
       " (9.261285107222946e-06, 'Order State_Aswan'),\n",
       " (9.188073502757873e-06, 'Order State_Kasai Occidental'),\n",
       " (9.168053720198355e-06, 'Order State_Nagasaki'),\n",
       " (9.0949848013384e-06, 'Order State_Tocantins'),\n",
       " (9.01886669867485e-06, 'Order State_Shizuoka'),\n",
       " (8.989700336231697e-06, 'Order State_Gezira'),\n",
       " (8.947691312548803e-06, 'Order State_Adamaoua'),\n",
       " (8.940045110707042e-06, 'Order State_El Beni'),\n",
       " (8.898528725158755e-06, 'Order State_Federación de Bosnia y Herzegovina'),\n",
       " (8.87550984549399e-06, 'Order State_Chauía-Uardiga'),\n",
       " (8.839990381382317e-06, 'Order State_Yamaguchi'),\n",
       " (8.724854042475527e-06, 'Order State_Sistán y Baluchistán'),\n",
       " (8.659490036914568e-06, 'Order State_Amán'),\n",
       " (8.631816003385853e-06, 'Order State_Kankan'),\n",
       " (8.625466707198712e-06, 'Order State_Marlborough'),\n",
       " (8.594472095358856e-06, 'Order State_Nelson'),\n",
       " (8.57041267018999e-06, 'Order State_Finlandia del Sudoeste'),\n",
       " (8.54272387179492e-06, 'Order State_Manitoba'),\n",
       " (8.45949218094843e-06, 'Order Country_Libia'),\n",
       " (8.433137368271765e-06, 'Order State_Borneo Occidental'),\n",
       " (8.426636118393141e-06, 'Order State_Odisha'),\n",
       " (8.320464828318036e-06, 'Order State_Daegu'),\n",
       " (8.317606042998357e-06, 'Order State_Tel Aviv'),\n",
       " (8.197686126672047e-06, 'Order State_Cordillera'),\n",
       " (8.186084615407023e-06, 'Order State_Teherán'),\n",
       " (8.118028165633406e-06, 'Order State_Chiba'),\n",
       " (8.10577891638114e-06, 'Order State_Territorio de la Capital Federal'),\n",
       " (7.974366776506687e-06, 'Order State_Osaka'),\n",
       " (7.863405679173994e-06, 'Order State_Calabria'),\n",
       " (7.810170100110605e-06, 'Order State_Khulna'),\n",
       " (7.809639052116244e-06, 'Order State_Sind'),\n",
       " (7.791357922764175e-06, 'Order State_Noroeste'),\n",
       " (7.73330549254631e-06, 'Order State_Roraima'),\n",
       " (7.67325865294667e-06, 'Order State_Donetsk'),\n",
       " (7.653702875543735e-06, 'Order State_Potosí'),\n",
       " (7.644775522877845e-06, 'Order State_Bashkortostán'),\n",
       " (7.638738224313609e-06, 'Order State_Ishikawa'),\n",
       " (7.493414759921352e-06, 'Order Country_Belice'),\n",
       " (7.470762821428317e-06, 'Order State_Marrakech-Tensift-Al Hauz'),\n",
       " (7.415708884687334e-06, 'Order State_Jharkhand'),\n",
       " (7.394631807765287e-06, 'Order State_Delta'),\n",
       " (7.344589438195077e-06, 'Order State_Erzurum'),\n",
       " (7.3354979283023395e-06, 'Order State_Tiflis'),\n",
       " (7.32873439894928e-06, 'Order State_Qom'),\n",
       " (7.294344949495213e-06, 'Order State_Kandahar'),\n",
       " (7.218350233552627e-06, 'Order State_Islas Baleares'),\n",
       " (7.20286833968078e-06, 'Order Country_Kirguistán'),\n",
       " (7.179304050773043e-06, 'Order State_Entre Ríos'),\n",
       " (7.034844197454245e-06, 'Order State_Cluj'),\n",
       " (7.029856752566669e-06, 'Order State_Berna'),\n",
       " (6.9882078750020356e-06, 'Order State_Moquegua'),\n",
       " (6.976785327375489e-06, 'Order State_Tekirdag'),\n",
       " (6.896220690876942e-06, 'Order State_Yazd'),\n",
       " (6.876141657450879e-06, 'Order Country_Turkmenistán'),\n",
       " (6.832965124680425e-06, 'Order State_Navarra'),\n",
       " (6.825286414371725e-06, 'Order State_Departamento Atlántico'),\n",
       " (6.8249776420847515e-06, 'Order State_Västra Götaland'),\n",
       " (6.8145521498119166e-06, 'Order State_Southland'),\n",
       " (6.751362954128682e-06, 'Order State_Ancash'),\n",
       " (6.749828762174292e-06, 'Order State_Asir'),\n",
       " (6.733974993503515e-06, \"Order State_O'Higgins\"),\n",
       " (6.716365531742916e-06, 'Order State_Praga'),\n",
       " (6.682337732868517e-06, 'Order State_Fez-Bulmán'),\n",
       " (6.665002668427605e-06, 'Order State_Mykolayiv'),\n",
       " (6.647924876630699e-06, 'Order State_Kasai Oriental'),\n",
       " (6.60687007725699e-06, 'Order State_Bishkek'),\n",
       " (6.582811549388663e-06, 'Order State_Mardin'),\n",
       " (6.5793057571921455e-06, 'Order State_Nord'),\n",
       " (6.551452219467633e-06, 'Order State_Huila'),\n",
       " (6.503406746255096e-06, 'Order State_Vargas'),\n",
       " (6.451793261229626e-06, 'Order State_Guárico'),\n",
       " (6.435929150598042e-06, 'Order State_Karagandá'),\n",
       " (6.374934517687605e-06, 'Order State_Tarija'),\n",
       " (6.3313347519350865e-06, 'Order State_Ceuta'),\n",
       " (6.2680493562553015e-06, 'Order State_Papua'),\n",
       " (6.254950014481656e-06, 'Order State_Lviv'),\n",
       " (6.251946962004311e-06, 'Order State_Hordaland'),\n",
       " (6.248149400608883e-06, 'Order Country_Togo'),\n",
       " (6.2268377591142255e-06, 'Order State_Lugansk'),\n",
       " (6.2257580361270105e-06, 'Order State_Atakora'),\n",
       " (6.191337709862429e-06, 'Order State_Bra?ov'),\n",
       " (6.180044545105094e-06, 'Order Country_Albania'),\n",
       " (6.172134876064491e-06, 'Order State_Kurdistán'),\n",
       " (6.150120977078907e-06, 'Order Country_Túnez'),\n",
       " (6.13596364005643e-06, 'Order Country_Moldavia'),\n",
       " (6.121303148148536e-06, 'Order State_Polonia Menor'),\n",
       " (6.104467959995197e-06, 'Order State_Pomerania'),\n",
       " (6.090567108001863e-06, 'Order State_Oriental'),\n",
       " (6.06527420669763e-06, 'Order State_Chernihiv'),\n",
       " (6.0425590241055056e-06, 'Order Country_Mali'),\n",
       " (5.9925056723930775e-06, 'Order State_Rondônia'),\n",
       " (5.981938538730521e-06, 'Order State_Asjabad'),\n",
       " (5.9804896260285815e-06, 'Order State_Valparaíso'),\n",
       " (5.977937500670701e-06, 'Order State_Pavlodar'),\n",
       " (5.867116416405431e-06, 'Order State_Batman'),\n",
       " (5.830386706823845e-06, 'Order State_Kaduna'),\n",
       " (5.807058879824981e-06, 'Order State_Manawatu-Wanganui'),\n",
       " (5.762074685298292e-06, 'Order State_Hedmark'),\n",
       " (5.752068282980926e-06, 'Order State_Artibonito'),\n",
       " (5.7402762362918195e-06, 'Order State_La Pampa'),\n",
       " (5.715121782146423e-06, 'Order Country_Nepal'),\n",
       " (5.692988944152593e-06, 'Order Country_Bosnia y Herzegovina'),\n",
       " (5.686164953798221e-06, 'Order State_Dakota del Sur'),\n",
       " (5.681810171020407e-06, 'Order State_Mazandarán'),\n",
       " (5.6651814056725685e-06, 'Order State_Bihor'),\n",
       " (5.6571177392356315e-06, 'Order State_Liguria'),\n",
       " (5.617770965477955e-06, 'Order State_Iasi'),\n",
       " (5.617770953953521e-06, 'Order State_Botosani'),\n",
       " (5.584142099458061e-06, 'Order State_Jutlandia Central'),\n",
       " (5.505855186183925e-06, 'Order State_Neuquén'),\n",
       " (5.497453963180411e-06, 'Order State_Donga'),\n",
       " (5.4928744014341825e-06, 'Order State_Kigali'),\n",
       " (5.4890551255900044e-06, 'Order State_Selangor'),\n",
       " (5.467860001215749e-06, 'Order Country_Yibuti'),\n",
       " (5.4604607371977905e-06, 'Order State_Coimbra'),\n",
       " (5.451054330597619e-06, 'Order State_Guilán'),\n",
       " (5.427724848150886e-06, 'Order State_Isfahán'),\n",
       " (5.412408220745409e-06, 'Order State_Salzburgo'),\n",
       " (5.406249459642265e-06, 'Order State_Maluku'),\n",
       " (5.4020310531577675e-06, 'Order State_Borno'),\n",
       " (5.401369931573287e-06, 'Order State_Maputo'),\n",
       " (5.299589053535048e-06, 'Order Country_Costa Rica'),\n",
       " (5.247297660136481e-06, 'Order State_Morogoro'),\n",
       " (5.211863992721063e-06, 'Order State_Corse'),\n",
       " (5.205222093077764e-06, 'Order State_Zhytómyr'),\n",
       " (5.203854026808818e-06, 'Order State_Luzón Central'),\n",
       " (5.200513719852955e-06, 'Order State_Bistrita-Nasaud'),\n",
       " (5.197812659497356e-06, 'Order State_Markazí'),\n",
       " (5.130746882322099e-06, 'Order State_Al Jawf'),\n",
       " (5.117701763223936e-06, 'Order State_Eskisehir'),\n",
       " (5.079999216624877e-06, 'Order Country_Guadalupe'),\n",
       " (5.055128576883409e-06, 'Order State_Al Hudayda'),\n",
       " (4.947534398443247e-06, 'Order State_Denizli'),\n",
       " (4.912475980218835e-06, 'Order State_Misiones'),\n",
       " (4.88762069933573e-06, 'Order Country_Emiratos Árabes Unidos'),\n",
       " (4.846936813798908e-06, 'Order State_Irkutsk'),\n",
       " (4.831696518250268e-06, 'Order State_Katsina'),\n",
       " (4.786757490041585e-06, 'Order State_Zaporiyia'),\n",
       " (4.776709827250586e-06, 'Order Country_Jordania'),\n",
       " (4.718197939071968e-06, 'Order State_Cross River'),\n",
       " (4.702792684014924e-06, 'Order State_Lara'),\n",
       " (4.702431831929453e-06, 'Order State_Daguestán'),\n",
       " (4.682368623707951e-06, 'Order State_Saitama'),\n",
       " (4.6768096296450655e-06, 'Order State_Osh'),\n",
       " (4.675927021430385e-06, 'Order State_Bani Suwayf'),\n",
       " (4.664458213643759e-06, 'Order State_Manabí'),\n",
       " (4.659786022811282e-06, 'Order State_Dakota del Norte'),\n",
       " (4.606503184917174e-06, 'Order State_Afyonkarahisar'),\n",
       " (4.595165343242273e-06, 'Order State_Hamadán'),\n",
       " (4.56265433905277e-06, 'Order State_Nakhon Ratchasima'),\n",
       " (4.5419175708936745e-06, 'Order State_Zinder'),\n",
       " (4.538196119349305e-06, 'Order State_Vâlcea'),\n",
       " (4.4952483530344295e-06, 'Order State_Nangarhar'),\n",
       " (4.469008996700722e-06, 'Order State_Baki'),\n",
       " (4.458185223711942e-06, 'Order State_Plovdiv'),\n",
       " (4.453365625691453e-06, 'Order State_Bulawayo'),\n",
       " (4.421618058600626e-06, 'Order State_Tánger-Tetuán'),\n",
       " (4.419730445015169e-06, 'Order State_Jersón'),\n",
       " (4.412089960927842e-06, 'Order State_Jaiber Pajtunjuá'),\n",
       " (4.410295687656715e-06, 'Order State_Caquetá'),\n",
       " (4.38104425675563e-06, 'Order State_Manipur'),\n",
       " (4.340968045681296e-06, 'Order State_Kiên Giang'),\n",
       " (4.3310187641516845e-06, 'Order State_Djelfa'),\n",
       " (4.319907995591565e-06, 'Order State_Anambra'),\n",
       " (4.3069017628987964e-06, 'Order State_Kahramanmara?'),\n",
       " (4.2611360229803764e-06, 'Order State_Elazig'),\n",
       " (4.204395267136602e-06, 'Order State_Guadalupe'),\n",
       " (4.161558570096291e-06, 'Order State_Vínnytsia'),\n",
       " (4.136154084178721e-06, 'Order State_Quindío'),\n",
       " (4.077582275632115e-06, 'Order State_Grodno'),\n",
       " (4.056776196718947e-06, 'Order State_Antofagasta'),\n",
       " (4.033158062158649e-06, 'Order State_Cadisia'),\n",
       " (4.0169633393256155e-06, 'Order State_Cajamarca'),\n",
       " (4.009384126921018e-06, 'Order State_Hidalgo'),\n",
       " (3.972689091888226e-06, 'Order Country_Estonia'),\n",
       " (3.966479612343212e-06, 'Order State_Taza-Alhucemas-Taunat'),\n",
       " (3.9359029753145205e-06, 'Order State_T?nh C?n Th?'),\n",
       " (3.9357071861350415e-06, 'Order State_Piura'),\n",
       " (3.900094179155376e-06, 'Order State_Mazovia'),\n",
       " (3.892669035470993e-06, 'Order State_Sanliurfa'),\n",
       " (3.870182287043799e-06, 'Order State_Los Ríos'),\n",
       " (3.8279094656713136e-06, 'Order State_Brest'),\n",
       " (3.8067226430983634e-06, 'Order Country_Hungría'),\n",
       " (3.7988478281208083e-06, 'Order State_Namur'),\n",
       " (3.757790624111056e-06, 'Order State_Demerara-Berbice Superior'),\n",
       " (3.7362660288493345e-06, 'Order State_Gisborne'),\n",
       " (3.727130126317909e-06, 'Order Country_Líbano'),\n",
       " (3.69609553594047e-06, 'Order State_Aceh'),\n",
       " (3.6939585346759334e-06, 'Order State_Maradi'),\n",
       " (3.6770788909866195e-06, 'Order State_Rajshahi'),\n",
       " (3.6730367104289856e-06, 'Order State_Magdalena'),\n",
       " (3.65377145180491e-06, 'Order State_Karbala'),\n",
       " (3.6429369068559985e-06, 'Order State_Split-Dalmacia'),\n",
       " (3.604926925450792e-06, 'Order State_Arusha'),\n",
       " (3.5513637044397427e-06, 'Order State_Selandia'),\n",
       " (3.5447732545263896e-06, 'Order State_Kigoma'),\n",
       " (3.5185040020943774e-06, 'Order State_Bandundu'),\n",
       " (3.4979510532457717e-06, 'Order State_Shinyanga'),\n",
       " (3.474960005384323e-06, 'Order State_Maine'),\n",
       " (3.468685338480437e-06, 'Order State_Mesena'),\n",
       " (3.443742210230901e-06, 'Order Country_Botsuana'),\n",
       " (3.4356373784155756e-06, 'Order State_Beirut'),\n",
       " (3.421707268725868e-06, 'Order State_Jeju'),\n",
       " (3.370427408753552e-06, 'Order State_Tochigi'),\n",
       " (3.3688609728470545e-06, 'Order Country_Gabón'),\n",
       " (3.3543497380297495e-06, 'Order State_Kymenlaakso'),\n",
       " (3.3452910902681893e-06, 'Order State_Ras al-Jaima'),\n",
       " (3.3216262668404908e-06, 'Order State_Upsala'),\n",
       " (3.315419630876461e-06, 'Order State_Lorestan'),\n",
       " (3.2837647781332634e-06, 'Order State_Aveiro'),\n",
       " (3.2628447336013907e-06, 'Order State_Aydin'),\n",
       " (3.2052867159213e-06, 'Order State_Budapest'),\n",
       " (3.179901935050143e-06, 'Order State_Matruh'),\n",
       " (3.1684268507147245e-06, 'Order State_Ondo'),\n",
       " (3.136543733055945e-06, 'Order State_Vaud'),\n",
       " (3.129264327601729e-06, 'Order State_Saladino'),\n",
       " (3.1221729730938822e-06, 'Order State_Bío-Bío'),\n",
       " (3.1064520020833235e-06, 'Order State_Halland'),\n",
       " (3.0930487850305797e-06, 'Order State_Haifa'),\n",
       " (3.0926047613889474e-06, 'Order State_Setúbal'),\n",
       " (3.0783609881437084e-06, 'Order State_Adamawa'),\n",
       " (3.059606811040182e-06, 'Order State_Maniema'),\n",
       " (3.014190224278199e-06, 'Order State_Nagano'),\n",
       " (3.001121624332852e-06, 'Order State_Arjánguelsk'),\n",
       " (2.967965797090182e-06, 'Order Country_Madagascar'),\n",
       " (2.952675646556791e-06, 'Order State_Tartu'),\n",
       " (2.937752620857431e-06, 'Order State_Virginia Occidental'),\n",
       " (2.9237348979627113e-06, 'Order State_Sarawak'),\n",
       " (2.9191087295041256e-06, 'Order State_Chuquisaca'),\n",
       " (2.896719621492981e-06, 'Order Country_Guayana Francesa'),\n",
       " (2.887201188309142e-06, 'Order State_Est'),\n",
       " (2.886650354932592e-06, 'Order State_Jinja'),\n",
       " (2.8559147303127334e-06, 'Order State_Sokoto'),\n",
       " (2.8412078629853652e-06, 'Order State_Vilna'),\n",
       " (2.8372541661985995e-06, 'Order State_Ciudad de Almatý'),\n",
       " (2.8061876530095324e-06, 'Order State_Vlorë'),\n",
       " (2.7953634815166964e-06, 'Order State_Buskerud'),\n",
       " (2.7815567303719755e-06, 'Order State_Maramures'),\n",
       " (2.764742737484712e-06, 'Order State_Vitsyebsk'),\n",
       " (2.7382701228225583e-06, 'Order State_Bengasi'),\n",
       " (2.7365422506978862e-06, 'Order State_Risaralda'),\n",
       " (2.726149649849837e-06, 'Order State_Bamako'),\n",
       " (2.6793018165258865e-06, 'Order State_Burgas'),\n",
       " (2.6530513185198515e-06, 'Order State_Kampala'),\n",
       " (2.6385252218009435e-06, 'Order State_Portuguesa'),\n",
       " (2.6280566018076306e-06, 'Order State_Santiago del Estero'),\n",
       " (2.6245623629926886e-06, 'Order State_Ardebil'),\n",
       " (2.6232981624829365e-06, 'Order State_Táchira'),\n",
       " (2.6100765951985082e-06, 'Order State_Skikda'),\n",
       " (2.601751112180032e-06, 'Order State_Magallanes y Antártica Chilena'),\n",
       " (2.5980535343771083e-06, 'Order State_Rivne'),\n",
       " (2.5809125178525278e-06, 'Order State_Kashkadar'),\n",
       " (2.5655186976568243e-06, 'Order State_Podlaquia'),\n",
       " (2.5341727485637606e-06, 'Order State_Distrito de Cayo'),\n",
       " (2.518352683555996e-06, 'Order State_Cesar'),\n",
       " (2.484486376232385e-06, 'Order State_Túnez'),\n",
       " (2.4366606588780963e-06, 'Order State_Haut-Sassandra'),\n",
       " (2.3888156625956778e-06, 'Order State_Kaunas'),\n",
       " (2.387905632619005e-06, 'Order State_Jerusalén'),\n",
       " (2.386724865342496e-06, 'Order State_Bacau'),\n",
       " (2.3557506625551525e-06, 'Order Country_Taiwán'),\n",
       " (2.3266048829204263e-06, 'Order State_Costa'),\n",
       " (2.307932025023384e-06, 'Order State_Célebes Central'),\n",
       " (2.295377975392895e-06, 'Order State_Nueva Esparta'),\n",
       " (2.2890170734592697e-06, 'Order State_Taranaki'),\n",
       " (2.2865473134108195e-06, 'Order State_Primorje-Gorski Kotar'),\n",
       " (2.2858676750526767e-06, 'Order State_Bajo Congo'),\n",
       " (2.2811278474552027e-06, 'Order State_Gobolka Woqooyi Galbeed'),\n",
       " (2.2645919762660357e-06, 'Order State_Qazvín'),\n",
       " (2.260569526087775e-06, 'Order State_Akmola'),\n",
       " (2.25849137438041e-06, 'Order State_Fukuoka'),\n",
       " (2.253463340896027e-06, 'Order State_Analamanga'),\n",
       " (2.246999368937751e-06, 'Order State_Hainan'),\n",
       " (2.236596671526656e-06, 'Order State_Lucerna'),\n",
       " (2.228583355926286e-06, 'Order Country_Macedonia'),\n",
       " (2.2200366373685103e-06, 'Order State_Tizi Ouzou'),\n",
       " (2.1888040331598027e-06, 'Order State_Plateaux'),\n",
       " (2.1821056607614047e-06, 'Order State_Yibuti'),\n",
       " (2.138442345423426e-06, 'Order State_Estuaire'),\n",
       " (2.1254777245546777e-06, 'Order State_Hokkaido'),\n",
       " (2.1187249776450546e-06, 'Order State_Chisináu'),\n",
       " (2.0858238560750274e-06, 'Order State_Kocaeli'),\n",
       " (2.0848866031937685e-06, 'Order State_Astaná'),\n",
       " (2.077076018031094e-06, 'Order State_Nusatenggara Occidental'),\n",
       " (2.0553422693543486e-06, 'Order State_Ginebra'),\n",
       " (2.0265441288643285e-06, 'Order State_Balikesir'),\n",
       " (2.0236107715613103e-06, 'Order State_Batna'),\n",
       " (2.0200722601017576e-06, 'Order State_Guelmim-Esmara'),\n",
       " (2.005127402332127e-06, 'Order State_Bié'),\n",
       " (1.98587261523588e-06, 'Order Country_Sierra Leona'),\n",
       " (1.971473130528827e-06, 'Order State_Nyanza'),\n",
       " (1.959412077232368e-06, 'Order State_Jizán'),\n",
       " (1.9583927295136174e-06, 'Order State_Suhaj'),\n",
       " (1.913795069803898e-06, 'Order State_Garb-Chrarda-Beni Hsen'),\n",
       " (1.9059652782658738e-06, 'Order Country_Guyana'),\n",
       " (1.8539436278080812e-06, 'Order State_Astracán'),\n",
       " (1.8439561128449807e-06, 'Order State_Adiyaman'),\n",
       " (1.8387784021026992e-06, 'Order State_Puerto Saíd'),\n",
       " (1.8367504632997217e-06, 'Order State_Opole'),\n",
       " (1.7904381231021278e-06, 'Order State_Panevezys'),\n",
       " (1.7649444783752246e-06, 'Order State_Luxemburgo'),\n",
       " (1.7426088473852571e-06, 'Order Country_Azerbaiyán'),\n",
       " (1.7416447505126475e-06, 'Order State_Santa Cruz'),\n",
       " (1.732233195917659e-06, 'Order State_Malanje'),\n",
       " (1.6947888164403114e-06, 'Order State_Ruvuma'),\n",
       " (1.6859973837779625e-06, 'Order State_Mara'),\n",
       " (1.6811801635328606e-06, 'Order Country_Qatar'),\n",
       " (1.6810112252751727e-06, 'Order State_Cherkasy'),\n",
       " (1.6592539751221883e-06, 'Order Country_Paraguay'),\n",
       " (1.6449704783704e-06, 'Order State_Zambezia'),\n",
       " (1.5520847938713438e-06, 'Order State_Tokat'),\n",
       " (1.5289686165340947e-06, 'Order State_Tadla-Azilal'),\n",
       " (1.5103244062756283e-06, 'Order State_Frisia'),\n",
       " (1.5064802177481702e-06, 'Order State_Alibori'),\n",
       " (1.4732917198556308e-06, 'Order State_Corum'),\n",
       " (1.4390173742598155e-06, 'Order State_Marítima'),\n",
       " (1.4196619280088474e-06, 'Order State_Bugía'),\n",
       " (1.4183119677839323e-06, 'Order State_Gómel'),\n",
       " (1.4005169597928052e-06, 'Order State_Doha'),\n",
       " (1.3967933336839278e-06, 'Order State_Ecuatoria Central'),\n",
       " (1.3826121234323376e-06, 'Order State_Gorj'),\n",
       " (1.3809348148854383e-06, 'Order State_Korçë'),\n",
       " (1.3555310495858663e-06, 'Order State_Nigde'),\n",
       " (1.3493066925464685e-06, 'Order State_Harjumaa'),\n",
       " (1.3473562946735734e-06, 'Order State_Osmaniye'),\n",
       " (1.336487841802247e-06, 'Order State_Amur'),\n",
       " ...]"
      ]
     },
     "execution_count": 34,
     "metadata": {},
     "output_type": "execute_result"
    }
   ],
   "source": [
    "# Get the feature importance array\n",
    "importances = rf_model.feature_importances_\n",
    "# List the top 10 most important features\n",
    "importances_sorted = sorted(zip(rf_model.feature_importances_, X.columns), reverse=True)\n",
    "importances_sorted"
   ]
  },
  {
   "cell_type": "markdown",
   "metadata": {},
   "source": [
    "Despite high accuracy, the recall for fraud cases is ridiculously low - A recall of 0.01 for fraud means the model is missing out on 99% of actual fraud cases, which is a significant risk in a real-world scenario. Assuming that data imbalance is the most likely issue, adding a resampling strategy to improve the recall"
   ]
  },
  {
   "cell_type": "code",
   "execution_count": 35,
   "metadata": {},
   "outputs": [],
   "source": [
    "from imblearn.over_sampling import SMOTE\n",
    "from imblearn.under_sampling import RandomUnderSampler\n",
    "from imblearn.pipeline import Pipeline"
   ]
  },
  {
   "cell_type": "code",
   "execution_count": 36,
   "metadata": {},
   "outputs": [],
   "source": [
    "# Rebalance the dataset\n",
    "# Use SMOTE to oversample the minority class and RandomUnderSampler to undersample the majority class\n",
    "resampling = Pipeline([('SMOTE', SMOTE()), ('RandomUnderSampler', RandomUnderSampler())])\n",
    "X_train_balanced, y_train_balanced = resampling.fit_resample(X_train_scaled, y_train)"
   ]
  },
  {
   "cell_type": "code",
   "execution_count": 37,
   "metadata": {},
   "outputs": [],
   "source": [
    "# Create the random forest classifier\n",
    "rf_model = RandomForestClassifier(n_estimators=500, random_state=78)\n",
    "rf_model = rf_model.fit(X_train_balanced, y_train_balanced)"
   ]
  },
  {
   "cell_type": "code",
   "execution_count": 38,
   "metadata": {},
   "outputs": [],
   "source": [
    "# Predict\n",
    "predictions = rf_model.predict(X_test_scaled)"
   ]
  },
  {
   "cell_type": "code",
   "execution_count": 39,
   "metadata": {},
   "outputs": [],
   "source": [
    "# Evaluations\n",
    "cm = confusion_matrix(y_test, predictions)\n",
    "cm_df = pd.DataFrame(\n",
    "    cm, index=[\"Legitemate [0]\", \"Fraud [1]\"], columns=[\"Legitemate [0]\", \"Fraud [1]\"]\n",
    ")\n",
    "acc_score = accuracy_score(y_test, predictions)\n"
   ]
  },
  {
   "cell_type": "code",
   "execution_count": 51,
   "metadata": {},
   "outputs": [
    {
     "name": "stdout",
     "output_type": "stream",
     "text": [
      "[0 1]\n",
      "[0 1]\n"
     ]
    }
   ],
   "source": [
    "print(np.unique(y_test))\n",
    "print(np.unique(predictions))"
   ]
  },
  {
   "cell_type": "code",
   "execution_count": 40,
   "metadata": {},
   "outputs": [
    {
     "name": "stdout",
     "output_type": "stream",
     "text": [
      "Confusion Matrix\n"
     ]
    },
    {
     "data": {
      "text/html": [
       "<div>\n",
       "<style scoped>\n",
       "    .dataframe tbody tr th:only-of-type {\n",
       "        vertical-align: middle;\n",
       "    }\n",
       "\n",
       "    .dataframe tbody tr th {\n",
       "        vertical-align: top;\n",
       "    }\n",
       "\n",
       "    .dataframe thead th {\n",
       "        text-align: right;\n",
       "    }\n",
       "</style>\n",
       "<table border=\"1\" class=\"dataframe\">\n",
       "  <thead>\n",
       "    <tr style=\"text-align: right;\">\n",
       "      <th></th>\n",
       "      <th>Legitemate [0]</th>\n",
       "      <th>Fraud [1]</th>\n",
       "    </tr>\n",
       "  </thead>\n",
       "  <tbody>\n",
       "    <tr>\n",
       "      <th>Legitemate [0]</th>\n",
       "      <td>15677</td>\n",
       "      <td>81</td>\n",
       "    </tr>\n",
       "    <tr>\n",
       "      <th>Fraud [1]</th>\n",
       "      <td>330</td>\n",
       "      <td>9</td>\n",
       "    </tr>\n",
       "  </tbody>\n",
       "</table>\n",
       "</div>"
      ],
      "text/plain": [
       "                Legitemate [0]  Fraud [1]\n",
       "Legitemate [0]           15677         81\n",
       "Fraud [1]                  330          9"
      ]
     },
     "metadata": {},
     "output_type": "display_data"
    },
    {
     "name": "stdout",
     "output_type": "stream",
     "text": [
      "Accuracy Score : 0.9744672920419954\n",
      "Classification Report\n",
      "              precision    recall  f1-score   support\n",
      "\n",
      "           0       0.98      0.99      0.99     15758\n",
      "           1       0.10      0.03      0.04       339\n",
      "\n",
      "    accuracy                           0.97     16097\n",
      "   macro avg       0.54      0.51      0.51     16097\n",
      "weighted avg       0.96      0.97      0.97     16097\n",
      "\n"
     ]
    }
   ],
   "source": [
    "# Display results\n",
    "print(\"Confusion Matrix\")\n",
    "display(cm_df)\n",
    "print(f\"Accuracy Score : {acc_score}\")\n",
    "print(\"Classification Report\")\n",
    "print(classification_report(y_test, predictions))"
   ]
  },
  {
   "cell_type": "markdown",
   "metadata": {},
   "source": [
    "Testing balanced model approach to improve fraud detection"
   ]
  },
  {
   "cell_type": "code",
   "execution_count": 41,
   "metadata": {},
   "outputs": [],
   "source": [
    "# Use class_weight='balanced' for cost-sensitive training\n",
    "rf_model = RandomForestClassifier(n_estimators=500, random_state=78, class_weight='balanced')\n",
    "rf_model = rf_model.fit(X_train_balanced, y_train_balanced)"
   ]
  },
  {
   "cell_type": "code",
   "execution_count": 42,
   "metadata": {},
   "outputs": [],
   "source": [
    "# Predict probabilities\n",
    "probabilities = rf_model.predict_proba(X_test_scaled)[:, 1]\n"
   ]
  },
  {
   "cell_type": "code",
   "execution_count": 43,
   "metadata": {},
   "outputs": [],
   "source": [
    "# Adjust the decision threshold to increase recall\n",
    "threshold = 0.3\n",
    "predictions = np.where(probabilities > threshold, 1, 0)"
   ]
  },
  {
   "cell_type": "code",
   "execution_count": 44,
   "metadata": {},
   "outputs": [
    {
     "name": "stdout",
     "output_type": "stream",
     "text": [
      "Confusion Matrix\n"
     ]
    },
    {
     "data": {
      "text/html": [
       "<div>\n",
       "<style scoped>\n",
       "    .dataframe tbody tr th:only-of-type {\n",
       "        vertical-align: middle;\n",
       "    }\n",
       "\n",
       "    .dataframe tbody tr th {\n",
       "        vertical-align: top;\n",
       "    }\n",
       "\n",
       "    .dataframe thead th {\n",
       "        text-align: right;\n",
       "    }\n",
       "</style>\n",
       "<table border=\"1\" class=\"dataframe\">\n",
       "  <thead>\n",
       "    <tr style=\"text-align: right;\">\n",
       "      <th></th>\n",
       "      <th>Legitemate [0]</th>\n",
       "      <th>Fraud [1]</th>\n",
       "    </tr>\n",
       "  </thead>\n",
       "  <tbody>\n",
       "    <tr>\n",
       "      <th>Legitemate [0]</th>\n",
       "      <td>15444</td>\n",
       "      <td>314</td>\n",
       "    </tr>\n",
       "    <tr>\n",
       "      <th>Fraud [1]</th>\n",
       "      <td>313</td>\n",
       "      <td>26</td>\n",
       "    </tr>\n",
       "  </tbody>\n",
       "</table>\n",
       "</div>"
      ],
      "text/plain": [
       "                Legitemate [0]  Fraud [1]\n",
       "Legitemate [0]           15444        314\n",
       "Fraud [1]                  313         26"
      ]
     },
     "metadata": {},
     "output_type": "display_data"
    },
    {
     "name": "stdout",
     "output_type": "stream",
     "text": [
      "Accuracy Score : 0.961048642604212\n",
      "Classification Report\n",
      "              precision    recall  f1-score   support\n",
      "\n",
      "           0       0.98      0.98      0.98     15758\n",
      "           1       0.08      0.08      0.08       339\n",
      "\n",
      "    accuracy                           0.96     16097\n",
      "   macro avg       0.53      0.53      0.53     16097\n",
      "weighted avg       0.96      0.96      0.96     16097\n",
      "\n"
     ]
    }
   ],
   "source": [
    "# Evaluations\n",
    "cm = confusion_matrix(y_test, predictions)\n",
    "cm_df = pd.DataFrame(\n",
    "    cm, index=[\"Legitemate [0]\", \"Fraud [1]\"], columns=[\"Legitemate [0]\", \"Fraud [1]\"]\n",
    ")\n",
    "acc_score = accuracy_score(y_test, predictions)\n",
    "\n",
    "# Display results\n",
    "print(\"Confusion Matrix\")\n",
    "display(cm_df)\n",
    "print(f\"Accuracy Score : {acc_score}\")\n",
    "print(\"Classification Report\")\n",
    "print(classification_report(y_test, predictions))"
   ]
  },
  {
   "cell_type": "markdown",
   "metadata": {},
   "source": [
    "Increased a recall at cost of accuracy - dismall results - attempting to improve the model with XBoost to further improve fraud detection recall"
   ]
  },
  {
   "cell_type": "code",
   "execution_count": 45,
   "metadata": {},
   "outputs": [],
   "source": [
    "import xgboost as xgb"
   ]
  },
  {
   "cell_type": "code",
   "execution_count": 46,
   "metadata": {},
   "outputs": [],
   "source": [
    "# Convert the dataset into an optimized data structure that XGBoost supports\n",
    "dtrain = xgb.DMatrix(X_train_scaled, label=y_train)\n",
    "dtest = xgb.DMatrix(X_test_scaled, label=y_test)"
   ]
  },
  {
   "cell_type": "code",
   "execution_count": 47,
   "metadata": {},
   "outputs": [],
   "source": [
    "scale_pos_weight_val = float((y_train == 0).sum() / (y_train == 1).sum())"
   ]
  },
  {
   "cell_type": "code",
   "execution_count": 48,
   "metadata": {},
   "outputs": [],
   "source": [
    "params = {\n",
    "    'objective': 'binary:logistic',\n",
    "    'eval_metric': 'logloss',\n",
    "    'max_depth': 6,\n",
    "    'scale_pos_weight': scale_pos_weight_val,  # corrected this line\n",
    "    'eta': 0.1\n",
    "}"
   ]
  },
  {
   "cell_type": "code",
   "execution_count": 49,
   "metadata": {},
   "outputs": [],
   "source": [
    "# Train the model\n",
    "num_rounds = 300\n",
    "bst = xgb.train(params, dtrain, num_rounds)\n",
    "\n",
    "# Predict probabilities\n",
    "probabilities = bst.predict(dtest)\n",
    "predictions = [1 if prob > 0.5 else 0 for prob in probabilities]\n",
    "\n",
    "# Evaluation\n",
    "cm = confusion_matrix(y_test, predictions)\n",
    "cm_df = pd.DataFrame(\n",
    "    cm, index=[\"Legitemate [0]\", \"Fraud [1]\"], columns=[\"Legitemate [0]\", \"Fraud [1]\"]\n",
    ")\n",
    "acc_score = accuracy_score(y_test, predictions)"
   ]
  },
  {
   "cell_type": "code",
   "execution_count": 50,
   "metadata": {},
   "outputs": [
    {
     "name": "stdout",
     "output_type": "stream",
     "text": [
      "Confusion Matrix\n"
     ]
    },
    {
     "data": {
      "text/html": [
       "<div>\n",
       "<style scoped>\n",
       "    .dataframe tbody tr th:only-of-type {\n",
       "        vertical-align: middle;\n",
       "    }\n",
       "\n",
       "    .dataframe tbody tr th {\n",
       "        vertical-align: top;\n",
       "    }\n",
       "\n",
       "    .dataframe thead th {\n",
       "        text-align: right;\n",
       "    }\n",
       "</style>\n",
       "<table border=\"1\" class=\"dataframe\">\n",
       "  <thead>\n",
       "    <tr style=\"text-align: right;\">\n",
       "      <th></th>\n",
       "      <th>Legitemate [0]</th>\n",
       "      <th>Fraud [1]</th>\n",
       "    </tr>\n",
       "  </thead>\n",
       "  <tbody>\n",
       "    <tr>\n",
       "      <th>Legitemate [0]</th>\n",
       "      <td>12616</td>\n",
       "      <td>3142</td>\n",
       "    </tr>\n",
       "    <tr>\n",
       "      <th>Fraud [1]</th>\n",
       "      <td>61</td>\n",
       "      <td>278</td>\n",
       "    </tr>\n",
       "  </tbody>\n",
       "</table>\n",
       "</div>"
      ],
      "text/plain": [
       "                Legitemate [0]  Fraud [1]\n",
       "Legitemate [0]           12616       3142\n",
       "Fraud [1]                   61        278"
      ]
     },
     "metadata": {},
     "output_type": "display_data"
    },
    {
     "name": "stdout",
     "output_type": "stream",
     "text": [
      "Accuracy Score : 0.8010188233832392\n",
      "Classification Report\n",
      "              precision    recall  f1-score   support\n",
      "\n",
      "           0       1.00      0.80      0.89     15758\n",
      "           1       0.08      0.82      0.15       339\n",
      "\n",
      "    accuracy                           0.80     16097\n",
      "   macro avg       0.54      0.81      0.52     16097\n",
      "weighted avg       0.98      0.80      0.87     16097\n",
      "\n"
     ]
    }
   ],
   "source": [
    "# Display results\n",
    "print(\"Confusion Matrix\")\n",
    "display(cm_df)\n",
    "print(f\"Accuracy Score : {acc_score}\")\n",
    "print(\"Classification Report\")\n",
    "print(classification_report(y_test, predictions))"
   ]
  },
  {
   "cell_type": "markdown",
   "metadata": {},
   "source": [
    "Classification Report:\n",
    "\n",
    "Class 0 (Legitimate Transactions):\n",
    "\n",
    "Precision: 1.00 (When the model predicted a transaction was legitimate, it was correct 100% of the time.) Recall: 0.80 (The model correctly identified 80% of all legitimate transactions.) F1-Score: 0.89 (The harmonic mean of precision and recall, giving a balanced measure for this class.) Class 1 (Fraudulent Transactions):\n",
    "\n",
    "Precision: 0.08 (When the model predicted a transaction was fraudulent, it was correct only 8% of the time.) Recall: 0.84 (The model correctly identified 84% of all fraudulent transactions, which is a good recall rate for fraud detection. However, this came at the cost of having many false positives.) F1-Score: 0.15 (Given the low precision and high recall, the F1-score for this class is low, indicating a potential area of improvement.)\n",
    "\n",
    "Interpretation: The model seems to be taking a conservative approach to fraud detection. While it has done a commendable job in identifying 84% of the fraudulent transactions (recall for Class 1), this high recall rate for fraudulent transactions has come at the expense of a large number of false positives (3,146 legitimate transactions incorrectly flagged as fraudulent). This is reflected in the very low precision (0.08) for Class 1.\n",
    "\n",
    "Such a model could be problematic in real-world scenarios, especially if there are high costs or inconveniences associated with falsely flagging a transaction as fraudulent."
   ]
  }
 ],
 "metadata": {
  "kernelspec": {
   "display_name": "base",
   "language": "python",
   "name": "python3"
  },
  "language_info": {
   "codemirror_mode": {
    "name": "ipython",
    "version": 3
   },
   "file_extension": ".py",
   "mimetype": "text/x-python",
   "name": "python",
   "nbconvert_exporter": "python",
   "pygments_lexer": "ipython3",
   "version": "3.10.12"
  },
  "orig_nbformat": 4
 },
 "nbformat": 4,
 "nbformat_minor": 2
}
